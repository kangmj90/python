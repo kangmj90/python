{
 "cells": [
  {
   "cell_type": "code",
   "execution_count": 1,
   "metadata": {},
   "outputs": [],
   "source": [
    "import pickle"
   ]
  },
  {
   "cell_type": "markdown",
   "metadata": {},
   "source": [
    "magic command '%''\n",
    "numpy\n",
    "pandas"
   ]
  },
  {
   "cell_type": "code",
   "execution_count": 3,
   "metadata": {},
   "outputs": [
    {
     "name": "stdout",
     "output_type": "stream",
     "text": [
      "\n"
     ]
    }
   ],
   "source": [
    "print()\n",
    "with open('test.txt', 'w') as f:\n",
    "    print('TEST', file=f)"
   ]
  },
  {
   "cell_type": "code",
   "execution_count": 2,
   "metadata": {},
   "outputs": [
    {
     "name": "stdout",
     "output_type": "stream",
     "text": [
      "1\n",
      "1\n",
      "1\n",
      "1\n",
      "1\n",
      "1\n",
      "[[1, 2, 3, 4], [5, 6, 7, 8], [1, 3, 5, 7]]\n"
     ]
    }
   ],
   "source": [
    "ls = [[1,2,3,4], [5,6,7,8], [1,3,5,7]]\n",
    "mask = [1,1,0,0]\n",
    "# [[1,2], [5,6], [1,3]]\n",
    "\n",
    "# 숙제 for문으로\n",
    "for i in ls:\n",
    "    x = []\n",
    "    for j in range(4):\n",
    "        if mask[j]:\n",
    "            print(mask[j])\n",
    "            x.append(i[j])\n",
    "#         if not mask[j]:\n",
    "#             x.append(i[j])\n",
    "#     for k in x:\n",
    "#         i.remove(k)\n",
    "# print(ls)\n",
    "\n",
    "# list, map, lambda"
   ]
  },
  {
   "cell_type": "code",
   "execution_count": 60,
   "metadata": {},
   "outputs": [],
   "source": [
    "import re\n",
    "\n",
    "#정규 표현식\n",
    "# ''% format specifier (형식 지정자)\n",
    "#  \\ escape sequence\n",
    "\n",
    "re.compile(\"\")\n",
    "=\n",
    "re.math(\"\", \"\").groups()"
   ]
  },
  {
   "cell_type": "code",
   "execution_count": 61,
   "metadata": {},
   "outputs": [
    {
     "name": "stdout",
     "output_type": "stream",
     "text": [
      "0123456789abcdefghijklmnopqrstuvwxyzABCDEFGHIJKLMNOPQRSTUVWXYZ!\"#$%&'()*+,-./:;<=>?@[\\]^_`{|}~ \t\n",
      "\r",
      "\u000b",
      "\f",
      "\n"
     ]
    }
   ],
   "source": [
    "import string\n",
    "a = string.printable\n",
    "print(a)"
   ]
  },
  {
   "cell_type": "code",
   "execution_count": 68,
   "metadata": {},
   "outputs": [
    {
     "name": "stdout",
     "output_type": "stream",
     "text": [
      "(b)c(d)\n",
      "(b)\n"
     ]
    }
   ],
   "source": [
    "#a(b)c(d)e\n",
    "\n",
    "# p = re.compile(\"[a-z)]*\")\n",
    "p1 = re.compile(\"\\(.+\\)\")\n",
    "# 최소 검색은 반복 문자 뒤에\n",
    "p2 = re.compile(\"\\(.+?\\)\")\n",
    "s = \"a(b)c(d)e\"\n",
    "print(p1.search(s).group())\n",
    "print(p2.search(s).group())"
   ]
  },
  {
   "cell_type": "code",
   "execution_count": 89,
   "metadata": {},
   "outputs": [
    {
     "data": {
      "text/plain": [
       "'저의 카드 번호는 1234-2331-1123-****와 7384-1234-5432-****와 7384-1234-5432-**** 입니다'"
      ]
     },
     "execution_count": 89,
     "metadata": {},
     "output_type": "execute_result"
    }
   ],
   "source": [
    "comment = \"저의 카드 번호는 1234-2331-1123-9485와 7384 1234 5432 1222와 73841234-5432 1222 입니다\"\n",
    "#  끝에 네자리는 별\n",
    "\n",
    "p = \"([0-9]{4})[- ]?([0-9]{4})[- ]?([0-9]{4})[- ]?([0-9]{4})\"\n",
    "re.sub(p, \"\\g<1>-\\g<2>-\\g<3>-****\", comment)"
   ]
  },
  {
   "cell_type": "code",
   "execution_count": 72,
   "metadata": {},
   "outputs": [
    {
     "data": {
      "text/plain": [
       "1"
      ]
     },
     "execution_count": 72,
     "metadata": {},
     "output_type": "execute_result"
    }
   ],
   "source": [
    "itr = iter([1,2,3])\n",
    "type(itr)"
   ]
  },
  {
   "cell_type": "code",
   "execution_count": 75,
   "metadata": {},
   "outputs": [
    {
     "ename": "StopIteration",
     "evalue": "",
     "output_type": "error",
     "traceback": [
      "\u001b[0;31m---------------------------------------------------------------------------\u001b[0m",
      "\u001b[0;31mStopIteration\u001b[0m                             Traceback (most recent call last)",
      "\u001b[0;32m<ipython-input-75-6693cc261707>\u001b[0m in \u001b[0;36m<module>\u001b[0;34m\u001b[0m\n\u001b[0;32m----> 1\u001b[0;31m \u001b[0mnext\u001b[0m\u001b[0;34m(\u001b[0m\u001b[0mitr\u001b[0m\u001b[0;34m)\u001b[0m\u001b[0;34m\u001b[0m\u001b[0;34m\u001b[0m\u001b[0m\n\u001b[0m",
      "\u001b[0;31mStopIteration\u001b[0m: "
     ]
    }
   ],
   "source": [
    "next(itr)"
   ]
  },
  {
   "cell_type": "code",
   "execution_count": 28,
   "metadata": {},
   "outputs": [
    {
     "name": "stdout",
     "output_type": "stream",
     "text": [
      "1\n",
      "1\n",
      "2\n",
      "3\n",
      "5\n",
      "8\n",
      "13\n",
      "21\n",
      "34\n"
     ]
    }
   ],
   "source": [
    "# 피보나치 for문\n",
    "\n",
    "# abc = []\n",
    "# for i in range(0, 10):\n",
    "#     if (i < 2):\n",
    "#         abc.append(1)\n",
    "#     else:\n",
    "#         abc.append(abc[i-1] + abc[i-2])\n",
    "# print(abc)\n",
    "\n",
    "def func_p(x):\n",
    "    if x < 2:\n",
    "        return x\n",
    "    else:\n",
    "        return (func_p(x-1)) + (func_p(x-2))\n",
    "    \n",
    "for i in range(1, 10):\n",
    "    print(func_p(i))"
   ]
  }
 ],
 "metadata": {
  "kernelspec": {
   "display_name": "Python 3",
   "language": "python",
   "name": "python3"
  },
  "language_info": {
   "codemirror_mode": {
    "name": "ipython",
    "version": 3
   },
   "file_extension": ".py",
   "mimetype": "text/x-python",
   "name": "python",
   "nbconvert_exporter": "python",
   "pygments_lexer": "ipython3",
   "version": "3.7.4"
  }
 },
 "nbformat": 4,
 "nbformat_minor": 2
}
