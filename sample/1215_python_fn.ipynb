{
 "cells": [
  {
   "cell_type": "code",
   "execution_count": 3,
   "metadata": {},
   "outputs": [
    {
     "data": {
      "text/plain": [
       "[0, 1, 2, 3, 4, 5, 6, 7, 8, 9]"
      ]
     },
     "execution_count": 3,
     "metadata": {},
     "output_type": "execute_result"
    }
   ],
   "source": [
    "ls = [i for i in range(10)]\n",
    "ls"
   ]
  },
  {
   "cell_type": "code",
   "execution_count": 14,
   "metadata": {},
   "outputs": [
    {
     "data": {
      "text/plain": [
       "[1, 3, 5, 7, 9]"
      ]
     },
     "execution_count": 14,
     "metadata": {},
     "output_type": "execute_result"
    }
   ],
   "source": [
    "# 홀수 [1,3,5,7,9]\n",
    "\n",
    "ls1 = []\n",
    "for i in range(10):\n",
    "    if (i % 2  != 0):\n",
    "        ls1.append(i)\n",
    "ls1\n",
    "\n",
    "ls2 = [i for i in range(10) if i%2]\n",
    "ls2"
   ]
  },
  {
   "cell_type": "code",
   "execution_count": 13,
   "metadata": {},
   "outputs": [
    {
     "name": "stdout",
     "output_type": "stream",
     "text": [
      "Once deleted, variables cannot be recovered. Proceed (y/[n])? y\n"
     ]
    }
   ],
   "source": [
    "%reset"
   ]
  },
  {
   "cell_type": "code",
   "execution_count": 16,
   "metadata": {},
   "outputs": [
    {
     "data": {
      "text/plain": [
       "[0, 1, 0, 3, 0, 5, 0, 7, 0, 9]"
      ]
     },
     "execution_count": 16,
     "metadata": {},
     "output_type": "execute_result"
    }
   ],
   "source": [
    "# [0,1,0,3,0,5,0,7,0,9]\n",
    "\n",
    "ls3 = [i if i%2 else 0 for i in range(10)]\n",
    "ls3"
   ]
  },
  {
   "cell_type": "code",
   "execution_count": null,
   "metadata": {},
   "outputs": [],
   "source": [
    "map()\n",
    "filter()\n",
    "reduce() -> import"
   ]
  },
  {
   "cell_type": "markdown",
   "metadata": {},
   "source": [
    "Class\n"
   ]
  },
  {
   "cell_type": "markdown",
   "metadata": {},
   "source": [
    "계산기.\n",
    "x2 , reverse (끝자리만 변경) button\n",
    "ex) 1234 -> 4231\n",
    "초기 숫자 1로 77, 757 이라는 값이 나오기 위해 두 개의 버튼을 사용하여 코딩\n",
    "Hint : 재귀함수 사용 불가"
   ]
  },
  {
   "cell_type": "code",
   "execution_count": 22,
   "metadata": {},
   "outputs": [],
   "source": [
    "f = open(\"grade.csv\", \"w\")\n",
    "\n",
    "w = \"\"\"num, subject, points\n",
    "1. Math, 90\n",
    "2. Korean, 80\n",
    "3. English, 100\n",
    "4. Science, 70\n",
    "5. Computher, 90\"\"\"\n",
    "\n",
    "\n",
    "f.write(w)\n",
    "f.close()"
   ]
  },
  {
   "cell_type": "code",
   "execution_count": 46,
   "metadata": {},
   "outputs": [
    {
     "name": "stdout",
     "output_type": "stream",
     "text": [
      "['2. Korean, 80\\n', '3. English, 100\\n', '4. Science, 70\\n']\n"
     ]
    }
   ],
   "source": [
    "f = open(\"grade.csv\", \"r\")\n",
    "ln = f.readlines()\n",
    "print(ln[0])"
   ]
  },
  {
   "cell_type": "code",
   "execution_count": 1,
   "metadata": {
    "scrolled": true
   },
   "outputs": [
    {
     "data": {
      "text/plain": [
       "'MMMMRMRMRMR'"
      ]
     },
     "execution_count": 1,
     "metadata": {},
     "output_type": "execute_result"
    }
   ],
   "source": [
    "def func_multiply(x):\n",
    "    return x * 2\n",
    "\n",
    "def func_reversed(x):\n",
    "    strx = str(x)\n",
    "    rvs = strx[-1] + strx[1:len(strx) - 1] + strx[0]\n",
    "    return int(rvs)\n",
    "\n",
    "def func_convert(str_x, x):\n",
    "    if str_x == 'R':\n",
    "        return func_reversed(x)\n",
    "    else:\n",
    "        return func_multiply(x)\n",
    "\n",
    "def func_search(param):\n",
    "    x = 1\n",
    "    str_x = ''\n",
    "    str_last = ''\n",
    "    while True:\n",
    "        if x > param:\n",
    "            break\n",
    "        elif x < 10:\n",
    "            str_x += 'M'\n",
    "            str_last = 'M'\n",
    "        elif x > 10:\n",
    "            if str_last == 'M':\n",
    "                str_x += 'R'\n",
    "                str_last = 'R'\n",
    "            elif str_last == 'R':\n",
    "                str_x += 'M'\n",
    "                str_last = 'M'\n",
    "        x = func_convert(str_last, x)\n",
    "    return str_x\n",
    "    \n",
    "func_search(770)"
   ]
  }
 ],
 "metadata": {
  "kernelspec": {
   "display_name": "Python 3",
   "language": "python",
   "name": "python3"
  },
  "language_info": {
   "codemirror_mode": {
    "name": "ipython",
    "version": 3
   },
   "file_extension": ".py",
   "mimetype": "text/x-python",
   "name": "python",
   "nbconvert_exporter": "python",
   "pygments_lexer": "ipython3",
   "version": "3.7.4"
  }
 },
 "nbformat": 4,
 "nbformat_minor": 2
}
