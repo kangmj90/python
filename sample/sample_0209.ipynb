{
 "cells": [
  {
   "cell_type": "markdown",
   "metadata": {},
   "source": [
    "## Web Crawling (Web Scrapping)"
   ]
  },
  {
   "cell_type": "markdown",
   "metadata": {},
   "source": [
    "테스트용 브라우저\n",
    "\n",
    "request\n",
    "selenium"
   ]
  },
  {
   "cell_type": "code",
   "execution_count": 1,
   "metadata": {},
   "outputs": [],
   "source": [
    "import pandas as pd"
   ]
  },
  {
   "cell_type": "code",
   "execution_count": 2,
   "metadata": {},
   "outputs": [],
   "source": [
    "import requests"
   ]
  },
  {
   "cell_type": "markdown",
   "metadata": {},
   "source": [
    "네이버 주식데이터 크롤링 하기 !\n",
    "https://m.stock.naver.com\n",
    "\n",
    "웹에서 크롤링 할 때 웹 페이지가 어렵다면 모바일 페이지에서 접근"
   ]
  },
  {
   "cell_type": "code",
   "execution_count": 5,
   "metadata": {},
   "outputs": [],
   "source": [
    "def make_url(page_size=20, page=1):\n",
    "    return \"https://m.stock.naver.com/api/json/sise/dailySiseIndexListJson.nhn?code=KOSPI&pageSize={}&page={}\"\\\n",
    "        .format(page_size, page)"
   ]
  },
  {
   "cell_type": "code",
   "execution_count": 8,
   "metadata": {},
   "outputs": [
    {
     "data": {
      "text/plain": [
       "'https://m.stock.naver.com/api/json/sise/dailySiseIndexListJson.nhn?code=KOSPI&pageSize=20&page=1'"
      ]
     },
     "execution_count": 8,
     "metadata": {},
     "output_type": "execute_result"
    }
   ],
   "source": [
    "url = make_url(20, 1)\n",
    "url"
   ]
  },
  {
   "cell_type": "code",
   "execution_count": 9,
   "metadata": {},
   "outputs": [
    {
     "data": {
      "text/plain": [
       "<Response [200]>"
      ]
     },
     "execution_count": 9,
     "metadata": {},
     "output_type": "execute_result"
    }
   ],
   "source": [
    "response = requests.get(url)\n",
    "response"
   ]
  },
  {
   "cell_type": "code",
   "execution_count": 11,
   "metadata": {},
   "outputs": [
    {
     "data": {
      "text/plain": [
       "dict"
      ]
     },
     "execution_count": 11,
     "metadata": {},
     "output_type": "execute_result"
    }
   ],
   "source": [
    "kospi_json = response.json()\n",
    "type(kospi_json)"
   ]
  },
  {
   "cell_type": "code",
   "execution_count": 12,
   "metadata": {},
   "outputs": [
    {
     "data": {
      "text/plain": [
       "20"
      ]
     },
     "execution_count": 12,
     "metadata": {},
     "output_type": "execute_result"
    }
   ],
   "source": [
    "kospi = kospi_json['result']['siseList']\n",
    "len(kospi)"
   ]
  },
  {
   "cell_type": "code",
   "execution_count": 13,
   "metadata": {},
   "outputs": [
    {
     "data": {
      "text/plain": [
       "[{'cd': 'KOSPI',\n",
       "  'dt': '20200207',\n",
       "  'ncv': 2211.95,\n",
       "  'cv': -15.99,\n",
       "  'cr': -0.72,\n",
       "  'ov': 2221.49,\n",
       "  'hv': 2223.92,\n",
       "  'lv': 2198.14},\n",
       " {'cd': 'KOSPI',\n",
       "  'dt': '20200206',\n",
       "  'ncv': 2227.94,\n",
       "  'cv': 62.31,\n",
       "  'cr': 2.88,\n",
       "  'ov': 2184.77,\n",
       "  'hv': 2229.99,\n",
       "  'lv': 2182.25}]"
      ]
     },
     "execution_count": 13,
     "metadata": {},
     "output_type": "execute_result"
    }
   ],
   "source": [
    "kospi[:2]"
   ]
  },
  {
   "cell_type": "code",
   "execution_count": 17,
   "metadata": {
    "scrolled": false
   },
   "outputs": [
    {
     "data": {
      "text/html": [
       "<div>\n",
       "<style scoped>\n",
       "    .dataframe tbody tr th:only-of-type {\n",
       "        vertical-align: middle;\n",
       "    }\n",
       "\n",
       "    .dataframe tbody tr th {\n",
       "        vertical-align: top;\n",
       "    }\n",
       "\n",
       "    .dataframe thead th {\n",
       "        text-align: right;\n",
       "    }\n",
       "</style>\n",
       "<table border=\"1\" class=\"dataframe\">\n",
       "  <thead>\n",
       "    <tr style=\"text-align: right;\">\n",
       "      <th></th>\n",
       "      <th>cd</th>\n",
       "      <th>dt</th>\n",
       "      <th>ncv</th>\n",
       "      <th>cv</th>\n",
       "      <th>cr</th>\n",
       "      <th>ov</th>\n",
       "      <th>hv</th>\n",
       "      <th>lv</th>\n",
       "    </tr>\n",
       "  </thead>\n",
       "  <tbody>\n",
       "    <tr>\n",
       "      <td>18</td>\n",
       "      <td>KOSPI</td>\n",
       "      <td>20200110</td>\n",
       "      <td>2206.39</td>\n",
       "      <td>19.94</td>\n",
       "      <td>0.91</td>\n",
       "      <td>2189.48</td>\n",
       "      <td>2206.92</td>\n",
       "      <td>2188.10</td>\n",
       "    </tr>\n",
       "    <tr>\n",
       "      <td>19</td>\n",
       "      <td>KOSPI</td>\n",
       "      <td>20200109</td>\n",
       "      <td>2186.45</td>\n",
       "      <td>35.14</td>\n",
       "      <td>1.63</td>\n",
       "      <td>2182.20</td>\n",
       "      <td>2186.45</td>\n",
       "      <td>2172.16</td>\n",
       "    </tr>\n",
       "  </tbody>\n",
       "</table>\n",
       "</div>"
      ],
      "text/plain": [
       "       cd        dt      ncv     cv    cr       ov       hv       lv\n",
       "18  KOSPI  20200110  2206.39  19.94  0.91  2189.48  2206.92  2188.10\n",
       "19  KOSPI  20200109  2186.45  35.14  1.63  2182.20  2186.45  2172.16"
      ]
     },
     "execution_count": 17,
     "metadata": {},
     "output_type": "execute_result"
    }
   ],
   "source": [
    "df = pd.DataFrame(kospi)\n",
    "df.tail(2)"
   ]
  },
  {
   "cell_type": "code",
   "execution_count": 6,
   "metadata": {},
   "outputs": [],
   "source": [
    "def get_kospi(url): \n",
    "    response = requests.get(url)\n",
    "    \n",
    "    kospi_json = response.json()\n",
    "    \n",
    "    kospi = kospi_json['result']['siseList']\n",
    "    \n",
    "    return pd.DataFrame(kospi)"
   ]
  },
  {
   "cell_type": "code",
   "execution_count": 7,
   "metadata": {
    "scrolled": true
   },
   "outputs": [
    {
     "name": "stdout",
     "output_type": "stream",
     "text": [
      "20\n"
     ]
    },
    {
     "data": {
      "text/html": [
       "<div>\n",
       "<style scoped>\n",
       "    .dataframe tbody tr th:only-of-type {\n",
       "        vertical-align: middle;\n",
       "    }\n",
       "\n",
       "    .dataframe tbody tr th {\n",
       "        vertical-align: top;\n",
       "    }\n",
       "\n",
       "    .dataframe thead th {\n",
       "        text-align: right;\n",
       "    }\n",
       "</style>\n",
       "<table border=\"1\" class=\"dataframe\">\n",
       "  <thead>\n",
       "    <tr style=\"text-align: right;\">\n",
       "      <th></th>\n",
       "      <th>cd</th>\n",
       "      <th>dt</th>\n",
       "      <th>ncv</th>\n",
       "      <th>cv</th>\n",
       "      <th>cr</th>\n",
       "      <th>ov</th>\n",
       "      <th>hv</th>\n",
       "      <th>lv</th>\n",
       "    </tr>\n",
       "  </thead>\n",
       "  <tbody>\n",
       "    <tr>\n",
       "      <td>15</td>\n",
       "      <td>KOSPI</td>\n",
       "      <td>20200115</td>\n",
       "      <td>2230.98</td>\n",
       "      <td>-7.90</td>\n",
       "      <td>-0.35</td>\n",
       "      <td>2229.80</td>\n",
       "      <td>2238.21</td>\n",
       "      <td>2223.39</td>\n",
       "    </tr>\n",
       "    <tr>\n",
       "      <td>16</td>\n",
       "      <td>KOSPI</td>\n",
       "      <td>20200114</td>\n",
       "      <td>2238.88</td>\n",
       "      <td>9.62</td>\n",
       "      <td>0.43</td>\n",
       "      <td>2243.06</td>\n",
       "      <td>2250.79</td>\n",
       "      <td>2232.94</td>\n",
       "    </tr>\n",
       "    <tr>\n",
       "      <td>17</td>\n",
       "      <td>KOSPI</td>\n",
       "      <td>20200113</td>\n",
       "      <td>2229.26</td>\n",
       "      <td>22.87</td>\n",
       "      <td>1.04</td>\n",
       "      <td>2204.49</td>\n",
       "      <td>2230.43</td>\n",
       "      <td>2204.49</td>\n",
       "    </tr>\n",
       "    <tr>\n",
       "      <td>18</td>\n",
       "      <td>KOSPI</td>\n",
       "      <td>20200110</td>\n",
       "      <td>2206.39</td>\n",
       "      <td>19.94</td>\n",
       "      <td>0.91</td>\n",
       "      <td>2189.48</td>\n",
       "      <td>2206.92</td>\n",
       "      <td>2188.10</td>\n",
       "    </tr>\n",
       "    <tr>\n",
       "      <td>19</td>\n",
       "      <td>KOSPI</td>\n",
       "      <td>20200109</td>\n",
       "      <td>2186.45</td>\n",
       "      <td>35.14</td>\n",
       "      <td>1.63</td>\n",
       "      <td>2182.20</td>\n",
       "      <td>2186.45</td>\n",
       "      <td>2172.16</td>\n",
       "    </tr>\n",
       "  </tbody>\n",
       "</table>\n",
       "</div>"
      ],
      "text/plain": [
       "       cd        dt      ncv     cv    cr       ov       hv       lv\n",
       "15  KOSPI  20200115  2230.98  -7.90 -0.35  2229.80  2238.21  2223.39\n",
       "16  KOSPI  20200114  2238.88   9.62  0.43  2243.06  2250.79  2232.94\n",
       "17  KOSPI  20200113  2229.26  22.87  1.04  2204.49  2230.43  2204.49\n",
       "18  KOSPI  20200110  2206.39  19.94  0.91  2189.48  2206.92  2188.10\n",
       "19  KOSPI  20200109  2186.45  35.14  1.63  2182.20  2186.45  2172.16"
      ]
     },
     "execution_count": 7,
     "metadata": {},
     "output_type": "execute_result"
    }
   ],
   "source": [
    "url = make_url(20, 1)\n",
    "kospi_df = get_kospi(url)\n",
    "print(len(kospi_df))\n",
    "kospi_df.tail()"
   ]
  },
  {
   "cell_type": "code",
   "execution_count": 8,
   "metadata": {
    "scrolled": false
   },
   "outputs": [
    {
     "data": {
      "text/html": [
       "<div>\n",
       "<style scoped>\n",
       "    .dataframe tbody tr th:only-of-type {\n",
       "        vertical-align: middle;\n",
       "    }\n",
       "\n",
       "    .dataframe tbody tr th {\n",
       "        vertical-align: top;\n",
       "    }\n",
       "\n",
       "    .dataframe thead th {\n",
       "        text-align: right;\n",
       "    }\n",
       "</style>\n",
       "<table border=\"1\" class=\"dataframe\">\n",
       "  <thead>\n",
       "    <tr style=\"text-align: right;\">\n",
       "      <th></th>\n",
       "      <th>시장</th>\n",
       "      <th>날짜</th>\n",
       "      <th>종가</th>\n",
       "      <th>전일대비</th>\n",
       "      <th>등락률</th>\n",
       "      <th>시가</th>\n",
       "      <th>고가</th>\n",
       "      <th>저가</th>\n",
       "    </tr>\n",
       "  </thead>\n",
       "  <tbody>\n",
       "    <tr>\n",
       "      <td>15</td>\n",
       "      <td>KOSPI</td>\n",
       "      <td>20200115</td>\n",
       "      <td>2230.98</td>\n",
       "      <td>-7.90</td>\n",
       "      <td>-0.35</td>\n",
       "      <td>2229.80</td>\n",
       "      <td>2238.21</td>\n",
       "      <td>2223.39</td>\n",
       "    </tr>\n",
       "    <tr>\n",
       "      <td>16</td>\n",
       "      <td>KOSPI</td>\n",
       "      <td>20200114</td>\n",
       "      <td>2238.88</td>\n",
       "      <td>9.62</td>\n",
       "      <td>0.43</td>\n",
       "      <td>2243.06</td>\n",
       "      <td>2250.79</td>\n",
       "      <td>2232.94</td>\n",
       "    </tr>\n",
       "    <tr>\n",
       "      <td>17</td>\n",
       "      <td>KOSPI</td>\n",
       "      <td>20200113</td>\n",
       "      <td>2229.26</td>\n",
       "      <td>22.87</td>\n",
       "      <td>1.04</td>\n",
       "      <td>2204.49</td>\n",
       "      <td>2230.43</td>\n",
       "      <td>2204.49</td>\n",
       "    </tr>\n",
       "    <tr>\n",
       "      <td>18</td>\n",
       "      <td>KOSPI</td>\n",
       "      <td>20200110</td>\n",
       "      <td>2206.39</td>\n",
       "      <td>19.94</td>\n",
       "      <td>0.91</td>\n",
       "      <td>2189.48</td>\n",
       "      <td>2206.92</td>\n",
       "      <td>2188.10</td>\n",
       "    </tr>\n",
       "    <tr>\n",
       "      <td>19</td>\n",
       "      <td>KOSPI</td>\n",
       "      <td>20200109</td>\n",
       "      <td>2186.45</td>\n",
       "      <td>35.14</td>\n",
       "      <td>1.63</td>\n",
       "      <td>2182.20</td>\n",
       "      <td>2186.45</td>\n",
       "      <td>2172.16</td>\n",
       "    </tr>\n",
       "  </tbody>\n",
       "</table>\n",
       "</div>"
      ],
      "text/plain": [
       "       시장        날짜       종가   전일대비   등락률       시가       고가       저가\n",
       "15  KOSPI  20200115  2230.98  -7.90 -0.35  2229.80  2238.21  2223.39\n",
       "16  KOSPI  20200114  2238.88   9.62  0.43  2243.06  2250.79  2232.94\n",
       "17  KOSPI  20200113  2229.26  22.87  1.04  2204.49  2230.43  2204.49\n",
       "18  KOSPI  20200110  2206.39  19.94  0.91  2189.48  2206.92  2188.10\n",
       "19  KOSPI  20200109  2186.45  35.14  1.63  2182.20  2186.45  2172.16"
      ]
     },
     "execution_count": 8,
     "metadata": {},
     "output_type": "execute_result"
    }
   ],
   "source": [
    "# ohlcv Data : 기본 데이터\n",
    "\n",
    "columns = {\n",
    "    'cd': '시장',\n",
    "    'cv': '전일대비',\n",
    "    'cr':'등락률',\n",
    "    'dt':'날짜',\n",
    "    'hv':'고가',\n",
    "    'lv':'저가',\n",
    "    'ncv':'종가',\n",
    "    'ov': '시가'\n",
    "}\n",
    "\n",
    "kospi_df.rename(columns=columns, inplace=True)\n",
    "kospi_df.tail()"
   ]
  },
  {
   "cell_type": "code",
   "execution_count": 21,
   "metadata": {},
   "outputs": [],
   "source": [
    "import pickle"
   ]
  },
  {
   "cell_type": "code",
   "execution_count": 22,
   "metadata": {},
   "outputs": [],
   "source": [
    "!mkdir datas"
   ]
  },
  {
   "cell_type": "code",
   "execution_count": 23,
   "metadata": {},
   "outputs": [],
   "source": [
    "# w 는 일반 텍스트, wb 는 binary 형식 저장\n",
    "\n",
    "with open('datas/kospi.pkl', 'wb') as f:\n",
    "    pickle.dump(kospi_df, f)"
   ]
  },
  {
   "cell_type": "code",
   "execution_count": 13,
   "metadata": {},
   "outputs": [],
   "source": [
    "%matplotlib inline"
   ]
  },
  {
   "cell_type": "code",
   "execution_count": 14,
   "metadata": {},
   "outputs": [],
   "source": [
    "%config InlineBackend.figure_formant = {'png', 'retina'}"
   ]
  },
  {
   "cell_type": "code",
   "execution_count": 15,
   "metadata": {},
   "outputs": [],
   "source": [
    "import matplotlib as mpl\n",
    "import matplotlib.pyplot as plt\n",
    "import seaborn as sns"
   ]
  },
  {
   "cell_type": "code",
   "execution_count": 16,
   "metadata": {},
   "outputs": [],
   "source": [
    "sns.set()"
   ]
  },
  {
   "cell_type": "code",
   "execution_count": 17,
   "metadata": {
    "scrolled": true
   },
   "outputs": [
    {
     "data": {
      "image/png": "[encoded data removed]",
      "text/plain": [
       "<Figure size 1440x360 with 1 Axes>"
      ]
     },
     "metadata": {},
     "output_type": "display_data"
    }
   ],
   "source": [
    "plt.figure(figsize=(20, 5))\n",
    "\n",
    "plt.plot(kospi_df['날짜'], kospi_df['고가'], 'r*', label='hv')\n",
    "plt.plot(kospi_df['날짜'], kospi_df['저가'], 'go-', label='lv')\n",
    "plt.plot(kospi_df['날짜'], kospi_df['종가'], 'bd--', label='ncv')\n",
    "plt.plot(kospi_df['날짜'], kospi_df['시가'], 'k^-.', label='ov')\n",
    "\n",
    "plt.legend()\n",
    "\n",
    "plt.show()"
   ]
  },
  {
   "cell_type": "code",
   "execution_count": 18,
   "metadata": {},
   "outputs": [],
   "source": [
    "def make_url_(page_size=20, page=1):\n",
    "    return \"https://m.stock.naver.com/api/json/sise/dailySiseIndexListJson.nhn?code=KOSDAQ&pageSize={}&page={}\"\\\n",
    "        .format(page_size, page)"
   ]
  },
  {
   "cell_type": "code",
   "execution_count": 19,
   "metadata": {},
   "outputs": [],
   "source": [
    "def get_kosdaq(url): \n",
    "    response = requests.get(url)\n",
    "    \n",
    "    kosdaq_json = response.json()\n",
    "    \n",
    "    kosdaq = kosdaq_json['result']['siseList']\n",
    "    \n",
    "    return pd.DataFrame(kosdaq)"
   ]
  },
  {
   "cell_type": "code",
   "execution_count": 20,
   "metadata": {
    "scrolled": true
   },
   "outputs": [
    {
     "name": "stdout",
     "output_type": "stream",
     "text": [
      "20\n"
     ]
    },
    {
     "data": {
      "text/html": [
       "<div>\n",
       "<style scoped>\n",
       "    .dataframe tbody tr th:only-of-type {\n",
       "        vertical-align: middle;\n",
       "    }\n",
       "\n",
       "    .dataframe tbody tr th {\n",
       "        vertical-align: top;\n",
       "    }\n",
       "\n",
       "    .dataframe thead th {\n",
       "        text-align: right;\n",
       "    }\n",
       "</style>\n",
       "<table border=\"1\" class=\"dataframe\">\n",
       "  <thead>\n",
       "    <tr style=\"text-align: right;\">\n",
       "      <th></th>\n",
       "      <th>cd</th>\n",
       "      <th>dt</th>\n",
       "      <th>ncv</th>\n",
       "      <th>cv</th>\n",
       "      <th>cr</th>\n",
       "      <th>ov</th>\n",
       "      <th>hv</th>\n",
       "      <th>lv</th>\n",
       "    </tr>\n",
       "  </thead>\n",
       "  <tbody>\n",
       "    <tr>\n",
       "      <td>15</td>\n",
       "      <td>KOSDAQ</td>\n",
       "      <td>20200115</td>\n",
       "      <td>679.16</td>\n",
       "      <td>0.45</td>\n",
       "      <td>0.07</td>\n",
       "      <td>678.83</td>\n",
       "      <td>681.39</td>\n",
       "      <td>676.91</td>\n",
       "    </tr>\n",
       "    <tr>\n",
       "      <td>16</td>\n",
       "      <td>KOSDAQ</td>\n",
       "      <td>20200114</td>\n",
       "      <td>678.71</td>\n",
       "      <td>-0.51</td>\n",
       "      <td>-0.08</td>\n",
       "      <td>682.14</td>\n",
       "      <td>685.88</td>\n",
       "      <td>676.78</td>\n",
       "    </tr>\n",
       "    <tr>\n",
       "      <td>17</td>\n",
       "      <td>KOSDAQ</td>\n",
       "      <td>20200113</td>\n",
       "      <td>679.22</td>\n",
       "      <td>6.19</td>\n",
       "      <td>0.92</td>\n",
       "      <td>673.76</td>\n",
       "      <td>679.22</td>\n",
       "      <td>673.23</td>\n",
       "    </tr>\n",
       "    <tr>\n",
       "      <td>18</td>\n",
       "      <td>KOSDAQ</td>\n",
       "      <td>20200110</td>\n",
       "      <td>673.03</td>\n",
       "      <td>6.94</td>\n",
       "      <td>1.04</td>\n",
       "      <td>668.79</td>\n",
       "      <td>673.03</td>\n",
       "      <td>665.92</td>\n",
       "    </tr>\n",
       "    <tr>\n",
       "      <td>19</td>\n",
       "      <td>KOSDAQ</td>\n",
       "      <td>20200109</td>\n",
       "      <td>666.09</td>\n",
       "      <td>25.15</td>\n",
       "      <td>3.92</td>\n",
       "      <td>657.01</td>\n",
       "      <td>666.09</td>\n",
       "      <td>656.25</td>\n",
       "    </tr>\n",
       "  </tbody>\n",
       "</table>\n",
       "</div>"
      ],
      "text/plain": [
       "        cd        dt     ncv     cv    cr      ov      hv      lv\n",
       "15  KOSDAQ  20200115  679.16   0.45  0.07  678.83  681.39  676.91\n",
       "16  KOSDAQ  20200114  678.71  -0.51 -0.08  682.14  685.88  676.78\n",
       "17  KOSDAQ  20200113  679.22   6.19  0.92  673.76  679.22  673.23\n",
       "18  KOSDAQ  20200110  673.03   6.94  1.04  668.79  673.03  665.92\n",
       "19  KOSDAQ  20200109  666.09  25.15  3.92  657.01  666.09  656.25"
      ]
     },
     "execution_count": 20,
     "metadata": {},
     "output_type": "execute_result"
    }
   ],
   "source": [
    "url = make_url_(20, 1)\n",
    "kosdaq_df = get_kosdaq(url)\n",
    "print(len(kosdaq_df))\n",
    "kosdaq_df.tail()"
   ]
  },
  {
   "cell_type": "code",
   "execution_count": 21,
   "metadata": {
    "scrolled": true
   },
   "outputs": [
    {
     "data": {
      "text/html": [
       "<div>\n",
       "<style scoped>\n",
       "    .dataframe tbody tr th:only-of-type {\n",
       "        vertical-align: middle;\n",
       "    }\n",
       "\n",
       "    .dataframe tbody tr th {\n",
       "        vertical-align: top;\n",
       "    }\n",
       "\n",
       "    .dataframe thead th {\n",
       "        text-align: right;\n",
       "    }\n",
       "</style>\n",
       "<table border=\"1\" class=\"dataframe\">\n",
       "  <thead>\n",
       "    <tr style=\"text-align: right;\">\n",
       "      <th></th>\n",
       "      <th>시장</th>\n",
       "      <th>날짜</th>\n",
       "      <th>종가</th>\n",
       "      <th>전일대비</th>\n",
       "      <th>등락률</th>\n",
       "      <th>시가</th>\n",
       "      <th>고가</th>\n",
       "      <th>저가</th>\n",
       "    </tr>\n",
       "  </thead>\n",
       "  <tbody>\n",
       "    <tr>\n",
       "      <td>15</td>\n",
       "      <td>KOSDAQ</td>\n",
       "      <td>20200115</td>\n",
       "      <td>679.16</td>\n",
       "      <td>0.45</td>\n",
       "      <td>0.07</td>\n",
       "      <td>678.83</td>\n",
       "      <td>681.39</td>\n",
       "      <td>676.91</td>\n",
       "    </tr>\n",
       "    <tr>\n",
       "      <td>16</td>\n",
       "      <td>KOSDAQ</td>\n",
       "      <td>20200114</td>\n",
       "      <td>678.71</td>\n",
       "      <td>-0.51</td>\n",
       "      <td>-0.08</td>\n",
       "      <td>682.14</td>\n",
       "      <td>685.88</td>\n",
       "      <td>676.78</td>\n",
       "    </tr>\n",
       "    <tr>\n",
       "      <td>17</td>\n",
       "      <td>KOSDAQ</td>\n",
       "      <td>20200113</td>\n",
       "      <td>679.22</td>\n",
       "      <td>6.19</td>\n",
       "      <td>0.92</td>\n",
       "      <td>673.76</td>\n",
       "      <td>679.22</td>\n",
       "      <td>673.23</td>\n",
       "    </tr>\n",
       "    <tr>\n",
       "      <td>18</td>\n",
       "      <td>KOSDAQ</td>\n",
       "      <td>20200110</td>\n",
       "      <td>673.03</td>\n",
       "      <td>6.94</td>\n",
       "      <td>1.04</td>\n",
       "      <td>668.79</td>\n",
       "      <td>673.03</td>\n",
       "      <td>665.92</td>\n",
       "    </tr>\n",
       "    <tr>\n",
       "      <td>19</td>\n",
       "      <td>KOSDAQ</td>\n",
       "      <td>20200109</td>\n",
       "      <td>666.09</td>\n",
       "      <td>25.15</td>\n",
       "      <td>3.92</td>\n",
       "      <td>657.01</td>\n",
       "      <td>666.09</td>\n",
       "      <td>656.25</td>\n",
       "    </tr>\n",
       "  </tbody>\n",
       "</table>\n",
       "</div>"
      ],
      "text/plain": [
       "        시장        날짜      종가   전일대비   등락률      시가      고가      저가\n",
       "15  KOSDAQ  20200115  679.16   0.45  0.07  678.83  681.39  676.91\n",
       "16  KOSDAQ  20200114  678.71  -0.51 -0.08  682.14  685.88  676.78\n",
       "17  KOSDAQ  20200113  679.22   6.19  0.92  673.76  679.22  673.23\n",
       "18  KOSDAQ  20200110  673.03   6.94  1.04  668.79  673.03  665.92\n",
       "19  KOSDAQ  20200109  666.09  25.15  3.92  657.01  666.09  656.25"
      ]
     },
     "execution_count": 21,
     "metadata": {},
     "output_type": "execute_result"
    }
   ],
   "source": [
    "columns = {\n",
    "    'cd': '시장',\n",
    "    'cv': '전일대비',\n",
    "    'cr':'등락률',\n",
    "    'dt':'날짜',\n",
    "    'hv':'고가',\n",
    "    'lv':'저가',\n",
    "    'ncv':'종가',\n",
    "    'ov': '시가'\n",
    "}\n",
    "\n",
    "kosdaq_df.rename(columns=columns, inplace=True)\n",
    "kosdaq_df.tail()"
   ]
  },
  {
   "cell_type": "code",
   "execution_count": 36,
   "metadata": {},
   "outputs": [],
   "source": [
    "with open('datas/kosdaq.pkl', 'wb') as f:\n",
    "    pickle.dump(kosdaq_df, f)"
   ]
  },
  {
   "cell_type": "code",
   "execution_count": null,
   "metadata": {},
   "outputs": [],
   "source": [
    "# make graph"
   ]
  },
  {
   "cell_type": "code",
   "execution_count": 29,
   "metadata": {},
   "outputs": [],
   "source": [
    "def make_url__(page_size=20, page=1):\n",
    "    return \"https://m.stock.naver.com/api/json/marketindex/marketIndexDay.nhn?marketIndexCd=FX_USDKRW&pageSize={}&page={}\"\\\n",
    "        .format(page_size, page)"
   ]
  },
  {
   "cell_type": "code",
   "execution_count": 37,
   "metadata": {},
   "outputs": [],
   "source": [
    "def get_exchange(url): \n",
    "#     response = requests.get(url)\n",
    "    \n",
    "#     exchange_json = response.json()\n",
    "\n",
    "    exchange_json = {\"result\":{\"marketIndexDay\":[{\"dt\":\"20200207\",\"nv\":1193.5,\"cv\":9.5,\"cr\":0.8,\"cbv\":1214.38,\"csv\":1172.62,\"sv\":1205.1,\"rv\":1181.9},{\"dt\":\"20200206\",\"nv\":1184.0,\"cv\":-0.5,\"cr\":-0.04,\"cbv\":1204.72,\"csv\":1163.28,\"sv\":1195.6,\"rv\":1172.4},{\"dt\":\"20200205\",\"nv\":1184.5,\"cv\":-4.0,\"cr\":-0.34,\"cbv\":1205.22,\"csv\":1163.78,\"sv\":1196.1,\"rv\":1172.9},{\"dt\":\"20200204\",\"nv\":1188.5,\"cv\":-5.5,\"cr\":-0.46,\"cbv\":1209.29,\"csv\":1167.71,\"sv\":1200.1,\"rv\":1176.9},{\"dt\":\"20200203\",\"nv\":1194.0,\"cv\":-0.5,\"cr\":-0.04,\"cbv\":1214.89,\"csv\":1173.11,\"sv\":1205.7,\"rv\":1182.3},{\"dt\":\"20200131\",\"nv\":1194.5,\"cv\":5.5,\"cr\":0.46,\"cbv\":1215.4,\"csv\":1173.6,\"sv\":1206.2,\"rv\":1182.8},{\"dt\":\"20200130\",\"nv\":1189.0,\"cv\":10.0,\"cr\":0.85,\"cbv\":1209.8,\"csv\":1168.2,\"sv\":1200.6,\"rv\":1177.4},{\"dt\":\"20200129\",\"nv\":1179.0,\"cv\":-0.5,\"cr\":-0.04,\"cbv\":1199.63,\"csv\":1158.37,\"sv\":1190.5,\"rv\":1167.5},{\"dt\":\"20200128\",\"nv\":1179.5,\"cv\":11.5,\"cr\":0.98,\"cbv\":1200.14,\"csv\":1158.86,\"sv\":1191.0,\"rv\":1168.0},{\"dt\":\"20200123\",\"nv\":1168.0,\"cv\":3.0,\"cr\":0.26,\"cbv\":1188.44,\"csv\":1147.56,\"sv\":1179.4,\"rv\":1156.6},{\"dt\":\"20200122\",\"nv\":1165.0,\"cv\":-2.0,\"cr\":-0.17,\"cbv\":1185.38,\"csv\":1144.62,\"sv\":1176.4,\"rv\":1153.6},{\"dt\":\"20200121\",\"nv\":1167.0,\"cv\":6.5,\"cr\":0.56,\"cbv\":1187.42,\"csv\":1146.58,\"sv\":1178.4,\"rv\":1155.6},{\"dt\":\"20200120\",\"nv\":1160.5,\"cv\":1.5,\"cr\":0.13,\"cbv\":1180.8,\"csv\":1140.2,\"sv\":1171.8,\"rv\":1149.2},{\"dt\":\"20200117\",\"nv\":1159.0,\"cv\":-1.5,\"cr\":-0.13,\"cbv\":1179.28,\"csv\":1138.72,\"sv\":1170.3,\"rv\":1147.7},{\"dt\":\"20200116\",\"nv\":1160.5,\"cv\":2.5,\"cr\":0.22,\"cbv\":1180.8,\"csv\":1140.2,\"sv\":1171.8,\"rv\":1149.2},{\"dt\":\"20200115\",\"nv\":1158.0,\"cv\":-0.5,\"cr\":-0.04,\"cbv\":1178.26,\"csv\":1137.74,\"sv\":1169.3,\"rv\":1146.7},{\"dt\":\"20200114\",\"nv\":1158.5,\"cv\":1.5,\"cr\":0.13,\"cbv\":1178.77,\"csv\":1138.23,\"sv\":1169.8,\"rv\":1147.2},{\"dt\":\"20200113\",\"nv\":1157.0,\"cv\":-4.5,\"cr\":-0.39,\"cbv\":1177.24,\"csv\":1136.76,\"sv\":1168.3,\"rv\":1145.7},{\"dt\":\"20200110\",\"nv\":1161.5,\"cv\":1.5,\"cr\":0.13,\"cbv\":1181.82,\"csv\":1141.18,\"sv\":1172.8,\"rv\":1150.2},{\"dt\":\"20200109\",\"nv\":1160.0,\"cv\":-9.0,\"cr\":-0.77,\"cbv\":1180.3,\"csv\":1139.7,\"sv\":1171.3,\"rv\":1148.7}]},\"resultCode\":\"success\"}\n",
    "    \n",
    "    exchange = exchange_json['result']['marketIndexDay']\n",
    "    \n",
    "    return pd.DataFrame(exchange)"
   ]
  },
  {
   "cell_type": "code",
   "execution_count": 40,
   "metadata": {
    "scrolled": true
   },
   "outputs": [
    {
     "name": "stdout",
     "output_type": "stream",
     "text": [
      "20\n"
     ]
    },
    {
     "data": {
      "text/html": [
       "<div>\n",
       "<style scoped>\n",
       "    .dataframe tbody tr th:only-of-type {\n",
       "        vertical-align: middle;\n",
       "    }\n",
       "\n",
       "    .dataframe tbody tr th {\n",
       "        vertical-align: top;\n",
       "    }\n",
       "\n",
       "    .dataframe thead th {\n",
       "        text-align: right;\n",
       "    }\n",
       "</style>\n",
       "<table border=\"1\" class=\"dataframe\">\n",
       "  <thead>\n",
       "    <tr style=\"text-align: right;\">\n",
       "      <th></th>\n",
       "      <th>dt</th>\n",
       "      <th>nv</th>\n",
       "      <th>cv</th>\n",
       "      <th>cr</th>\n",
       "      <th>cbv</th>\n",
       "      <th>csv</th>\n",
       "      <th>sv</th>\n",
       "      <th>rv</th>\n",
       "    </tr>\n",
       "  </thead>\n",
       "  <tbody>\n",
       "    <tr>\n",
       "      <td>15</td>\n",
       "      <td>20200115</td>\n",
       "      <td>1158.0</td>\n",
       "      <td>-0.5</td>\n",
       "      <td>-0.04</td>\n",
       "      <td>1178.26</td>\n",
       "      <td>1137.74</td>\n",
       "      <td>1169.3</td>\n",
       "      <td>1146.7</td>\n",
       "    </tr>\n",
       "    <tr>\n",
       "      <td>16</td>\n",
       "      <td>20200114</td>\n",
       "      <td>1158.5</td>\n",
       "      <td>1.5</td>\n",
       "      <td>0.13</td>\n",
       "      <td>1178.77</td>\n",
       "      <td>1138.23</td>\n",
       "      <td>1169.8</td>\n",
       "      <td>1147.2</td>\n",
       "    </tr>\n",
       "    <tr>\n",
       "      <td>17</td>\n",
       "      <td>20200113</td>\n",
       "      <td>1157.0</td>\n",
       "      <td>-4.5</td>\n",
       "      <td>-0.39</td>\n",
       "      <td>1177.24</td>\n",
       "      <td>1136.76</td>\n",
       "      <td>1168.3</td>\n",
       "      <td>1145.7</td>\n",
       "    </tr>\n",
       "    <tr>\n",
       "      <td>18</td>\n",
       "      <td>20200110</td>\n",
       "      <td>1161.5</td>\n",
       "      <td>1.5</td>\n",
       "      <td>0.13</td>\n",
       "      <td>1181.82</td>\n",
       "      <td>1141.18</td>\n",
       "      <td>1172.8</td>\n",
       "      <td>1150.2</td>\n",
       "    </tr>\n",
       "    <tr>\n",
       "      <td>19</td>\n",
       "      <td>20200109</td>\n",
       "      <td>1160.0</td>\n",
       "      <td>-9.0</td>\n",
       "      <td>-0.77</td>\n",
       "      <td>1180.30</td>\n",
       "      <td>1139.70</td>\n",
       "      <td>1171.3</td>\n",
       "      <td>1148.7</td>\n",
       "    </tr>\n",
       "  </tbody>\n",
       "</table>\n",
       "</div>"
      ],
      "text/plain": [
       "          dt      nv   cv    cr      cbv      csv      sv      rv\n",
       "15  20200115  1158.0 -0.5 -0.04  1178.26  1137.74  1169.3  1146.7\n",
       "16  20200114  1158.5  1.5  0.13  1178.77  1138.23  1169.8  1147.2\n",
       "17  20200113  1157.0 -4.5 -0.39  1177.24  1136.76  1168.3  1145.7\n",
       "18  20200110  1161.5  1.5  0.13  1181.82  1141.18  1172.8  1150.2\n",
       "19  20200109  1160.0 -9.0 -0.77  1180.30  1139.70  1171.3  1148.7"
      ]
     },
     "execution_count": 40,
     "metadata": {},
     "output_type": "execute_result"
    }
   ],
   "source": [
    "url = make_url__(20, 1)\n",
    "exchange_df = get_exchange(url)\n",
    "print(len(exchange_df))\n",
    "exchange_df.tail()"
   ]
  },
  {
   "cell_type": "code",
   "execution_count": 42,
   "metadata": {
    "scrolled": true
   },
   "outputs": [
    {
     "data": {
      "text/html": [
       "<div>\n",
       "<style scoped>\n",
       "    .dataframe tbody tr th:only-of-type {\n",
       "        vertical-align: middle;\n",
       "    }\n",
       "\n",
       "    .dataframe tbody tr th {\n",
       "        vertical-align: top;\n",
       "    }\n",
       "\n",
       "    .dataframe thead th {\n",
       "        text-align: right;\n",
       "    }\n",
       "</style>\n",
       "<table border=\"1\" class=\"dataframe\">\n",
       "  <thead>\n",
       "    <tr style=\"text-align: right;\">\n",
       "      <th></th>\n",
       "      <th>날짜</th>\n",
       "      <th>종가</th>\n",
       "      <th>전일대비</th>\n",
       "      <th>등락율</th>\n",
       "      <th>현찰 살 때</th>\n",
       "      <th>현찰팔 때</th>\n",
       "      <th>송금 보낼 때</th>\n",
       "      <th>송금 받을 때</th>\n",
       "    </tr>\n",
       "  </thead>\n",
       "  <tbody>\n",
       "    <tr>\n",
       "      <td>0</td>\n",
       "      <td>20200207</td>\n",
       "      <td>1193.5</td>\n",
       "      <td>9.5</td>\n",
       "      <td>0.80</td>\n",
       "      <td>1214.38</td>\n",
       "      <td>1172.62</td>\n",
       "      <td>1205.1</td>\n",
       "      <td>1181.9</td>\n",
       "    </tr>\n",
       "    <tr>\n",
       "      <td>1</td>\n",
       "      <td>20200206</td>\n",
       "      <td>1184.0</td>\n",
       "      <td>-0.5</td>\n",
       "      <td>-0.04</td>\n",
       "      <td>1204.72</td>\n",
       "      <td>1163.28</td>\n",
       "      <td>1195.6</td>\n",
       "      <td>1172.4</td>\n",
       "    </tr>\n",
       "    <tr>\n",
       "      <td>2</td>\n",
       "      <td>20200205</td>\n",
       "      <td>1184.5</td>\n",
       "      <td>-4.0</td>\n",
       "      <td>-0.34</td>\n",
       "      <td>1205.22</td>\n",
       "      <td>1163.78</td>\n",
       "      <td>1196.1</td>\n",
       "      <td>1172.9</td>\n",
       "    </tr>\n",
       "    <tr>\n",
       "      <td>3</td>\n",
       "      <td>20200204</td>\n",
       "      <td>1188.5</td>\n",
       "      <td>-5.5</td>\n",
       "      <td>-0.46</td>\n",
       "      <td>1209.29</td>\n",
       "      <td>1167.71</td>\n",
       "      <td>1200.1</td>\n",
       "      <td>1176.9</td>\n",
       "    </tr>\n",
       "    <tr>\n",
       "      <td>4</td>\n",
       "      <td>20200203</td>\n",
       "      <td>1194.0</td>\n",
       "      <td>-0.5</td>\n",
       "      <td>-0.04</td>\n",
       "      <td>1214.89</td>\n",
       "      <td>1173.11</td>\n",
       "      <td>1205.7</td>\n",
       "      <td>1182.3</td>\n",
       "    </tr>\n",
       "  </tbody>\n",
       "</table>\n",
       "</div>"
      ],
      "text/plain": [
       "         날짜      종가  전일대비   등락율   현찰 살 때    현찰팔 때  송금 보낼 때  송금 받을 때\n",
       "0  20200207  1193.5   9.5  0.80  1214.38  1172.62   1205.1   1181.9\n",
       "1  20200206  1184.0  -0.5 -0.04  1204.72  1163.28   1195.6   1172.4\n",
       "2  20200205  1184.5  -4.0 -0.34  1205.22  1163.78   1196.1   1172.9\n",
       "3  20200204  1188.5  -5.5 -0.46  1209.29  1167.71   1200.1   1176.9\n",
       "4  20200203  1194.0  -0.5 -0.04  1214.89  1173.11   1205.7   1182.3"
      ]
     },
     "execution_count": 42,
     "metadata": {},
     "output_type": "execute_result"
    }
   ],
   "source": [
    "columns = {\n",
    "    'cbv':'현찰 살 때',\n",
    "    'cr':'등락율',\n",
    "    'csv':'현찰팔 때',\n",
    "    'cv':'전일대비',\n",
    "    'dt':'날짜',\n",
    "    'nv':'종가',\n",
    "    'rv':'송금 받을 때',\n",
    "    'sv':'송금 보낼 때'\n",
    "}\n",
    "\n",
    "exchange_df.rename(columns=columns, inplace=True)\n",
    "exchange_df.head()"
   ]
  },
  {
   "cell_type": "code",
   "execution_count": 56,
   "metadata": {},
   "outputs": [],
   "source": [
    "with open('datas/exchange.pkl', 'wb') as f:\n",
    "    pickle.dump(exchange_df, f)"
   ]
  },
  {
   "cell_type": "code",
   "execution_count": 43,
   "metadata": {
    "scrolled": false
   },
   "outputs": [
    {
     "data": {
      "image/png": "[encoded data removed]",
      "text/plain": [
       "<Figure size 1440x360 with 1 Axes>"
      ]
     },
     "metadata": {},
     "output_type": "display_data"
    }
   ],
   "source": [
    "plt.figure(figsize=(20, 5))\n",
    "\n",
    "plt.plot(exchange_df['날짜'], exchange_df['종가'], 'bd--', label='nv')\n",
    "\n",
    "plt.legend()\n",
    "\n",
    "plt.show()"
   ]
  },
  {
   "cell_type": "code",
   "execution_count": 44,
   "metadata": {
    "scrolled": false
   },
   "outputs": [
    {
     "data": {
      "image/png": "[encoded data removed]",
      "text/plain": [
       "<Figure size 1440x360 with 1 Axes>"
      ]
     },
     "metadata": {},
     "output_type": "display_data"
    }
   ],
   "source": [
    "def nomal(data, min_scale = 0, max_scale = 1):\n",
    "    nomalization = (data - data.min()) / (data.max() - data.min())\n",
    "    return nomalization * (max_scale - min_scale) + min_scale\n",
    "\n",
    "plt.figure(figsize=(20, 5))\n",
    "\n",
    "kospi_df = kospi_df.iloc[::-1]\n",
    "\n",
    "plt.plot(kospi_df['날짜'], nomal(kospi_df['종가']), 'r*:', label='kospi')\n",
    "plt.plot(kosdaq_df['날짜'], nomal(kosdaq_df['종가']), 'bo-.', label='kosdaq')\n",
    "plt.plot(exchange_df['날짜'], nomal(exchange_df['종가']), 'g^--', label='er')\n",
    "\n",
    "plt.legend()\n",
    "\n",
    "plt.show()"
   ]
  },
  {
   "cell_type": "code",
   "execution_count": 46,
   "metadata": {},
   "outputs": [
    {
     "data": {
      "text/plain": [
       "0.9752102767478088"
      ]
     },
     "execution_count": 46,
     "metadata": {},
     "output_type": "execute_result"
    }
   ],
   "source": [
    "# 상관 계수 (연관이 있는 것뿐 인과 관계인 것은 아니다.)\n",
    "\n",
    "import numpy as np\n",
    "\n",
    "# np.corrcoef(nomal(kospi_df['종가']), nomal(kosdaq_df['종가']))\n",
    "np.corrcoef(nomal(kospi_df['종가']), nomal(kosdaq_df['종가']))[0][1]"
   ]
  },
  {
   "cell_type": "markdown",
   "metadata": {},
   "source": [
    "## Crawling with API"
   ]
  },
  {
   "cell_type": "markdown",
   "metadata": {},
   "source": [
    "https://darksky.net/dev\n",
    "\n",
    "rkdalseod@gmail.com / rkdalseod0\n",
    "\n",
    "token = '230a2be4007beacd62cf0426eb8c81eb'"
   ]
  },
  {
   "cell_type": "code",
   "execution_count": 53,
   "metadata": {},
   "outputs": [],
   "source": [
    "def forecast(lat, lng):\n",
    "    token = '230a2be4007beacd62cf0426eb8c81eb'\n",
    "    url = 'https://api.darksky.net/forecast/{}/{},{}'.format(token, lat, lng)\n",
    "    \n",
    "    response = requests.get(url)\n",
    "    weather_obj = response.json()\n",
    "    return weather_obj['timezone'], weather_obj['hourly']['summary']"
   ]
  },
  {
   "cell_type": "code",
   "execution_count": 51,
   "metadata": {},
   "outputs": [
    {
     "data": {
      "text/plain": [
       "('Asia/Seoul', 'Clear throughout the day.')"
      ]
     },
     "execution_count": 51,
     "metadata": {},
     "output_type": "execute_result"
    }
   ],
   "source": [
    "lat = 37.506168 \n",
    "lng = 127.107573\n",
    "forecast(lat, lng)"
   ]
  },
  {
   "cell_type": "code",
   "execution_count": 54,
   "metadata": {},
   "outputs": [
    {
     "ename": "NameError",
     "evalue": "name 'weather_obj' is not defined",
     "output_type": "error",
     "traceback": [
      "\u001b[0;31m---------------------------------------------------------------------------\u001b[0m",
      "\u001b[0;31mNameError\u001b[0m                                 Traceback (most recent call last)",
      "\u001b[0;32m<ipython-input-54-a5453806a482>\u001b[0m in \u001b[0;36m<module>\u001b[0;34m\u001b[0m\n\u001b[0;32m----> 1\u001b[0;31m \u001b[0mdf\u001b[0m \u001b[0;34m=\u001b[0m \u001b[0mpd\u001b[0m\u001b[0;34m.\u001b[0m\u001b[0mDataFrame\u001b[0m\u001b[0;34m(\u001b[0m\u001b[0mweather_obj\u001b[0m\u001b[0;34m[\u001b[0m\u001b[0;34m'hourly'\u001b[0m\u001b[0;34m]\u001b[0m\u001b[0;34m[\u001b[0m\u001b[0;34m'data'\u001b[0m\u001b[0;34m]\u001b[0m\u001b[0;34m)\u001b[0m\u001b[0;34m\u001b[0m\u001b[0;34m\u001b[0m\u001b[0m\n\u001b[0m\u001b[1;32m      2\u001b[0m \u001b[0mprint\u001b[0m\u001b[0;34m(\u001b[0m\u001b[0mlen\u001b[0m\u001b[0;34m(\u001b[0m\u001b[0mdf\u001b[0m\u001b[0;34m)\u001b[0m\u001b[0;34m)\u001b[0m\u001b[0;34m\u001b[0m\u001b[0;34m\u001b[0m\u001b[0m\n\u001b[1;32m      3\u001b[0m \u001b[0mdf\u001b[0m\u001b[0;34m.\u001b[0m\u001b[0mhead\u001b[0m\u001b[0;34m(\u001b[0m\u001b[0;34m)\u001b[0m\u001b[0;34m\u001b[0m\u001b[0;34m\u001b[0m\u001b[0m\n",
      "\u001b[0;31mNameError\u001b[0m: name 'weather_obj' is not defined"
     ]
    }
   ],
   "source": [
    "df = pd.DataFrame(weather_obj['hourly']['data'])\n",
    "print(len(df))\n",
    "df.head()"
   ]
  },
  {
   "cell_type": "code",
   "execution_count": 55,
   "metadata": {},
   "outputs": [],
   "source": [
    "import datetime"
   ]
  },
  {
   "cell_type": "code",
   "execution_count": null,
   "metadata": {},
   "outputs": [],
   "source": [
    "df['time'] = df['time'].apply(datetime.datetime.fromtimestamp)\n",
    "df['time']"
   ]
  },
  {
   "cell_type": "markdown",
   "metadata": {},
   "source": [
    "화씨 / 섭씨\n",
    "uv Index\n",
    "uv Level column lambda\n",
    "windBearnig\n",
    "windSpeed\n",
    "\n",
    "단위 변환은 항등원 이용\n",
    "\n",
    "np.digitize\n",
    "시작과 끝값 등록 (-1000, 1000)\n",
    "\n",
    "weather 조합\n",
    "\n",
    "Application 으로 데이터 전달"
   ]
  },
  {
   "cell_type": "code",
   "execution_count": null,
   "metadata": {},
   "outputs": [],
   "source": [
    "pd.options.mode.chained_assignment = None"
   ]
  }
 ],
 "metadata": {
  "kernelspec": {
   "display_name": "Python 3",
   "language": "python",
   "name": "python3"
  },
  "language_info": {
   "codemirror_mode": {
    "name": "ipython",
    "version": 3
   },
   "file_extension": ".py",
   "mimetype": "text/x-python",
   "name": "python",
   "nbconvert_exporter": "python",
   "pygments_lexer": "ipython3",
   "version": "3.7.4"
  }
 },
 "nbformat": 4,
 "nbformat_minor": 2
}
