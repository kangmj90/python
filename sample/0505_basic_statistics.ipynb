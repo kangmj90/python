{
 "cells": [
  {
   "cell_type": "markdown",
   "metadata": {},
   "source": [
    "통계기초\n",
    "\n",
    "통계학 : 기술통계, 추론통계\n",
    "통계 : 통합적으로 계산하다\n",
    "\n",
    "상관 계수 -1 <= r <= 1\n",
    "coefficience\n",
    "\n",
    "데이터 분석\n",
    "1. 보정\n",
    "2. 연관/인과\n",
    "3. 이상치\n",
    "4. 결측치\n",
    "5. faceting\n",
    "\n",
    "MLE\n",
    "\n",
    "대푯값 -> 범위 -> 치우친 모양 -> 뾰족함 정도\n",
    "\n",
    "1차원 놈(norm) : 맨하탄 디스턴스 (manhattan distance)\n",
    "\n",
    "모분산 표본분산은 분모 숫자가 다르다 (자유도)\n",
    "\n",
    "사분위수 범위 (IQR) : 중앙 50%\n",
    "\n",
    "추정 : 유의수준 = 알파(a)\n",
    "\n",
    "가설 : 귀무 / 대립\n",
    "1종/2종 오류\n",
    "유의확률\n",
    "\n",
    "Z통계량 : N(0,1)\n",
    "t분포\n",
    "카이제곱 분포 : norminal (명목형),  ordinal (순위형)\n",
    "F분포\n",
    "\n",
    "테이블 자유도 (n-1) x (m-1)\n",
    "\n",
    "t-test\n",
    "\n",
    "ANOVA(analysis of variance, 분산분석) : TSS = SSG + SSE, f-score\n",
    "\n",
    "| 행렬 | : det\n",
    "|| 행렬 || : norm\n",
    "| 집합 | : 원소 개수\n",
    "\n",
    "P(A|B) => B 사건이 일어났을 때 A 의 확률\n",
    "\n",
    "공분산\n",
    "이항분포\n",
    "*다항분포*\n",
    "포아송분포 : 알아만두기\n",
    "\n",
    "*multi norminal*"
   ]
  }
 ],
 "metadata": {
  "kernelspec": {
   "display_name": "Python 3",
   "language": "python",
   "name": "python3"
  },
  "language_info": {
   "codemirror_mode": {
    "name": "ipython",
    "version": 3
   },
   "file_extension": ".py",
   "mimetype": "text/x-python",
   "name": "python",
   "nbconvert_exporter": "python",
   "pygments_lexer": "ipython3",
   "version": "3.7.4"
  }
 },
 "nbformat": 4,
 "nbformat_minor": 2
}
