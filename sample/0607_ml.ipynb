{
 "cells": [
  {
   "cell_type": "markdown",
   "metadata": {},
   "source": [
    "베이즈 정리\n",
    "\n",
    "조건부 확률  P(A|B)\n",
    "\n",
    "P(A|B) = P(B|A)P(A) / P(B)\n",
    "\n",
    "사건 A 에 대하여 우도와 사건 B에 대한 일을 곱해주면 사건 B에 대하여 A의 비율을 알 수 있다.\n",
    ": 사건 비의 발생으로 에이의 확률이 어떻게 변화하는지 \n",
    "\n",
    "베이즈 정리의 확장\n",
    "1. sigma\n",
    "2. A, B, C"
   ]
  },
  {
   "cell_type": "markdown",
   "metadata": {},
   "source": [
    "몬티홀 (Monty Hall) 문제"
   ]
  },
  {
   "cell_type": "markdown",
   "metadata": {},
   "source": [
    "## 지도학습\n",
    "\n",
    "LDA (Linear Discriminant Analysis)\n",
    "- 분류\n",
    "- pdf (정규분포) 모양\n",
    "- 공분산이 같다\n",
    "- 평균은 최대\n",
    "- PG\n",
    "\n",
    "공분산 \n",
    "공분산 행렬 : 표준편차 행렬. 자기 자신에 대한 표준편차, 양의 정부호 대칭 행렬 = 역행렬 항상 존재 (정밀도 행렬)\n",
    "\n",
    "argmax = P(y = k|x) = k 값\n",
    "max = P(y = k|x) = y 값\n",
    "\n",
    "QDA ( Quadratic)\n",
    "- 분류\n",
    "- 공분산이 같지 않다\n",
    "- 연산량 증가\n",
    "- 확률성 생성 모형\n",
    "\n",
    " Naive Bayes\n",
    " - 변수가 서로 독립\n",
    " - 가우시안, 베르누이, 멀티노미널\n",
    " - PG\n",
    " \n",
    " 의사결정나무 (Decision tree)\n",
    " - 분류 & 회귀\n",
    " - 이진 트리와 비슷\n",
    " - 설명력이 좋다. 오버피팅 가능성 높음\n",
    " - 확률적 판별 모형\n",
    " \n",
    " 정보 엔트로피 (정보를 얻을 수 있는 가능성)\n",
    " - 엔트로피 : 불확실성\n",
    " \n",
    " 정보 획득량\n",
    " - = (부모노드 엔트로피 - 자식노드 엔트로피)"
   ]
  },
  {
   "cell_type": "code",
   "execution_count": null,
   "metadata": {},
   "outputs": [],
   "source": [
    "from sklearn.tree import DecisionTreeClassifier\n",
    "\n",
    "DecisionTreeClassifier(criterion='entropy', max_depth=1, random_state=0).fit(x, y)\n",
    "\n",
    "# import pydot\n",
    "# conda install praphviz\n",
    "# 윈도우즈는 기본적으로 에러가 나기 때문에 따로 다운 받아서 설치해줘야 한다."
   ]
  },
  {
   "cell_type": "markdown",
   "metadata": {},
   "source": [
    "KNN (K-Nearest Neighborhood)\n",
    "- 가장 가까운 범주 찾기\n",
    "\n",
    "차원의 저주\n",
    "- 차원 축소 필요\n",
    "\n",
    "SVM (Support Vector Machine)\n",
    "- 판별함수 모형\n",
    "- 서포트 벡터 활용\n",
    "- 분류 /회귀\n",
    "- 에러값 처리 가능\n",
    "- 커널 활용 가능\n",
    "\n",
    "MLP (Multi Layer Perceptron)\n",
    "- 판별함수 모형\n",
    "- activation function : 요즘엔 relu\n",
    "- optimizer : 최저점 찾기"
   ]
  },
  {
   "cell_type": "markdown",
   "metadata": {},
   "source": [
    "앙상블 (Ensemble)\n",
    "- 취합 (aggregation)\n",
    " : 다수결 (soft voting, hard voting)\n",
    " : 배깅 bagging ->모델 하나에 데이터 여러개. pasting (비중복), bagging(중복), subspaces(독립 변수 일부 차원), patches (독립 변수 차원/개수)\n",
    "\n",
    "-- Random Forset\n",
    "- Decision Tree 를 짧게 많이\n",
    "- 설명력 좋음\n",
    "- Feature importance\n",
    "- 배깅의 일부, subspaces, patches 포함\n",
    "\n",
    "- 부스팅 (boosting)\n",
    " : adaboost, gradient boost, XGboost, LightGBM\n",
    " 여러 모델 만들면서 이전보다 더 나은 모델이 나올 때까지\n",
    " 가중치 + like soft voting ?"
   ]
  },
  {
   "cell_type": "markdown",
   "metadata": {},
   "source": [
    "## 비지도학습\n",
    "\n",
    "clustering\n",
    "\n",
    "ML(DL) : 지도 /비지도 / 강화 (= 알파고)\n",
    "\n",
    "지도 : 회귀 / 분류\n",
    "\n",
    "회귀 : linear, DT, SVM\n",
    "분류 : logistic, NB, LDA, QDA, SVM, KNN, DT, RF, MLP\n",
    "\n",
    "비지도 : clustering (군집화)\n",
    "유사한 데이터들의 그룹으로 나누는 것\n",
    "독립 변수 종속 변수 구분 없고, 학습을 위한 목표 필요 없음\n",
    "성능기준 만들기 어려움, ground truth 이 있는 경우에도 -> 조정 랜드지수, 조정 상호정보량, *실루엣계수"
   ]
  },
  {
   "cell_type": "markdown",
   "metadata": {},
   "source": [
    "머신러닝으로 할 수 있는 것은 딥러닝으로도 할 수 있다.\n",
    "하지만 설명이 안된다."
   ]
  }
 ],
 "metadata": {
  "kernelspec": {
   "display_name": "Python 3",
   "language": "python",
   "name": "python3"
  },
  "language_info": {
   "codemirror_mode": {
    "name": "ipython",
    "version": 3
   },
   "file_extension": ".py",
   "mimetype": "text/x-python",
   "name": "python",
   "nbconvert_exporter": "python",
   "pygments_lexer": "ipython3",
   "version": "3.7.4"
  }
 },
 "nbformat": 4,
 "nbformat_minor": 2
}
