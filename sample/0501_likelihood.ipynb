{
 "cells": [
  {
   "cell_type": "markdown",
   "metadata": {},
   "source": [
    "확률분포함수\n",
    "가능도함수 (likelihood)\n",
    "\n",
    "desmos.com\n",
    "\n",
    "wolframAlpha\n",
    "\n",
    "y = f(x)\n",
    "max = y\n",
    "arguMax = x\n",
    "\n",
    "Estimator : 추정량\n",
    "MLE ( maximum likelihood estimator)\n",
    "\n",
    "log\n",
    "\n",
    "행렬\n",
    "외적 !! - 여인수법 ?\n",
    "\n",
    "이차놈 ( matrix norm 2) 과 내적은 같다\n",
    "\n",
    "르베그 적분\n",
    "L1 : 맨하탄, L2 : 유클리드"
   ]
  }
 ],
 "metadata": {
  "kernelspec": {
   "display_name": "Python 3",
   "language": "python",
   "name": "python3"
  },
  "language_info": {
   "codemirror_mode": {
    "name": "ipython",
    "version": 3
   },
   "file_extension": ".py",
   "mimetype": "text/x-python",
   "name": "python",
   "nbconvert_exporter": "python",
   "pygments_lexer": "ipython3",
   "version": "3.7.4"
  }
 },
 "nbformat": 4,
 "nbformat_minor": 2
}
