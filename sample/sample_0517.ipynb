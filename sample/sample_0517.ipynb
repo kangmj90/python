{
 "cells": [
  {
   "cell_type": "markdown",
   "metadata": {},
   "source": [
    "선형 회귀\n",
    "\n",
    "다중 선형 회귀 (linear) : x1 + x2 + ...\n",
    "\n",
    "다항 회귀 (비선형회귀) : x^2 + x + ... \n",
    "\n",
    "뉴턴-랩슨법 : 점찍기 -> 미분 ->  x값 확인 -> y값 확인 -> 미분 ...\n",
    "Gradient-Descent : 미분 -> 기울기와 방향 확인 -> 점찍기 -> 미분. (로그/지수 함수 등에서는 사용 불가)\n",
    "\n",
    "t-test : 전통적인 통계에서 맞냐/아니냐를 확인\n",
    "p-value\n",
    "\n",
    "* 확률론적 회귀분석이라는 것도 있다"
   ]
  },
  {
   "cell_type": "markdown",
   "metadata": {},
   "source": [
    "다중 선형 회귀 분석"
   ]
  },
  {
   "cell_type": "markdown",
   "metadata": {},
   "source": [
    "스칼라 벡터 미분\n",
    "\n",
    "S -> v (grad / nabla)\n",
    "\n",
    "v -> s (div / 내적) , v (rot / curl / 외적)\n",
    "\n",
    "행렬 미분 : 자코비언 (야코비언) 행렬\n",
    "\n",
    "gradient 벡터 : 다변수 함수로 확장\n",
    "Jacobian 행렬 : 다변수 벡터로 확장\n",
    "\n",
    "gradient : 일차 미분\n",
    "\n",
    "laplacian : 이차 미분\n",
    "헤시안 행렬 : 이차 미분, 곡률 나타낸다\n",
    "\n",
    "고유벡터 : 행렬에서 벡터의 방향\n",
    "고유값 : 방향으로 가는 값\n",
    "\n",
    "잔차제곱합 미분\n",
    "\n",
    "denominator : 떨구고 T\n",
    "numerator : 그냥 떨구긴"
   ]
  },
  {
   "cell_type": "markdown",
   "metadata": {},
   "source": [
    "행렬의 부호\n",
    "\n",
    "내적해서  > 0 : 양의 정부호\n",
    "\n",
    "x-1Ax  > 0\n",
    "\n",
    "쿼드라틱 폼\n",
    "\n",
    "- 직교 방정식\n",
    "\n",
    "MSE : SSE 표준화\n",
    "\n",
    "standard 가 붙으면 비교가 목표\n",
    "\n",
    "정확도 평가 : SSR/SST, 1 - SSE/SST\n",
    "\n"
   ]
  }
 ],
 "metadata": {
  "kernelspec": {
   "display_name": "Python 3",
   "language": "python",
   "name": "python3"
  },
  "language_info": {
   "codemirror_mode": {
    "name": "ipython",
    "version": 3
   },
   "file_extension": ".py",
   "mimetype": "text/x-python",
   "name": "python",
   "nbconvert_exporter": "python",
   "pygments_lexer": "ipython3",
   "version": "3.7.4"
  }
 },
 "nbformat": 4,
 "nbformat_minor": 2
}
