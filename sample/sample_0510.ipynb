{
 "cells": [
  {
   "cell_type": "markdown",
   "metadata": {},
   "source": [
    "선형 회귀\n",
    "\n",
    "선형회귀분석\n",
    "직선, 일차식\n",
    "\n",
    "수학적 모델링 = 오차항 없다\n",
    "실험적 모델링 = 오차항 있다\n",
    "\n",
    "머신러닝 : boost 외에는 알고리즘 하나로 만든다\n",
    "딥러닝 : 반복 학습. 오차를 줄이는 방향으로\n",
    "\n",
    "회귀계수\n",
    "y =ax + b\n",
    "y = p0 + p1x (베타(=p)는 회귀계수)\n",
    "\n",
    "실제 값과 추정한 값의 차이 : 잔차 (redsidual) : e = y - y^\n",
    "\n",
    "잔차의 제곱합 (SSE)\n",
    "손실함수\n",
    "편미분해야한다 : 베타0, 1에 대하여\n",
    "e = sig(y - p0 - p1x)\n",
    "p0^ = y- - p1x-\n",
    "\n",
    "최소제곱법 : 공분산/분산 (cov(X, Y)/v(X))\n",
    "\n",
    "뉴턴-랩슨법\n",
    "가우스-뉴턴법\n",
    "\n",
    "선형회귀분석\n",
    "\n",
    "최소제곱법(OLS = LSM)\n",
    "y^ = Xw\n",
    "잔차의 제곱합 (RSS)\n",
    "\n",
    "영어 대문자 기울기 bold : 행렬\n",
    "영어 소문자 bold : 벡터\n",
    "영어 일반 : 스칼라\n",
    "\n",
    "그래디언트 (gradient) : \n",
    "\n",
    "벡터의 미분 연산자 : del, nabla\n",
    "스칼라 미분 : grad\n",
    "벡터 미분 : 방향성 O : divergence, X : rot, curl"
   ]
  }
 ],
 "metadata": {
  "kernelspec": {
   "display_name": "Python 3",
   "language": "python",
   "name": "python3"
  },
  "language_info": {
   "codemirror_mode": {
    "name": "ipython",
    "version": 3
   },
   "file_extension": ".py",
   "mimetype": "text/x-python",
   "name": "python",
   "nbconvert_exporter": "python",
   "pygments_lexer": "ipython3",
   "version": "3.7.4"
  }
 },
 "nbformat": 4,
 "nbformat_minor": 2
}
