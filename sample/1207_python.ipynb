{
 "cells": [
  {
   "cell_type": "markdown",
   "metadata": {},
   "source": [
    "List = []\n",
    "Tuple = ()\n",
    "Dictionary = {key, value}\n",
    "Set = {value}\n",
    "\n",
    "slice\n",
    "[start:end:stripe]\n",
    "stripe 가 양수 -> 맨 앞부터 순서대로\n",
    "stripe 가 음수 -> 맨 뒤부터 순서대로"
   ]
  },
  {
   "cell_type": "code",
   "execution_count": 5,
   "metadata": {},
   "outputs": [
    {
     "name": "stdout",
     "output_type": "stream",
     "text": [
      "python\n",
      "python\n",
      "nohtyp\n"
     ]
    }
   ],
   "source": [
    "a = \"python\"\n",
    "b = a[::1]\n",
    "c = a[::-1]\n",
    "print(a)\n",
    "print(b)\n",
    "print(c)"
   ]
  },
  {
   "cell_type": "code",
   "execution_count": 9,
   "metadata": {},
   "outputs": [
    {
     "data": {
      "text/plain": [
       "'2468'"
      ]
     },
     "execution_count": 9,
     "metadata": {},
     "output_type": "execute_result"
    }
   ],
   "source": [
    "numbers = \"123456789\"\n",
    "numbers[1::2]"
   ]
  },
  {
   "cell_type": "markdown",
   "metadata": {},
   "source": [
    "**List Copy**\n",
    "1. deep Copy\n",
    "2. Shallow Copy"
   ]
  },
  {
   "cell_type": "code",
   "execution_count": 11,
   "metadata": {},
   "outputs": [
    {
     "data": {
      "text/plain": [
       "(1, 2, 3)"
      ]
     },
     "execution_count": 11,
     "metadata": {},
     "output_type": "execute_result"
    }
   ],
   "source": [
    "a=1; b=2; c=3\n",
    "a, b, c\n",
    "\n",
    "# Tuple"
   ]
  },
  {
   "cell_type": "code",
   "execution_count": 28,
   "metadata": {},
   "outputs": [
    {
     "name": "stdout",
     "output_type": "stream",
     "text": [
      "1 2\n",
      "2 1\n"
     ]
    }
   ],
   "source": [
    "a, b = 1, 2\n",
    "print(a, b)\n",
    "\n",
    "b, a = a, b\n",
    "print(a, b)"
   ]
  },
  {
   "cell_type": "code",
   "execution_count": 73,
   "metadata": {},
   "outputs": [
    {
     "name": "stdout",
     "output_type": "stream",
     "text": [
      "True\n",
      "False\n",
      "False\n",
      "True\n"
     ]
    }
   ],
   "source": [
    "list1 = ['a', 'b', 'c']\n",
    "print('a' in list1)\n",
    "print('d' in list1)\n",
    "print('b' not in list1)\n",
    "print('e' not in list1)"
   ]
  },
  {
   "cell_type": "code",
   "execution_count": 37,
   "metadata": {},
   "outputs": [
    {
     "name": "stdout",
     "output_type": "stream",
     "text": [
      "1 +2\n",
      "1 +2\n"
     ]
    }
   ],
   "source": [
    "x = input()\n",
    "print(x)"
   ]
  },
  {
   "cell_type": "code",
   "execution_count": 77,
   "metadata": {},
   "outputs": [
    {
     "data": {
      "text/plain": [
       "['banana', 'hi', 'computer', 'strawberry', 'apple', 'hello']"
      ]
     },
     "execution_count": 77,
     "metadata": {},
     "output_type": "execute_result"
    }
   ],
   "source": [
    "a = ['hi', 'hello', 'hello', 'apple', 'banana']\n",
    "b = ['computer', 'banana', 'strawberry']\n",
    "c = set(a + b)\n",
    "list(c)"
   ]
  },
  {
   "cell_type": "code",
   "execution_count": 75,
   "metadata": {},
   "outputs": [
    {
     "name": "stdout",
     "output_type": "stream",
     "text": [
      "Once deleted, variables cannot be recovered. Proceed (y/[n])? y\n"
     ]
    }
   ],
   "source": [
    "# 변수 초기화\n",
    "\n",
    "%reset"
   ]
  },
  {
   "cell_type": "code",
   "execution_count": 76,
   "metadata": {},
   "outputs": [
    {
     "name": "stdout",
     "output_type": "stream",
     "text": [
      "Interactive namespace is empty.\n"
     ]
    }
   ],
   "source": [
    "# 기록\n",
    "\n",
    "%whos"
   ]
  },
  {
   "cell_type": "code",
   "execution_count": 80,
   "metadata": {},
   "outputs": [
    {
     "data": {
      "text/plain": [
       "[0, 1, 2, 3, 4, 5, 6, 7, 8, 9]"
      ]
     },
     "execution_count": 80,
     "metadata": {},
     "output_type": "execute_result"
    }
   ],
   "source": [
    "list(range(10))"
   ]
  },
  {
   "cell_type": "markdown",
   "metadata": {},
   "source": [
    "  *\n",
    " ***\n",
    "*****\n",
    " ***\n",
    "  *"
   ]
  },
  {
   "cell_type": "code",
   "execution_count": 133,
   "metadata": {},
   "outputs": [
    {
     "name": "stdout",
     "output_type": "stream",
     "text": [
      "  *\n",
      " ***\n",
      "*****\n",
      " ***\n",
      "  *\n",
      "   \n"
     ]
    }
   ],
   "source": [
    "for b in range(1, 6, 2):\n",
    "    print(' ' * ((5-b)//2), end='')\n",
    "    print('*' * b)\n",
    "for a in range(1, 6, 2):\n",
    "    print(' ' * ((a//2)+1), end='')\n",
    "    print('*' * (4-a))"
   ]
  },
  {
   "cell_type": "code",
   "execution_count": 142,
   "metadata": {},
   "outputs": [
    {
     "name": "stdout",
     "output_type": "stream",
     "text": [
      "   *\n",
      "  ***\n",
      " *****\n",
      "  ***\n",
      "   *\n"
     ]
    }
   ],
   "source": [
    "for sp in map(abs, range(-2, 3)): print(\" \"*sp, \"*\"*(5-sp*2))"
   ]
  },
  {
   "cell_type": "markdown",
   "metadata": {},
   "source": [
    "1. 기본 코드\n",
    "2. 수식 코드\n",
    "3. map \n",
    "4. 최종 한 줄"
   ]
  },
  {
   "cell_type": "markdown",
   "metadata": {},
   "source": [
    "1. 1-9 까지의 네 자리 숫자\n",
    "2. 중복 숫자는 안된다\n",
    "3. strike : 숫자/자릿수 정확하게 맞았을 때\n",
    "4. ball : 숫자만 있을 경우\n",
    "\n",
    "- 6749\n",
    "\n",
    "- 1234 : 1ball\n",
    "- 5678 : 2ball\n",
    "- 3456 : 2ball\n",
    "- 4567 : 3ball\n",
    "- 9654 : 3ball\n",
    "- 7945 : 1strike 2ball\n",
    "- 7596 : 3ball\n",
    "- 4589 : 1strike 1ball\n",
    "\n",
    "- 9876 : 1strike 1ball\n",
    "- 8765 : 2ball\n",
    "- 7654 : 2ball\n",
    "- 9753 : 1strike 2ball\n",
    "- 9865 : 1strike 1ball\n",
    "- 9543 : 2strike \n",
    "- 9571 : 2strike 1ball\n",
    "- 9527 : 이거다\n",
    "\n",
    "- 9423 : 2ball\n",
    "- 9876 : 1strike 1ball\n",
    "- 9865 : 1strike 2ball\n",
    "- 9543 : 3ball\n",
    "- 7891 : 1strike 1ball\n",
    "- 5843 : 1strike 2ball\n",
    "- 9843 : 1strike 2ball\n",
    "- 9854 : 2strike 2ball\n",
    "- 4859 : "
   ]
  },
  {
   "cell_type": "code",
   "execution_count": 3,
   "metadata": {},
   "outputs": [
    {
     "name": "stdout",
     "output_type": "stream",
     "text": [
      "2345\n",
      "2 1\n",
      "1234\n",
      "0 2\n",
      "9876\n",
      "0 1\n",
      "7938\n",
      "1 1\n",
      "3589\n",
      "0 3\n",
      "2357\n",
      "3 0\n",
      "2938\n",
      "2 1\n",
      "2358\n"
     ]
    }
   ],
   "source": [
    "num = '2358'\n",
    "end = True\n",
    "while end:\n",
    "    insert = input()\n",
    "    strike = 0\n",
    "    ball = 0\n",
    "\n",
    "    if num == insert:\n",
    "        end = False\n",
    "    else:\n",
    "        for a in range(4):\n",
    "            if num[a] == insert[a]:\n",
    "                strike += 1\n",
    "            elif insert[a] in num:\n",
    "                ball += 1\n",
    "        print(strike, ball)"
   ]
  },
  {
   "cell_type": "code",
   "execution_count": null,
   "metadata": {},
   "outputs": [],
   "source": [
    "# zip 사용하여 리팩토링"
   ]
  }
 ],
 "metadata": {
  "kernelspec": {
   "display_name": "Python 3",
   "language": "python",
   "name": "python3"
  },
  "language_info": {
   "codemirror_mode": {
    "name": "ipython",
    "version": 3
   },
   "file_extension": ".py",
   "mimetype": "text/x-python",
   "name": "python",
   "nbconvert_exporter": "python",
   "pygments_lexer": "ipython3",
   "version": "3.7.4"
  }
 },
 "nbformat": 4,
 "nbformat_minor": 2
}
