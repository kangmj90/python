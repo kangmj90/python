{
 "cells": [
  {
   "cell_type": "markdown",
   "metadata": {},
   "source": [
    "로지스틱 회귀\n",
    "\n",
    "오즈 : Odds\n",
    "오즈비 : Odds Ratio\n",
    "\n",
    "log\n",
    "logit : log odds\n",
    "logistic :logit 을 풀어내면 logistic\n",
    "\n",
    "두 개의 분류만 가능하다. (like 이항분포)\n",
    "\n",
    "GLM : General Linear Model : f(x) = w^t * x\n",
    "\n",
    "선형 회귀 : y = w^t * x\n",
    "\n",
    "log (p/1-p) = w^t * x\n",
    "\n",
    "베르누이 분포 : p^y * (1-p)^(1-y)\n",
    "\n",
    "모수 추정 방법 : 그래디언트 디센트\n",
    "스텝사이즈\n",
    "\n",
    "w(k+1) = wk - nkgk\n",
    "미분값과 가야하는 방향은 부호가 반대이기 때문에 - 를 붙여준다\n",
    "\n",
    "맥파든 의사결정계수 (McFadden pseudo R square)\n",
    "- 이탈도 (deviance)\n",
    "- 귀무모형 : x가  y를 예층하는데 영향을 주지 않는다, 모두 1을 예측하는 모형\n",
    "- 성능 좋으면 1 나쁘면 0\n"
   ]
  },
  {
   "cell_type": "markdown",
   "metadata": {},
   "source": [
    "아이리스 모델로 다른 기준을 만들어서 로지스틱 회귀 작업해보기\n",
    "> setsosa - verginica\n",
    "> petal width/length\n",
    "\n",
    "이거 말고 다른 걸로"
   ]
  },
  {
   "cell_type": "markdown",
   "metadata": {},
   "source": [
    "분류\n",
    "\n",
    "확률적 모형\n",
    "- 판별 모형 : \n",
    "- 생성 모형 :\n",
    "\n",
    "P(y=k | x)\n",
    "\n",
    "판별 함수 모형\n",
    "* 퍼셉트론\n",
    "* 서포트 벡터 머신\n",
    "\n",
    "OvO\n",
    "OvR"
   ]
  },
  {
   "cell_type": "markdown",
   "metadata": {},
   "source": [
    "분류 성능평가\n",
    "\n",
    "scikit-learn\n",
    "\n",
    "Confusion matrix\n",
    "- 보통 이진분류결과표 : Positive Negative True False\n",
    "\n",
    "p-value : 입력 값에서 검정으로 통해 나온 값\n",
    "알파 : 분포도에서 우리가 정해주는 수 임계값, 기각값\n",
    "p-value 가 알파보다 크면 유의하다. 대립가설\n",
    "\n",
    "- 정확도 (accurancy) : 양성 / 음성 중 진짜를 맞춘 비\n",
    "- 정밀도 (precision) : 양성예측 중에 실제 양성의 비 : 기준이 예측, 얼마나 예측을 정밀하게 하는가\n",
    "- 재현률(recall), 민감도(sensitivity) : 실제 양성에서 예측도 양성의 비 : 재현을 잘한다. 현실에서 얼마나 잘 재현하는가\n",
    "- 위양성률(fall out) : 실제 음성 중에서 양성이라고 잘못 예측한 비 : 알파오류\n",
    "- 특이도 (specificity) : 실제 음성 중 예측 음성의 비 = 1- fall out\n",
    "\n",
    "F score\n",
    "- 정밀도와 재현율의 가중조화평균\n",
    "- 클수록 좋다\n",
    "\n",
    "colab : 인터넷에서 파이썬 쓰기\n",
    "\n",
    "ROC curve\n",
    "- 재현율과 위양성률은 양의 상관관계\n",
    "- threshold : 기준\n",
    "\n",
    "AUC : ROC 의 "
   ]
  },
  {
   "cell_type": "markdown",
   "metadata": {},
   "source": [
    "아이리스 했던거에서 \n",
    "1. classification report\n",
    "2. ROC 커브 그리기"
   ]
  }
 ],
 "metadata": {
  "kernelspec": {
   "display_name": "Python 3",
   "language": "python",
   "name": "python3"
  },
  "language_info": {
   "codemirror_mode": {
    "name": "ipython",
    "version": 3
   },
   "file_extension": ".py",
   "mimetype": "text/x-python",
   "name": "python",
   "nbconvert_exporter": "python",
   "pygments_lexer": "ipython3",
   "version": "3.7.4"
  }
 },
 "nbformat": 4,
 "nbformat_minor": 2
}
