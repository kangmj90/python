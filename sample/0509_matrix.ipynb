{
 "cells": [
  {
   "cell_type": "markdown",
   "metadata": {},
   "source": [
    "연속형 확률 분포\n",
    "\n",
    "확률분포함수 (pdf)\n",
    "\n",
    "미분\n",
    ": 로그 미분\n",
    "\n",
    "행렬\n",
    "\n",
    "연산 !!!!\n",
    "내적 외적 여인수법\n",
    "\n",
    "p1 = Mahattan\n",
    "p2 = Euclience\n",
    "p(무한대) = Max norm\n",
    "\n",
    "르베그\n",
    "L1 norm  = 절대값\n",
    "L2 norm = 제곱합\n",
    "\n",
    "norm = 길이 = 르베그 적분\n",
    "\n",
    "일반 = 행렬식의 역수 * 수반행렬\n",
    "\n",
    "det(A) 역행렬 = 1/det(A) 증명하기 (det(I))\n",
    "\n",
    "분자 분모 미분\n",
    "전미분 편미분.\n",
    "af/ax = [af/ax1, ]\n",
    "numerator / denumerator = 트랜스퍼 관계 (T)"
   ]
  },
  {
   "cell_type": "markdown",
   "metadata": {},
   "source": [
    "머신 러닝\n",
    "지식 기반 , 데이터 기반 \n",
    "\n",
    "모델링\n",
    "\n",
    "종류: 지도(회귀, 분류)/비지도(군집분석, 차원축소)/강화학습(알파고, MCMC)\n",
    "\n",
    "PCA\n",
    "\n",
    "CPU GPU 차이  _ NVIDIA\n",
    "\n",
    "행렬과 선형대수의 차이란 ?\n",
    "\n",
    "행렬공간\n",
    "- Matrix Space = 벡터공간(선형 결합을 해도 같은 공간에 위치)\n",
    "- 3 x 3의 모든 정방행렬\n",
    "- 대칭, 상삼각, 대각\n",
    "기저벡터\n",
    "- 기저 (basis) : 집합 S가 벡터공간 V를 표현할 수 있는 최소한의 집합이라면 S를 V의 기저라고 한다.\n",
    "- -> ex) 2차원 벡터공간 V의 기저는 [0,1], [1,0]\n",
    "- 기저 벡터들은 공간(space) 을 생성(span) 한다 .\n",
    "- 기저 벡터들은 선형독립이다 (independent)\n",
    "- 벡터 공간에 속하는 벡터의 집합이 선형 독립이고 다른 모든 벡터 공간의 벡터들이 그 벡터 집합의 선형 조합으로 나타나면 그 벡터 집합을 벡터 공간의 기저 벡터(basis vector)라고 한다.\n",
    "- -> 선형 조합(스칼라 곱의 합), 벡터들의 선형 조합이 0이 되는 모두 0이 아닌 스칼라값들이 존재하지 않으면 그 벡터들은 선형 독립(linearly independent)\n",
    "- -> 선형 조합 : 행렬/벡터에 스칼라 곱을 더한 것 \n",
    "아이젠 벡터\n",
    "- 고유 벡터\n",
    "- 정방 행렬에 대해서만 정의\n",
    "- 행렬 A에 대해서 Av = λv를 만족하는 0이 아닌 열벡터 v를 고유 벡터, 상수 λ를 고유값\n",
    "- -> 열 벡터 v에 행렬 A를 곱하는 것을 '열 벡터 v에 선형 변환 A를 해주었다.'\n",
    "- -> 선형 변환 = 벡터에 사칙연산을 해주는 것\n",
    "- -> 선형 변환을 했음에도 어떤 벡터 v의 방향이 바뀌지 않고 크기만 변했다면, 그리고 변한 크기가 원래 벡터 크기의 λ배라면 그 λ를 고유값이라고 하고 v는 고유 벡터\n",
    "아이젠 제곱\n",
    "-\n",
    "singular value decomposition (SVD) : \n",
    "- 특이값 분해\n",
    "- 고유값 분해는 정사각 대칭 행렬에서만 사용되지만 임의 행렬 n x p 에서도 사용 가능.\n",
    "- -> 고유값 분해 : 행렬 A 의 고유 벡터들을 열벡터로 하는 행렬 P, 고유값을 대각원소로 가지는 대각행렬 ^ 일 때 A = P^P-1\n",
    "- A(m x n) = U(m x m) x sig(m x n) x VT(n x n)\n",
    "- -> U V 는 특이 벡터. 두 행렬은 서로 직교\n",
    "- -> sig 는 직사각 대각 행렬. 행렬의 대각에 위치한 값 외 모든 값은 0. 0이 아닌 값을 특이값 이라고 한다\n",
    "kernel : \n",
    "- 이차원에서는 선형적으로 구분이 불가능하지만 mapping을 통해 고차원으로 변형시킨 후 선형적으로 구분할 수 있도록 하는 방법 : kernel trick.\n",
    "- 이 때 사용하는 함수 : kernel function\n",
    "- Support Vector Machine 에서 사용하는 것 ?\n",
    "- Nonlinear\n",
    "\n",
    "clustering (군집화)"
   ]
  },
  {
   "cell_type": "markdown",
   "metadata": {},
   "source": [
    "선형회귀"
   ]
  }
 ],
 "metadata": {
  "kernelspec": {
   "display_name": "Python 3",
   "language": "python",
   "name": "python3"
  },
  "language_info": {
   "codemirror_mode": {
    "name": "ipython",
    "version": 3
   },
   "file_extension": ".py",
   "mimetype": "text/x-python",
   "name": "python",
   "nbconvert_exporter": "python",
   "pygments_lexer": "ipython3",
   "version": "3.7.4"
  }
 },
 "nbformat": 4,
 "nbformat_minor": 2
}
