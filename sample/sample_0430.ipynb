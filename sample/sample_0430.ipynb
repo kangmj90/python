{
 "cells": [
  {
   "cell_type": "markdown",
   "metadata": {},
   "source": [
    "i,i.d : independent and identically distributed"
   ]
  },
  {
   "cell_type": "markdown",
   "metadata": {},
   "source": [
    "통게 오류\n",
    "1종오류 2종오류"
   ]
  },
  {
   "cell_type": "markdown",
   "metadata": {},
   "source": [
    "미분 적분"
   ]
  },
  {
   "cell_type": "markdown",
   "metadata": {},
   "source": [
    "숙제 : 피보나치 수열 일반항으로 만들기 (증명)\n",
    "\n",
    "정화식 : a(n+2) = a(n+1) + a(n)\n",
    "a + b = 1\n",
    "ab = 1\n",
    "\n",
    "a(n+2) = (a+b)a(n+1) = ab(1)"
   ]
  }
 ],
 "metadata": {
  "kernelspec": {
   "display_name": "Python 3",
   "language": "python",
   "name": "python3"
  },
  "language_info": {
   "codemirror_mode": {
    "name": "ipython",
    "version": 3
   },
   "file_extension": ".py",
   "mimetype": "text/x-python",
   "name": "python",
   "nbconvert_exporter": "python",
   "pygments_lexer": "ipython3",
   "version": "3.7.4"
  }
 },
 "nbformat": 4,
 "nbformat_minor": 2
}
