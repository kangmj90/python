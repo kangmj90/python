{
 "cells": [
  {
   "cell_type": "markdown",
   "metadata": {},
   "source": [
    "크롤링"
   ]
  },
  {
   "cell_type": "markdown",
   "metadata": {},
   "source": [
    "URL\n",
    "\n",
    "protocol/domain/path/page/query/fragment\n",
    "\n",
    "Internet\n",
    "\n",
    "HTML - 언어 아님\n",
    "https://codepen.io\n",
    "mdn\n",
    "\n",
    "tag, attribute, value\n",
    "\n",
    "DOCTYPE\n",
    "html\n",
    "w3c validator\n",
    "\n",
    "monospace vs proportional font"
   ]
  },
  {
   "cell_type": "code",
   "execution_count": null,
   "metadata": {},
   "outputs": [],
   "source": [
    "# jupyer 에서 html 작성\n",
    "\n",
    "%%html\n",
    "<div></div>"
   ]
  },
  {
   "cell_type": "code",
   "execution_count": null,
   "metadata": {},
   "outputs": [],
   "source": [
    "# 실제 코드는 아니지만 코드처럼 보이도록\n",
    "%%html\n",
    "<code>\n",
    "var a = 10;\n",
    "</code>"
   ]
  },
  {
   "cell_type": "markdown",
   "metadata": {},
   "source": [
    "nth-child > 1 부터 시작\n",
    "ex)\n",
    "nth-child(n+6)\n",
    "nth-child(-n+6)\n",
    "nth-child(odd)\n",
    "nth-child(n+6):nth-child(-n+6)\n",
    "\n",
    "nth-of-type"
   ]
  },
  {
   "cell_type": "markdown",
   "metadata": {},
   "source": [
    "CSS\n",
    "\n",
    "inline\n",
    "embedded\n",
    "external file"
   ]
  },
  {
   "cell_type": "markdown",
   "metadata": {},
   "source": [
    "JS\n",
    "\n",
    "var \n",
    "let\n",
    "const\n",
    "\n",
    "=== (equals) > 타입까지\n",
    "== (=)\n",
    "\n",
    "${변수명}\n",
    "'hi' + var + 'hi' -> 'hi${var}hi'\n",
    "\n",
    "비구조화 할당\n",
    "익명함수\n",
    "\n",
    "getter/setter\n",
    "\n",
    "for문\n",
    "for key in keys\n",
    "for value of values\n",
    "\n",
    "https://codesandbox.io"
   ]
  }
 ],
 "metadata": {
  "kernelspec": {
   "display_name": "Python 3",
   "language": "python",
   "name": "python3"
  },
  "language_info": {
   "codemirror_mode": {
    "name": "ipython",
    "version": 3
   },
   "file_extension": ".py",
   "mimetype": "text/x-python",
   "name": "python",
   "nbconvert_exporter": "python",
   "pygments_lexer": "ipython3",
   "version": "3.7.4"
  }
 },
 "nbformat": 4,
 "nbformat_minor": 2
}
