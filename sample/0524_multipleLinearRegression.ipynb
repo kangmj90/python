{
 "cells": [
  {
   "cell_type": "markdown",
   "metadata": {},
   "source": [
    "다중선형회귀 문제\n",
    "\n",
    "1. 역행렬 안 구해지면 \n",
    "2. 교호작용\n",
    "3. 다중공선성\n",
    "4. 명목형 변수 처리\n",
    "5. 스케일링\n",
    "\n",
    "* 자유도\n",
    "\n",
    "희귀모델 성능지표\n",
    "결정 계수 : R squared. 설명하기에 좋다\n",
    "Adjusted R squred : 비교하기에 좋음. 설명력은 좋지 않다. 비교할 때 패널티를 줘서 동일 선상에 두고 하기\n",
    "\n",
    "AIC : 정보량 규준\n",
    "= 정보량\n",
    "MSE 에 작업한 후 변수 수만큼 패널티 준 것\n",
    "Kullback-Leibler\n",
    "MSE 수치가 높을 수록 복잡함을 뜻하기에 수치가 작을수록 좋다\n",
    "보조지표\n",
    "-2logL + 2K\n",
    "우도 (likelihood)\n",
    "\n",
    "BIC : Bayesian\n",
    "= AIC와 비슷한데, 이가 K 값이 커질수록 좋지 않으니 K 에 로그 취한 것\n",
    "-2logL + Klogn\n",
    "\n",
    "모델 검정\n",
    "회귀계수 검정이 아닌 모델 자체를 검정\n",
    "MSR / MSE\n",
    "\n",
    "VIF\n",
    "\n",
    "Correlation (EDA : pair plot 의 중요성)\n",
    "\n",
    "다중공선성 해결법\n",
    "- 변수 줄이기\n",
    "1. \n",
    "- 변수 줄이지 않기\n",
    "1. Feature exraction\n",
    "2. PCA : 2차원을 1차원으로 차원축소\n",
    "3. Ridge (회귀계수 축소)\n",
    "\n",
    "변수 선택법\n",
    "1. 전진선택법\n",
    "2. 후진제거법\n",
    "3. stepwise"
   ]
  },
  {
   "cell_type": "markdown",
   "metadata": {},
   "source": [
    "정규화 선형회귀\n",
    "\n",
    "-> 다항회귀에서 많이 사용\n",
    "\n",
    "Ridge / Lasso\n",
    "\n",
    "Elastic Net\n",
    "\n",
    "Ridge : grouping effect"
   ]
  },
  {
   "cell_type": "markdown",
   "metadata": {},
   "source": [
    "패키지\n",
    ": 분류모델\n",
    "\n",
    "statsmodels : R 스러움, 리포트\n",
    "scikit-learn : ML전문 패키지\n",
    "fit() 적합하고 pred() 예측하면 된다. 모델 만들기 전용"
   ]
  }
 ],
 "metadata": {
  "kernelspec": {
   "display_name": "Python 3",
   "language": "python",
   "name": "python3"
  },
  "language_info": {
   "codemirror_mode": {
    "name": "ipython",
    "version": 3
   },
   "file_extension": ".py",
   "mimetype": "text/x-python",
   "name": "python",
   "nbconvert_exporter": "python",
   "pygments_lexer": "ipython3",
   "version": "3.7.4"
  }
 },
 "nbformat": 4,
 "nbformat_minor": 2
}
