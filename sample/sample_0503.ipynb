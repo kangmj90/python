{
 "cells": [
  {
   "cell_type": "markdown",
   "metadata": {},
   "source": [
    "ML -> MLP\n",
    "DL = [FFNN(FCN, VNN), CNN, RNN, GAN]\n",
    "\n",
    "앙상블, boost(못하는 애 더 학습시키기)"
   ]
  },
  {
   "cell_type": "markdown",
   "metadata": {},
   "source": [
    "norm = 길이 개념\n",
    "행렬 ad-bc (determinant) 는 부피/넓이 개념 (좌표로 그려보기 !)"
   ]
  },
  {
   "cell_type": "markdown",
   "metadata": {},
   "source": [
    "외적 : 여인수법\n",
    "\n",
    "행렬식\n",
    "\n",
    "det(A3) = i * det(A2) + j * det(A2) + ... \n",
    "재귀\n",
    "\n",
    "*cross product \n",
    "\n",
    "3차 행렬\n",
    "- 소행렬식, 여인수, 여인수행렬\n",
    "- 대각선으로 행렬식 구할 수도 있다\n",
    "\n",
    "수반행렬\n",
    "여인수 행렬의 trans\n",
    "\n",
    "행렬 * 수반행렬 = 역행렬"
   ]
  },
  {
   "cell_type": "markdown",
   "metadata": {},
   "source": [
    "행렬 미분\n",
    "\n",
    "Numerator : 분자\n",
    "Denumerator : 분모\n",
    "\n",
    "d(xij)/d(yij)\n",
    "\n",
    "at(x) 를  미분  = at\n",
    "a transfer x 를 x 에 대하여 미분하면 a transfer  가 된다.\n",
    "\n",
    "scalar 를 vector 로 미분하면 vector\n",
    "\n",
    "*column = 세로방향 = 열\n",
    "\n",
    "쿼드라틱 폼 : vT A v\n",
    "x에 대하여 미분 시 xT(A + AT)\n",
    "\n",
    "ax 를x 에 대하여 미분 시 a"
   ]
  }
 ],
 "metadata": {
  "kernelspec": {
   "display_name": "Python 3",
   "language": "python",
   "name": "python3"
  },
  "language_info": {
   "codemirror_mode": {
    "name": "ipython",
    "version": 3
   },
   "file_extension": ".py",
   "mimetype": "text/x-python",
   "name": "python",
   "nbconvert_exporter": "python",
   "pygments_lexer": "ipython3",
   "version": "3.7.4"
  }
 },
 "nbformat": 4,
 "nbformat_minor": 2
}
