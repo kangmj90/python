{
 "cells": [
  {
   "cell_type": "markdown",
   "metadata": {},
   "source": [
    "## 데이터 정리 기본 수학"
   ]
  },
  {
   "cell_type": "markdown",
   "metadata": {},
   "source": [
    "1. 평균 : 평평하게 고르는 것\n",
    "- 평균 = 합계 / 개수\n",
    "- \\bar{x} = \\frac{x_1 + x_2 + ... + x_n }{n}"
   ]
  },
  {
   "cell_type": "markdown",
   "metadata": {},
   "source": [
    "2. 나눗셈 :\n",
    "   \n",
    "   a \\div n = p\n",
    "    \n",
    "    A. a를 n등분하면 1개당(1명당) p개다 [등분제]\n",
    "    B. a를 n씩으로 나누면 p개가 되는 a는 n이 p개 분이다 [포함제]"
   ]
  },
  {
   "cell_type": "markdown",
   "metadata": {},
   "source": [
    "3. 비율 : 비교하는 양 \\div 기준으로 삼은 양\n",
    "    A. 같은 단위끼리의 비율은 포함제\n",
    "    B. 다른 단위끼리의 비율은 등분제"
   ]
  },
  {
   "cell_type": "markdown",
   "metadata": {},
   "source": [
    "4. 여러 가지 그래프\n",
    "    - 막대 그래프 : 양의 대소를 나타낸다.\n",
    "    - 꺽은선 그래프 : 변화를 나타낸다.\n",
    "    - 원 그래프 : 비율을 나타낸다.\n",
    "    - 띠 그래프 : 비율을 비교한다."
   ]
  },
  {
   "cell_type": "markdown",
   "metadata": {},
   "source": [
    "5. 데이터와 변량\n",
    "    A. 질적 데이터 : 카테고리컬 데이터. 헤아릴 수 없는 변량으로 이루어진 데이터.\n",
    "    B. 양적 데이터 : 숫자를 더하거나 빼는 것에 의미가 있는 변량으로 이루어진 데이터.\n",
    "        B.1. 이산형 데이터 : 이웃하는 2개 사이에 다른 값이 없는 것.\n",
    "        B.2. 연속형 데이터 : 연속하는 값을 얻을 수 있는 것.\n",
    "    C. 변량 : 변수. 데이터에서 조사 대상이 되는 항목\n",
    "    D. 도수분포표 : 계급마다 도수, 상대도수, 누적상대도수 등을 정리한 표\n",
    "        D.1. 계급 : 데이터를 몇 개의 동등한 폭으로 나눈 구간\n",
    "        D.2. 계급값 : 각 계급의 중앙값\n",
    "        D.3. 도수 : 각각의 계급에 들어가는 데이터의 수\n",
    "        D.4. 상대도수 : 도수의 합계에 대한 각 계급 도수의 비율\n",
    "        D.5. 누적상대도수 : 그 계급 이하의 상대도수의 합계"
   ]
  },
  {
   "cell_type": "markdown",
   "metadata": {},
   "source": [
    "6. 히스토그램 : 도수분포표의 계급을 가로축, 도수를 세로축으로 한 막대 그래프"
   ]
  },
  {
   "cell_type": "markdown",
   "metadata": {},
   "source": [
    "7. 대푯값 : \n",
    "    - 중앙값 :  데이터를 크기순으로 나열했을 때 중앙에 오는 값. (median)\n",
    "    - 최빈값 : 도수가 가장 많은 데이터의 값. (mode)"
   ]
  },
  {
   "cell_type": "markdown",
   "metadata": {},
   "source": [
    "8. 데이터 분포 대상 : \n",
    "    - 사분위수 : 데이터를 크기순으로 배열했을 때 4등분하는 3개의 수치\n",
    "        |--------------------|--------------------|--------------------|--------------------|\n",
    "    최솟값                 제1분위수         제2분위수(중앙값)        제3분위수                 최댓값"
   ]
  },
  {
   "cell_type": "markdown",
   "metadata": {},
   "source": [
    "## 데이터 분석 기본 수학"
   ]
  },
  {
   "cell_type": "markdown",
   "metadata": {},
   "source": [
    "1. 제곱근 : 제곱하면 a가 되는 수를 제곱근이라고 한다.\n",
    "    - a의 제곱근 : x^2 = a 의 해. \\pm \\sqrt{a} "
   ]
  },
  {
   "cell_type": "markdown",
   "metadata": {},
   "source": [
    "2. 제곱근 계산 : \n",
    "    - \\sqrt{a}  + \\sqrt{a} != \\sqrt{a+b}\n",
    "    - \\sqrt{a}  - \\sqrt{a} != \\sqrt{a-b}\n",
    "    - \\sqrt{a} \\times  \\sqrt{a} = \\sqrt{a \\times b}\n",
    "    - \\sqrt{a^2 \\times b} = \\sqrt{a^2} \\times \\sqrt{b} = a\\sqrt{b}"
   ]
  },
  {
   "cell_type": "markdown",
   "metadata": {},
   "source": [
    "5. 분산 : 평균으로부터 떨어진 정도가 잘 보일 수 있도록 고안된 '(평균으로부터의 차)^2 의 평균'\n",
    "    - (값 - 평균)^2\n",
    "    - V_x = ((x_1 - \\bar{x_1}))^2 + ((x_2 - \\bar{x_2}))^2 + ... + ((x_n - \\bar{x_n}))^2 \\div n"
   ]
  },
  {
   "cell_type": "markdown",
   "metadata": {},
   "source": [
    "6. 표준편차 : \\sqrt{분산}\n",
    "    - s_x = \\sqrt{V_x} = \\sqrt{((x_1 - \\bar{x_1}))^2 + ((x_2 - \\bar{x_2}))^2 + ... + ((x_n - \\bar{x_n}))^2 \\div n}"
   ]
  },
  {
   "cell_type": "markdown",
   "metadata": {},
   "source": [
    "7. 편찻값 : 데이터 전체 속에 있는 특정한 데이터가 얼마나 특수한지를 측정하는 지표\n",
    "    - 편찻값 = 50 + ((특정 데이터 - 평균) \\div 표준편차) \\times 10"
   ]
  },
  {
   "cell_type": "markdown",
   "metadata": {},
   "source": [
    "## 상관 관계"
   ]
  },
  {
   "cell_type": "markdown",
   "metadata": {},
   "source": [
    "1. 함수\n",
    "    - y는 x의 함수다 == y is function of x == y = f(x)\n",
    "    - y 가 x의 함수이기 위한 조건\n",
    "        A. x값에 의해 y값이 하나로 정해진다.\n",
    "        B. x가 (정해진 범위 안의) 자유로운 값을 가질 수 있다.\n",
    "    - y = f(x)의 그래프 : 그 식에 대입할 수 있는 점들의 집합\n",
    "    - x를 원인, y를 결과라고 하면 함수 = 인과관계"
   ]
  },
  {
   "cell_type": "markdown",
   "metadata": {},
   "source": [
    "2. 1차 함수\n",
    "    - y = ax + b\n",
    "        -- y \\div x = a  = 세로 \\div 가로 = 기울기\n",
    "        -- b 는 y절편 = y축과의 교점\n",
    "    - y = a(x - p) + q == 기울기가 a이고 점 (p , q) 를 통과하는 직선의 식\n",
    "    - 직선 형태"
   ]
  },
  {
   "cell_type": "markdown",
   "metadata": {},
   "source": [
    "3. 2차 함수\n",
    "    - y = ax^2 + bx + c\n",
    "    - 포물선 형태. "
   ]
  },
  {
   "cell_type": "markdown",
   "metadata": {},
   "source": [
    "5. 완전제곱과 2차함수\n",
    "    - ax^2 + bx + c = a(x + m)^2 + n\n",
    "    - 완전제곱의 소 : x^2 + 2kx = (x + k)^2 - k^2\n",
    "    - ax^2 + bx + c  = a(x + (b \\div 2a))^2 - ((b^2 - 4ac) \\div 4a)"
   ]
  },
  {
   "cell_type": "markdown",
   "metadata": {},
   "source": [
    "7. 2차함수와 2차방정식\n",
    "    - 2차 방정식 풀이법\n",
    "    A. 인수분해 \n",
    "        - x^2 + (a + b)x + ab = (x + a)(x + b)\n",
    "    B. 근의 공식\n",
    "        - ax^2 + bx + c  = a(x + (b \\div 2a))^2 - ((b^2 - 4ac) \\div 4a)"
   ]
  },
  {
   "cell_type": "markdown",
   "metadata": {},
   "source": [
    "8. 그래프와 판별식의 관계\n",
    "    - y = ax^2 + bx + c 그래프가 항상 y > 0\n",
    "        -- b^2 - 4ac < 0 ( 그래프가 x축과 교점을 갖지 않기 위한 조건 )\n",
    "        -- 해는 허수"
   ]
  },
  {
   "cell_type": "markdown",
   "metadata": {},
   "source": [
    "10. 산포도 : 2개 변수의 값을 좌표로 취급하며 그것을 좌표축 위의 점으로 표시\n",
    "    A. 그래프 기울기 : \n",
    "        - 그래프가 우상향 : 직선의 기울기는 양\n",
    "        - 그래프가 우하향 : 직선의 기울기는 음\n",
    "    B. 띠 모양 : \n",
    "        - 좁은 띠 모양 : 강한 상관관계\n",
    "        - 넓은 띠 모양 : 약한 상관관계\n",
    "        - 원형 : 상관관계 없음\n",
    "    C. 주의점\n",
    "        - 얻어진 경향이 반드시 일반적이지는 않다\n",
    "        - 상관관계가 있다 해도 반드시 인과관계가 있지는 않다"
   ]
  },
  {
   "cell_type": "markdown",
   "metadata": {},
   "source": [
    "11. 상관계수 : 양이나 음의 상관관계와 강약을 나타내는 수치\n",
    "    - 공분산 : c_xy = ((x_1 - \\bar{x_1})(y_1 - \\bar{y_1}) + (x_2 - \\bar{x_2})(y_2 - \\bar{y_2}) + ... + (x_3 - \\bar{x_3})(y_3 - \\bar{y_3})) \\div n\n",
    "    - x 와 y 의 상관계수 r : r = c_xy \\div (s_x \\times s_y)\n",
    "    - 상관계수는 반드시 -1 \\leqq r \\leqq 1 의 범위에 있다"
   ]
  },
  {
   "cell_type": "markdown",
   "metadata": {},
   "source": [
    "12. 상관계수 수식 증명"
   ]
  },
  {
   "cell_type": "markdown",
   "metadata": {},
   "source": [
    "## 흩어져 있는 데이터 분석"
   ]
  },
  {
   "cell_type": "markdown",
   "metadata": {},
   "source": [
    "1. 계승 : 단계를 내려가듯이 숫자를 하나씩 줄여가면서 곱해가는 계산  : !\n",
    "    - 순열 : 순서를 고려하는 경우\n",
    "    - 조합 : 순서를 고려하지 않는 경우"
   ]
  },
  {
   "cell_type": "markdown",
   "metadata": {},
   "source": [
    "2. 순열 : Permutation \n",
    "    - _nP_r = n \\times ( n - 1 ) \\times ... \\times ( n - r + 1 ) = n! \\div ( n - r )!"
   ]
  },
  {
   "cell_type": "markdown",
   "metadata": {},
   "source": [
    "3. 조합 : Combination\n",
    "    - _nC_r = _nP_r \\div r! = (n \\times ( n - 1 ) \\times ... \\times ( n - r + 1 ) ) \\div (r \\times ( r - 1 ) \\times ... \\times 1)"
   ]
  },
  {
   "cell_type": "markdown",
   "metadata": {},
   "source": [
    "4. 이항계수 : 이항식의 전개식의 계수로 나타내는 수\n",
    "    - ( a + b )^n = _nC_0a^n + _nC1a^n-1b + ... + _nC_nb^n"
   ]
  },
  {
   "cell_type": "markdown",
   "metadata": {},
   "source": [
    "5. 확률 : \n",
    "    A. 시행 : 반복 가능, 그 결과가 우연에 좌우되는 행위\n",
    "    B. 표본공간 : 어떤 시행을 했을 때 일어날 수 있는 모든 결과를 모은 집한\n",
    "    C. 사건 : 표본공간의 일부"
   ]
  },
  {
   "cell_type": "markdown",
   "metadata": {},
   "source": [
    "## 연속 데이터 분석"
   ]
  }
 ],
 "metadata": {
  "kernelspec": {
   "display_name": "Python 3",
   "language": "python",
   "name": "python3"
  },
  "language_info": {
   "codemirror_mode": {
    "name": "ipython",
    "version": 3
   },
   "file_extension": ".py",
   "mimetype": "text/x-python",
   "name": "python",
   "nbconvert_exporter": "python",
   "pygments_lexer": "ipython3",
   "version": "3.7.4"
  }
 },
 "nbformat": 4,
 "nbformat_minor": 2
}
