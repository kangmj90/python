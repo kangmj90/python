{
 "cells": [
  {
   "cell_type": "markdown",
   "metadata": {},
   "source": [
    "군집화\n",
    "\n",
    "K-means clustering\n",
    "- 가장 간단\n",
    "- 손실함수 - 관성- 관성이 가장 작을 때 까지\n",
    "- 맨하탄 / 유클리드 사용가능\n",
    "- 평균 활용\n",
    "\n",
    "find K\n",
    "- Elobow method\n",
    "    : K 가 가장 급격하게 값이 변하는 부분 찾기\n",
    "- Silhouette \n",
    "    : \n",
    "K-medoids clustering\n",
    "- 중간값 이용\n",
    "- 계산량 즈가\n",
    "\n",
    "Heirachical clustering \n",
    "- dㅠ사도 행렬 (비계층, 계층)\n",
    "\n",
    "DBSCAN\n",
    "- Eps-neighbors, MinPts"
   ]
  },
  {
   "cell_type": "markdown",
   "metadata": {},
   "source": [
    "Deep learning\n",
    "\n",
    "- shallow learning  의 반댓말\n",
    "- Ml의 MLP 에서 이 레이어를 더 깊게 쌓은 것\n",
    "\n",
    "- FFNN 그래프\n",
    "- input hidden output layer\n",
    "- node weight\n",
    "- non-linear\n",
    "\n",
    "- 손실함수\n",
    "- 경사하강 = gradient desent\n",
    "- w_k = w0 - n(eta) * gradient\n",
    "\n",
    "- 가중치 오차 전달 때문에 오류\n",
    "\n",
    "- 순전파 -> 역전파(back propagation)\n",
    "- 컴퓨팅 파워 든다\n",
    "- AI winter season 1\n",
    "\n",
    "- gradient vanishing problem\n",
    "- AI winter season 2\n",
    "\n",
    "- (시그모이드, 하이퍼볼릭 탄젠트) 활성화 함수 > 역전파에서 작동 안함\n",
    "- 그래디언트 소실\n",
    "- reRU\n",
    "\n",
    "- imagenet\n",
    "\n",
    "- Alexnet\n",
    "- VGG(19layer, pretrained 모델), GoogLenet\n",
    "- ResnNet (가장 마지막 competition)"
   ]
  },
  {
   "cell_type": "markdown",
   "metadata": {},
   "source": [
    "기본 플로우\n",
    "1epoch\n",
    "\n",
    "Batch\n",
    "- 데이터셋 = batch = mini0batch\n",
    "\n",
    "손실함수\n",
    "분류 : 크로스 엔트로피\n",
    "회귀 : MSE(L2 loss : 제곱), MAE(L1 loss : 절대값)\n",
    "\n",
    "엔트로피 수식 : sigmaP(x) * logP(x)\n",
    "\n",
    "Kullback-Leibler Divergence (KL 발산, D_KL)\n",
    "- 서로 다른 두 분포의 차이를 측정하는 방법\n",
    "- (cross entropy - entropy) => ce >= e 항상 => 항상 양수  = 차이가 작을 수록 분류 잘한다\n",
    "\n",
    "Optimizer\n",
    "\n",
    "언어비교\n",
    "tensor flow vs pytorch\n",
    "\n",
    " CNN - 영상처리 특화\n",
    " - max pulling, average pulling -> feature extraction\n",
    " \n",
    " FasterRCNN vs YOLOv2\n",
    " Object detection & Other\n",
    " \n",
    " RNN -> LSTM\n",
    " \n",
    " AutoEncoder\n",
    " - Feature extratction & 차원 축소\n",
    " - Latent Vector (벡터z)\n",
    " \n",
    " NLP (Natural Language Processing)\n",
    " \n",
    " Voice - 음성처리"
   ]
  },
  {
   "cell_type": "markdown",
   "metadata": {},
   "source": [
    "out of vec\n",
    "word to vec\n",
    "back in the word (bow)\n",
    "\n",
    "문자열 처리 (자연어 처리)\n",
    "http://w.elnn.kr/search/"
   ]
  },
  {
   "cell_type": "markdown",
   "metadata": {},
   "source": [
    "GAN\n",
    "- Generative Adversarial Network (생성, 적대, 네트워크)\n",
    "- 어떤 분포 / 부산 자체를 만들어내는 모델\n",
    "- 생성자와 구분자를 적대적으로 경쟁시키며 바전시킴\n",
    "> 가짜 데이터 + 진짜 데이터 구별해내는 모델\n",
    "\n",
    "- net 을 부르면 딥러닝과 관계된 단어이다 (예외 imagenet)\n",
    "\n",
    "-  생성이라는 문제를 풀기위해 딤러닝으로 만들어진 모델을 적대적 학습이라는 독특한 방식으로 학습시키는 알고리즘\n",
    "\n",
    "- 학습 불안정 : 수렴하지 못하는 경우, 편향적 될 수 있다\n",
    "- 성능평가 어려움\n",
    "- Mode Collapsing\n",
    "\n",
    "DC-GAN\n",
    "- FC 대신 CNN\n",
    "- 배치정규화 사용"
   ]
  },
  {
   "cell_type": "markdown",
   "metadata": {},
   "source": [
    "soft max\n",
    "- 확률값 처럼 만들기"
   ]
  },
  {
   "cell_type": "markdown",
   "metadata": {},
   "source": [
    "마무리\n",
    "\n",
    "샘플링 방법\n",
    "- 비대칭 데이터\n",
    "1. 업샘플링\n",
    "2. 다운샘플링\n",
    "\n",
    "카테고리 변수\n",
    "\n",
    "스케일링\n",
    "\n",
    "프로젝트 해볼 것\n",
    "- 전처리 시각화 > 강남3구, 타이타닉\n",
    "- 선형대수 > load_boston\n",
    "=> kaggle 에서 뉴욕 택시 드라이버\n",
    "- ML > titanic\n",
    "=> kaggle 에서 Facial Key Point Detection\n",
    "- DL\n",
    "=> kaggle 에서 Facial Key Point Detection (CNN, GAN ...)\n",
    "\n",
    "이미지 처리 > OpenCV 로 공부하기\n",
    "시계열 (미래 예측) > MA, AR, ARIMA 등 고전 ML\n",
    "\n",
    "고급 선형 대수 => 아이젠 벡터, 아이젠 함수 ....\n",
    "\n",
    "https://datascienceschool.net"
   ]
  }
 ],
 "metadata": {
  "kernelspec": {
   "display_name": "Python 3",
   "language": "python",
   "name": "python3"
  },
  "language_info": {
   "codemirror_mode": {
    "name": "ipython",
    "version": 3
   },
   "file_extension": ".py",
   "mimetype": "text/x-python",
   "name": "python",
   "nbconvert_exporter": "python",
   "pygments_lexer": "ipython3",
   "version": "3.7.4"
  }
 },
 "nbformat": 4,
 "nbformat_minor": 2
}
