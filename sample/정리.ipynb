{
 "cells": [
  {
   "cell_type": "markdown",
   "metadata": {},
   "source": [
    "# Python"
   ]
  },
  {
   "cell_type": "markdown",
   "metadata": {},
   "source": [
    "- 인터프리터 방식의 프로그래밍 언어\n",
    "- 개발자는 귀도 반 로섬"
   ]
  },
  {
   "cell_type": "markdown",
   "metadata": {},
   "source": [
    "1. 어떠한 개발 환경에서도 같은 문법\n",
    "2. 인터프리터 언어 (한 줄씩 컴파일 하면서 코드 실행)\n",
    "3. 객체 지향\n",
    "4. 변수 선언 시 데이터 타입을 선언하지 않아도 자동으로 설정\n",
    "\n",
    "병렬처리가 잘 안된다.\n",
    "기본이 단일 스레드"
   ]
  },
  {
   "cell_type": "markdown",
   "metadata": {},
   "source": [
    "Data Type\n",
    "1. int\n",
    "2. float\n",
    "3. boolean\n",
    "4. string\n",
    "5. Collections\n",
    "    - List\n",
    "    - Tuple\n",
    "    - Dictionary\n",
    "    - Set"
   ]
  },
  {
   "cell_type": "markdown",
   "metadata": {},
   "source": [
    "문자열 연산\n",
    "-> 문자열 반복 가능"
   ]
  },
  {
   "cell_type": "code",
   "execution_count": 3,
   "metadata": {},
   "outputs": [
    {
     "name": "stdout",
     "output_type": "stream",
     "text": [
      "hello hello \n"
     ]
    }
   ],
   "source": [
    "print('hello ' * 2)"
   ]
  },
  {
   "cell_type": "markdown",
   "metadata": {},
   "source": [
    "문자열 슬라이싱\n",
    "-> 역순 조회 가능"
   ]
  },
  {
   "cell_type": "code",
   "execution_count": 5,
   "metadata": {},
   "outputs": [],
   "source": [
    "str = 'python'"
   ]
  },
  {
   "cell_type": "code",
   "execution_count": 9,
   "metadata": {},
   "outputs": [
    {
     "data": {
      "text/plain": [
       "'nohtyp'"
      ]
     },
     "execution_count": 9,
     "metadata": {},
     "output_type": "execute_result"
    }
   ],
   "source": [
    "# 음수일 때는 역순\n",
    "str[::-1]"
   ]
  },
  {
   "cell_type": "markdown",
   "metadata": {},
   "source": [
    "Collections"
   ]
  },
  {
   "cell_type": "markdown",
   "metadata": {},
   "source": [
    "List\n",
    "\n",
    "- 순서 있는 데이터 집합\n",
    "- []\n",
    "- 다양한 변수 형태\n",
    "- 인덱싱 / 슬라이스 가능"
   ]
  },
  {
   "cell_type": "markdown",
   "metadata": {},
   "source": [
    "Tuple\n",
    "\n",
    "- 순서가 있지만 변경 불가능한 데이터 집합\n",
    "- ()\n",
    "- (,)\n",
    "- 다양한 변수 형태\n",
    "- List 보다 적은 자원 사용. 변경하지 않을 값 집합"
   ]
  },
  {
   "cell_type": "markdown",
   "metadata": {},
   "source": [
    "Dictionary\n",
    "\n",
    "- 순서 없는 key : value 형식\n",
    "- {}\n",
    "- 순서가 없으므로 인덱싱 /슬라이스 불가능"
   ]
  },
  {
   "cell_type": "markdown",
   "metadata": {},
   "source": [
    "Set\n",
    "\n",
    "- 순서 없고 변경 불가능하고 중복 없는 데이터 집합\n",
    "- {}, set()\n",
    "- 집합 연산 가능 (합, 교, 차)\n",
    "- 순서가 없으므로 인덱싱 /슬라이스 불가능"
   ]
  },
  {
   "cell_type": "markdown",
   "metadata": {},
   "source": [
    "코드블럭은 콜론(:)과 인덴테이션(tab)\n",
    "- if\n",
    "    - 조건문\n",
    "    - if 조건 elif 조건 else\n",
    "    - swith 없음\n",
    "- for\n",
    "    - 반복문\n",
    "    - for 변수 in 범위\n",
    "- while\n",
    "    - 반복문\n",
    "    - while 조건\n",
    "- try\n",
    "    - 예외처리\n",
    "    - try 내용 catch 내용 finally\n",
    "    \n",
    "* else 와 finally 는 어느 구문 뒤에 붙여도 가능 \n",
    "* else 는 어떠한 구문 뒤에도 사용 가능 (for 문이 작동하지 않고 내려가면 else 작동)"
   ]
  },
  {
   "cell_type": "markdown",
   "metadata": {},
   "source": [
    "Function\n",
    "\n",
    "1. 코드의 재사용성\n",
    "2. 코드의 양 축소\n",
    "\n",
    "별도 사용 시에는 그냥 함수\n",
    "클래스 내부에서 사용하면  (=메서드)"
   ]
  },
  {
   "cell_type": "code",
   "execution_count": null,
   "metadata": {},
   "outputs": [],
   "source": [
    "def function_name(param1, param2=1):\n",
    "    pass #  기본 구조 만들 때. 로직 구성 이후에는 삭제\n",
    "\n",
    "# 로직 구현\n",
    "    return param1 + param2 # 구현된 로직의 리턴 값\n",
    "\n",
    "function_name(1)\n",
    "function_name(1, 2)"
   ]
  },
  {
   "cell_type": "code",
   "execution_count": null,
   "metadata": {},
   "outputs": [],
   "source": [
    "def func_args(*args):\n",
    "    return args\n",
    "\n",
    "func_args(1, '2', {'key': 3})"
   ]
  },
  {
   "cell_type": "code",
   "execution_count": null,
   "metadata": {},
   "outputs": [],
   "source": [
    "def func_kargs(*kargs):\n",
    "    return kargs\n",
    "\n",
    "func_kargs(key1=value1, key2=value2)"
   ]
  },
  {
   "cell_type": "markdown",
   "metadata": {},
   "source": [
    "Docstring\n",
    "\n",
    "확인 - shift + tab\n",
    "함수 작성 시 - 함수 바로 아래에 텍스트로 작성"
   ]
  },
  {
   "cell_type": "code",
   "execution_count": 4,
   "metadata": {},
   "outputs": [
    {
     "data": {
      "text/plain": [
       "3"
      ]
     },
     "execution_count": 4,
     "metadata": {},
     "output_type": "execute_result"
    }
   ],
   "source": [
    "Inner Function\n",
    "\n",
    "def func_out(a):\n",
    "    def func_in(b):\n",
    "        'adsf'\n",
    "        return a + b\n",
    "    return func_in\n",
    "\n",
    "func_out(1)(2)"
   ]
  },
  {
   "cell_type": "code",
   "execution_count": null,
   "metadata": {},
   "outputs": [],
   "source": [
    "Lambda Function\n",
    "\n",
    "def lambda_1(a, b):\n",
    "    return a + b"
   ]
  },
  {
   "cell_type": "code",
   "execution_count": null,
   "metadata": {},
   "outputs": [],
   "source": [
    "lambda_2 = lambda a, b: a + b"
   ]
  },
  {
   "cell_type": "code",
   "execution_count": null,
   "metadata": {},
   "outputs": [],
   "source": [
    "List Comprehension\n",
    "\n",
    "ls = []\n",
    "for i in range(10):\n",
    "    ls.append(i)\n",
    "    \n",
    "print(ls)"
   ]
  },
  {
   "cell_type": "code",
   "execution_count": null,
   "metadata": {},
   "outputs": [],
   "source": [
    "ls = [i for i in range(10)]"
   ]
  },
  {
   "cell_type": "markdown",
   "metadata": {},
   "source": [
    "Class\n",
    "\n",
    "1. 코드의 재사용성\n",
    "2. 코드의 양 축소\n",
    "3. 변수와 함수를 묶은 타입\n",
    "4. 메모리에 구현되면 인스턴스\n",
    "5. 함수 선언 시 가장 처음 변수는 self ( self 는 자기 자신)\n",
    "6. magic method (__) : 내부에서 사용하는 메서드나 변수"
   ]
  },
  {
   "cell_type": "code",
   "execution_count": null,
   "metadata": {},
   "outputs": [],
   "source": [
    "class cls:\n",
    "    var1 = 0 # 클래스 변수\n",
    "    \n",
    "    def __init__(self, p1, p2):\n",
    "        self.p1 = p1 # 인스턴스 변수\n",
    "        self.p2 = p2\n",
    "    \n",
    "    def cls_func1(self, p1, p2):\n",
    "        self.p1 = p1\n",
    "        self.p2 = p2\n",
    "        \n",
    "    def cls_func2(self):\n",
    "        print(self.p1, self.p2, cls.var1)\n",
    "        \n",
    "cls1 = cls()\n",
    "print(cls1.cls_func1(1, 2))\n",
    "print(cls.func2())"
   ]
  },
  {
   "cell_type": "markdown",
   "metadata": {},
   "source": [
    "Module\n",
    "\n",
    "1. 변수 함수 클래스 모아놓은 파일\n",
    "2. import 하여 사용"
   ]
  },
  {
   "cell_type": "code",
   "execution_count": 2,
   "metadata": {},
   "outputs": [
    {
     "name": "stdout",
     "output_type": "stream",
     "text": [
      "Writing aa.py\n"
     ]
    }
   ],
   "source": [
    "%%writefile aa.py\n",
    "\n",
    "a = 1\n",
    "\n",
    "print('b = 2')\n",
    "\n",
    "def c():\n",
    "    pass\n",
    "\n",
    "class d:\n",
    "    def e(self):\n",
    "        return 'e'"
   ]
  },
  {
   "cell_type": "code",
   "execution_count": 3,
   "metadata": {},
   "outputs": [
    {
     "name": "stdout",
     "output_type": "stream",
     "text": [
      "\r\n",
      "a = 1\r\n",
      "\r\n",
      "print('b = 2')\r\n",
      "\r\n",
      "def c():\r\n",
      "    pass\r\n",
      "\r\n",
      "class d:\r\n",
      "    def e(self):\r\n",
      "        return 'e'\r\n"
     ]
    }
   ],
   "source": [
    "!cat aa.py"
   ]
  },
  {
   "cell_type": "code",
   "execution_count": 4,
   "metadata": {},
   "outputs": [
    {
     "name": "stdout",
     "output_type": "stream",
     "text": [
      "b = 2\n"
     ]
    },
    {
     "data": {
      "text/plain": [
       "1"
      ]
     },
     "execution_count": 4,
     "metadata": {},
     "output_type": "execute_result"
    }
   ],
   "source": [
    "import aa\n",
    "\n",
    "aa.a"
   ]
  },
  {
   "cell_type": "code",
   "execution_count": 7,
   "metadata": {
    "scrolled": true
   },
   "outputs": [
    {
     "data": {
      "text/plain": [
       "<function aa.c()>"
      ]
     },
     "execution_count": 7,
     "metadata": {},
     "output_type": "execute_result"
    }
   ],
   "source": [
    "# 특정 변수, 함수, 클래스만 가져오기\n",
    "\n",
    "from aa import c\n",
    "\n",
    "c"
   ]
  },
  {
   "cell_type": "markdown",
   "metadata": {},
   "source": [
    "File IO"
   ]
  },
  {
   "cell_type": "code",
   "execution_count": null,
   "metadata": {},
   "outputs": [],
   "source": [
    "f = open('file1.txt', 'w')\n",
    "\n",
    "s = '''\n",
    "athew;qotyiowghnsd.khtoq4ithegkldsfrohiturejkfdsl\n",
    "atqwyiutlyehfsdkjlor34uirefjkd\n",
    "'''\n",
    "\n",
    "f.write(s)\n",
    "f.close()"
   ]
  },
  {
   "cell_type": "code",
   "execution_count": null,
   "metadata": {},
   "outputs": [],
   "source": [
    "f = open('file1.txt', 'r')\n",
    "print(f.read())\n",
    "f.close()"
   ]
  },
  {
   "cell_type": "code",
   "execution_count": null,
   "metadata": {},
   "outputs": [],
   "source": [
    "with open('file1.txt', 'r') as f:\n",
    "    f.read()"
   ]
  },
  {
   "cell_type": "code",
   "execution_count": null,
   "metadata": {},
   "outputs": [],
   "source": [
    "import pickle\n",
    "\n",
    "content = 'content'\n",
    "\n",
    "f = open('file2.pkl', 'wb')\n",
    "pickle.dump(content, f)\n",
    "f.close()"
   ]
  },
  {
   "cell_type": "code",
   "execution_count": null,
   "metadata": {},
   "outputs": [],
   "source": [
    "with open('file2.pkl', 'wb') as f:\n",
    "    pickle.dump(content, f)"
   ]
  },
  {
   "cell_type": "code",
   "execution_count": null,
   "metadata": {},
   "outputs": [],
   "source": [
    "with open('file2.pkl', 'rb') as f:\n",
    "    load1 = pickle.load(f)\n",
    "    \n",
    "load1"
   ]
  },
  {
   "cell_type": "code",
   "execution_count": null,
   "metadata": {},
   "outputs": [],
   "source": [
    "with open('file3.txt', 'w') as f:\n",
    "    print(content, file=f)"
   ]
  },
  {
   "cell_type": "markdown",
   "metadata": {},
   "source": [
    "정규 표현식\n",
    "\n",
    "1. 문자열 패턴\n",
    "2. [] 사이의 문자들 매칭\n",
    "ex) [a,b,c] [] 안에 있는 문자들 매칭\n",
    "3. - 범위\n",
    "ex) A-Z, 0-9 (A 부터 Z, 0 부터 9)\n",
    "4. ^ NOT\n",
    "ex) [^0-9] 숫자가 아닌 것들\n",
    "5. .(점) \\n 을 제외한 모든 문자\n",
    "6. * 앞의 모든 문자 반복 매칭 (0 ~ 무한대)\n",
    "7. + 앞의 모든 문자 반복 매칭 (1 ~ 무한대)\n",
    "8. {최소반복횟수, 최대반복횟수}\n",
    "9. ? 앞 문자가 있거나 없거나 (0 or 1)\n",
    "10. () 그룹지정\n",
    "11. ^text 맨 앞에 이 문자\n",
    "12. text$ 맨 뒤에 이 문자\n",
    "13. compile 해당 문자를 패턴으로 만들겠다\n",
    "14. match 해당 문자 패턴 검사\n",
    "15. search 는 match 와 비슷하지만 전체 중에 일치하는 부분이 있기만 하면 반환"
   ]
  },
  {
   "cell_type": "code",
   "execution_count": null,
   "metadata": {},
   "outputs": [],
   "source": [
    "# 대괄호 안에 있어야 정규 표현식\n",
    "a[.]b\n",
    "\n",
    "a*b\n",
    "\n",
    "a+b\n",
    "\n",
    "a?b\n",
    "\n",
    "()()"
   ]
  },
  {
   "cell_type": "code",
   "execution_count": null,
   "metadata": {},
   "outputs": [],
   "source": [
    "import re\n",
    "\n",
    "p = re.compile('[a-z]')\n",
    "s = '1q2w3e4r'\n",
    "p.match(s)\n",
    "\n",
    "re.match('[a-z]', s)"
   ]
  },
  {
   "cell_type": "markdown",
   "metadata": {},
   "source": [
    "Numpy\n",
    "\n",
    "1. np.array() : ndarray 타입. 행렬기준\n",
    "2. np.zeros((2, 3))\n",
    "3. np.ones((2, 3))\n",
    "4. np.eye(3)\n",
    "5. np.identity(3)\n",
    "6. np.random.randint(1, 10, (2, 3))\n",
    "7. np.random.shuffle(mx)\n",
    "8. np.arange(10)\n",
    "10.np.reshape(mx)\n",
    "11. mx[ 행 , 열 ]"
   ]
  },
  {
   "cell_type": "code",
   "execution_count": null,
   "metadata": {},
   "outputs": [],
   "source": [
    "import numpy as np"
   ]
  },
  {
   "cell_type": "markdown",
   "metadata": {},
   "source": [
    "Pandas\n",
    "\n",
    "1차원 - Series\n",
    "2차원 - DataFrame\n",
    "3차원 - Panel\n",
    "\n",
    "2차원 기준으로 DataFrame 에서 행 / 열을 추출하면 1차원이 되는 개념\n",
    "\n",
    "Series : 같은 데이터 타입\n",
    "\n",
    "broadcasting\n",
    "\n",
    "boolean indexing\n",
    "\n",
    "fancy idexing"
   ]
  },
  {
   "cell_type": "code",
   "execution_count": null,
   "metadata": {},
   "outputs": [],
   "source": [
    "import pandas as pd\n",
    "\n",
    "# 앞에서부터 5개 데이터 조회\n",
    "pd.head()\n",
    "\n",
    "# 뒤에서부터 5개 데이터 조회\n",
    "pd.tail()"
   ]
  }
 ],
 "metadata": {
  "kernelspec": {
   "display_name": "Python 3",
   "language": "python",
   "name": "python3"
  },
  "language_info": {
   "codemirror_mode": {
    "name": "ipython",
    "version": 3
   },
   "file_extension": ".py",
   "mimetype": "text/x-python",
   "name": "python",
   "nbconvert_exporter": "python",
   "pygments_lexer": "ipython3",
   "version": "3.7.4"
  }
 },
 "nbformat": 4,
 "nbformat_minor": 2
}
