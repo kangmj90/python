{
 "cells": [
  {
   "cell_type": "markdown",
   "metadata": {
    "slideshow": {
     "slide_type": "slide"
    }
   },
   "source": [
    "# Hi Jupyter!"
   ]
  },
  {
   "cell_type": "markdown",
   "metadata": {
    "slideshow": {
     "slide_type": "subslide"
    }
   },
   "source": [
    "TMI: Why JuPyteR?"
   ]
  },
  {
   "cell_type": "markdown",
   "metadata": {
    "slideshow": {
     "slide_type": "slide"
    }
   },
   "source": [
    "## 1. 켜고 끄기"
   ]
  },
  {
   "cell_type": "markdown",
   "metadata": {
    "slideshow": {
     "slide_type": "subslide"
    }
   },
   "source": [
    "### 켜기"
   ]
  },
  {
   "cell_type": "markdown",
   "metadata": {
    "slideshow": {
     "slide_type": "fragment"
    }
   },
   "source": [
    "jupyter notebook"
   ]
  },
  {
   "cell_type": "markdown",
   "metadata": {
    "slideshow": {
     "slide_type": "subslide"
    }
   },
   "source": [
    "### 새 폴더 만들기"
   ]
  },
  {
   "cell_type": "markdown",
   "metadata": {
    "slideshow": {
     "slide_type": "subslide"
    }
   },
   "source": [
    "### 새 문서 만들기"
   ]
  },
  {
   "cell_type": "markdown",
   "metadata": {
    "slideshow": {
     "slide_type": "fragment"
    }
   },
   "source": [
    "확장자는 ipynb 그러나 notebook상에서는 보이지 않음!"
   ]
  },
  {
   "cell_type": "markdown",
   "metadata": {
    "slideshow": {
     "slide_type": "subslide"
    }
   },
   "source": [
    "### 문서 저장"
   ]
  },
  {
   "cell_type": "markdown",
   "metadata": {
    "slideshow": {
     "slide_type": "subslide"
    }
   },
   "source": [
    "### 문서 끄기"
   ]
  },
  {
   "cell_type": "markdown",
   "metadata": {
    "slideshow": {
     "slide_type": "subslide"
    }
   },
   "source": [
    "### jupyter server 끄기"
   ]
  },
  {
   "cell_type": "markdown",
   "metadata": {
    "slideshow": {
     "slide_type": "slide"
    }
   },
   "source": [
    "## 2. My_fisrt_jupyter"
   ]
  },
  {
   "cell_type": "markdown",
   "metadata": {
    "slideshow": {
     "slide_type": "subslide"
    }
   },
   "source": [
    "### 1. Cell\n",
    "- 회색 박스\n",
    "    - 코드 실행의 단위"
   ]
  },
  {
   "cell_type": "markdown",
   "metadata": {
    "slideshow": {
     "slide_type": "subslide"
    }
   },
   "source": [
    "### 2. Mode\n",
    "- 셀의 모드에는 명령모드(command mode)와 편집모드(edit mode)의 두가지가 존재\n",
    "    - 명령모드(command mode)\n",
    "        - 셀 편집 모드\n",
    "        - 셀의 테두리 선이 파란색\n",
    "        - 단축키: esc\n",
    "    - 편집모드(edit mode)\n",
    "        - 셀 내부의 코드와 내용을 편집\n",
    "        - 셀의 테두리 선이 초록색\n",
    "        - 단축키 : enter\n",
    "    - 셀 내부로 들어가 편집모드를 사용하고 나와서 명령모드를 사용한다.\n",
    "    - vim과 같은 기본적인 에디터와 비슷한 인터페이스 구조"
   ]
  },
  {
   "cell_type": "markdown",
   "metadata": {
    "slideshow": {
     "slide_type": "subslide"
    }
   },
   "source": [
    "- 단축키\n",
    "    - 명령모드\n",
    "        - a : 선택한 셀 위로 새로운 셀 생성(above)\n",
    "        - b : 선택한 셀 아래로 새로운 셀 생성(below)\n",
    "        - m : 선택한 셀을 마크다운 스타일로 변환\n",
    "        - y : 선택한 셀을 코드 스타일로 변환\n",
    "        - l : 라인 표시\n",
    "        - dd, x : 셀 삭제\n",
    "        - z : 실행 취소\n",
    "    - 편집모드\n",
    "        - command + Enter : 현재 셀의 코드 실행\n",
    "        - option + Enter : 현재 셀의 코드 실행 후 아래에 새로운 셀 생성\n",
    "        - shift + Enter : 현재 셀의 코드 실행 후 다음 셀로 이동\n",
    "        - tab : just tab, 자동완성 기능\n",
    "        - shift + tab : 함수나 클래스명 뒤 혹은 괄호 내부에서 입력하면 내부 정보(description)를 보여줌\n",
    "        - (function or class name)? : 내부정보를 보여줌\n",
    "        - (function or class name)?? : 코드를 보여줌"
   ]
  },
  {
   "cell_type": "markdown",
   "metadata": {
    "slideshow": {
     "slide_type": "subslide"
    }
   },
   "source": [
    "- But, 최고 존엄 h"
   ]
  },
  {
   "cell_type": "markdown",
   "metadata": {
    "slideshow": {
     "slide_type": "subslide"
    }
   },
   "source": [
    "### 3. Style\n",
    "- 셀의 스타일에는 코드 스타일과 마크다운 스타일의 두가지가 존재\n",
    "    - 코드 스타일\n",
    "        - 코드 스타일로 설정해서 실행하면 python 문법이 적용되어 내용이 실행됨\n",
    "        - `In [ ]:`\n",
    "        - 단축키 : (명령모드 상태에서) y\n",
    "    - 마크다운 스타일\n",
    "        - 마크다운 스타일로 설정해서 실행하면 마크다운 문법이 적용되어 내용이 실행됨\n",
    "        - 단축키 : (명령모드 상태에서) m\n",
    "- 마크다운(Markdown)\n",
    "    - 텍스트 폼을 편집하는 문법\n",
    "    - 단순 코드가 아닌, 뭔가 양식이 적용된 문자를 주피터 노트북에서 사용하고 싶을 때 사용 가능\n",
    "    - 주피터에서 뿐만 아니라 블로그나 발표자료등을 만들때도 사용가능\n",
    "    - https://www.markdownguide.org/basic-syntax\n",
    "    - TMI: Why markdown?"
   ]
  },
  {
   "cell_type": "markdown",
   "metadata": {
    "slideshow": {
     "slide_type": "subslide"
    }
   },
   "source": [
    "#### 3.1. 대표적인 Markdown 문법\n",
    "```\n",
    "#(head), >(blockquote), **(emphasis), *(italic), []()(link), `(code block)[TMI: `?]\n",
    "```"
   ]
  },
  {
   "cell_type": "markdown",
   "metadata": {
    "slideshow": {
     "slide_type": "slide"
    }
   },
   "source": [
    "# 여기 까지만 해도 jupyter로 바로 프로그래밍 가능! but, 좀 더 가봅시다."
   ]
  },
  {
   "cell_type": "markdown",
   "metadata": {
    "slideshow": {
     "slide_type": "slide"
    }
   },
   "source": [
    "## 3. 주피터 설정"
   ]
  },
  {
   "cell_type": "markdown",
   "metadata": {
    "slideshow": {
     "slide_type": "fragment"
    }
   },
   "source": [
    "1. jupyter notebook --generate-config\n",
    "2. vi ~/.jupyter/jupyter_notebook_config.py\n",
    "3. c.NotebookApp.open_browser = \n",
    "4. c.NotebookApp.notebook_dir = u''"
   ]
  },
  {
   "cell_type": "markdown",
   "metadata": {
    "slideshow": {
     "slide_type": "slide"
    }
   },
   "source": [
    "## 4. Magic Command\n",
    "\n",
    "셀 내부에서 특별한 동작을 할수 있는 커맨드\n",
    "\n",
    "자세한 내용은 http://ipython.readthedocs.io/en/stable/interactive/magics.html 참고"
   ]
  },
  {
   "cell_type": "markdown",
   "metadata": {
    "slideshow": {
     "slide_type": "subslide"
    }
   },
   "source": [
    "### 4.1. 사용법\n",
    "- %(command) : 한줄 매직커맨드 사용\n",
    "- %%(command) : 여러줄 매직커맨드 사용\n",
    "- %(command)? : 매직커맨드 뒤에 ?를 붙여서 실행하면 커맨드에 대한 상세 설명이 나옴"
   ]
  },
  {
   "cell_type": "markdown",
   "metadata": {
    "slideshow": {
     "slide_type": "subslide"
    }
   },
   "source": [
    "### 4.2. 주요 Magic Command\n",
    "- whos : 현재 메모리 상에 정의된 변수 확인\n",
    "- reset : 현재 메모리 상에 정의된 변수 삭제\n",
    "- time : 실행시간 계산\n",
    "- timeit : 평균실행 시간 계산\n",
    "- magic : 매직 커맨드 도움말 출력"
   ]
  },
  {
   "cell_type": "code",
   "execution_count": 7,
   "metadata": {
    "collapsed": true,
    "slideshow": {
     "slide_type": "subslide"
    }
   },
   "outputs": [],
   "source": [
    "# 변수 선언\n",
    "a = 1"
   ]
  },
  {
   "cell_type": "code",
   "execution_count": 8,
   "metadata": {
    "slideshow": {
     "slide_type": "subslide"
    }
   },
   "outputs": [
    {
     "name": "stdout",
     "output_type": "stream",
     "text": [
      "Variable   Type    Data/Info\n",
      "----------------------------\n",
      "a          int     1\n"
     ]
    }
   ],
   "source": [
    "# 현재 정의된 변수 확인\n",
    "%whos"
   ]
  },
  {
   "cell_type": "code",
   "execution_count": 9,
   "metadata": {
    "slideshow": {
     "slide_type": "subslide"
    }
   },
   "outputs": [
    {
     "name": "stdout",
     "output_type": "stream",
     "text": [
      "Once deleted, variables cannot be recovered. Proceed (y/[n])? y\n"
     ]
    }
   ],
   "source": [
    "# 현재 정의된 변수 삭제\n",
    "%reset"
   ]
  },
  {
   "cell_type": "code",
   "execution_count": 10,
   "metadata": {
    "slideshow": {
     "slide_type": "subslide"
    }
   },
   "outputs": [
    {
     "name": "stdout",
     "output_type": "stream",
     "text": [
      "Interactive namespace is empty.\n"
     ]
    }
   ],
   "source": [
    "# 현재 정의된 변수 확인\n",
    "%whos"
   ]
  },
  {
   "cell_type": "code",
   "execution_count": 20,
   "metadata": {
    "slideshow": {
     "slide_type": "subslide"
    }
   },
   "outputs": [
    {
     "name": "stdout",
     "output_type": "stream",
     "text": [
      "Wall time: 1e+03 µs\n",
      "Compiler : 526 ms\n"
     ]
    }
   ],
   "source": [
    "%%time\n",
    "# 실행시간 계산\n",
    "r = 2**100000000"
   ]
  },
  {
   "cell_type": "code",
   "execution_count": 21,
   "metadata": {
    "slideshow": {
     "slide_type": "subslide"
    }
   },
   "outputs": [
    {
     "name": "stdout",
     "output_type": "stream",
     "text": [
      "20.3 ns ± 7.19 ns per loop (mean ± std. dev. of 7 runs, 10000000 loops each)\n"
     ]
    }
   ],
   "source": [
    "%%timeit\n",
    "# 평균실행시간 계산\n",
    "r = 2**1000000"
   ]
  },
  {
   "cell_type": "markdown",
   "metadata": {
    "slideshow": {
     "slide_type": "slide"
    }
   },
   "source": [
    "## 5. Shell Command\n",
    "셀 가장 앞에 `!` 기호를 붙여 주피터 노트북 내에서 쉘 명령어를 사용 가능하게 해주는 커맨드\n",
    "\n",
    "현재 주피터 노트북 서버가 돌아가는 터미널 기준 커맨드 (즉, bash기반이 아닌, 윈도우 command기반인 경우 shell command도 달라진다.)"
   ]
  },
  {
   "cell_type": "markdown",
   "metadata": {
    "slideshow": {
     "slide_type": "subslide"
    }
   },
   "source": [
    "### 5.1. 주요 Shell Command\n",
    "- ls : 파일 리스트 출력\n",
    "- cat : 파일 출력\n",
    "- echo : 문자열 출력\n",
    "- mv : 파일 이동\n",
    "- mkdir : 디렉토리 생성\n",
    "- rm -rf : 디렉토리 삭제\n",
    "- rm : 파일 삭제\n",
    "- cp : 파일 복사"
   ]
  },
  {
   "cell_type": "code",
   "execution_count": 22,
   "metadata": {
    "slideshow": {
     "slide_type": "subslide"
    }
   },
   "outputs": [
    {
     "name": "stderr",
     "output_type": "stream",
     "text": [
      "'ls'은(는) 내부 또는 외부 명령, 실행할 수 있는 프로그램, 또는\n",
      "배치 파일이 아닙니다.\n"
     ]
    }
   ],
   "source": [
    "!ls"
   ]
  },
  {
   "cell_type": "code",
   "execution_count": 23,
   "metadata": {
    "slideshow": {
     "slide_type": "subslide"
    }
   },
   "outputs": [
    {
     "name": "stdout",
     "output_type": "stream",
     "text": [
      " C 드라이브의 볼륨에는 이름이 없습니다.\n",
      " 볼륨 일련 번호: E2CA-0498\n",
      "\n",
      " C:\\Users\\mepbp\\Edu 디렉터리\n",
      "\n",
      "2019-11-28  오후 02:09    <DIR>          .\n",
      "2019-11-28  오후 02:09    <DIR>          ..\n",
      "2019-11-28  오후 01:14    <DIR>          .ipynb_checkpoints\n",
      "2019-11-28  오후 01:54             3,800 0. Welcome to python.ipynb\n",
      "2019-11-28  오후 01:54            23,392 01_jupyter_notebook.ipynb\n",
      "2019-11-28  오후 02:09             8,817 1. Hello Jupyter.ipynb\n",
      "               3개 파일              36,009 바이트\n",
      "               3개 디렉터리  25,626,402,816 바이트 남음\n"
     ]
    }
   ],
   "source": [
    "!dir"
   ]
  },
  {
   "cell_type": "markdown",
   "metadata": {
    "slideshow": {
     "slide_type": "subslide"
    }
   },
   "source": [
    "### 5.2. Shell Command 결과 -> 주피터 노트북 변수로 할당 및 vice versa\n",
    "쉘 명령 결과를 주피터 노트북 내에서 변수로 받아서 사용 가능하며, 노트북 내의 변수도 쉘 명령어에 사용 가능.\n",
    "\n",
    "`{}`를 사용하면 주피터 노트북에서 사용되는 변수를 쉘 커맨드에서 사용 가능"
   ]
  },
  {
   "cell_type": "code",
   "execution_count": 26,
   "metadata": {
    "slideshow": {
     "slide_type": "subslide"
    }
   },
   "outputs": [
    {
     "data": {
      "text/plain": [
       "[' C 드라이브의 볼륨에는 이름이 없습니다.',\n",
       " ' 볼륨 일련 번호: E2CA-0498',\n",
       " '',\n",
       " ' C:\\\\Users\\\\mepbp\\\\Edu 디렉터리',\n",
       " '',\n",
       " '2019-11-28  오후 02:15    <DIR>          .',\n",
       " '2019-11-28  오후 02:15    <DIR>          ..',\n",
       " '2019-11-28  오후 01:14    <DIR>          .ipynb_checkpoints',\n",
       " '2019-11-28  오후 01:54             3,800 0. Welcome to python.ipynb',\n",
       " '2019-11-28  오후 01:54            23,392 01_jupyter_notebook.ipynb',\n",
       " '2019-11-28  오후 02:15            11,282 1. Hello Jupyter.ipynb',\n",
       " '               3개 파일              38,474 바이트',\n",
       " '               3개 디렉터리  25,625,792,512 바이트 남음']"
      ]
     },
     "execution_count": 26,
     "metadata": {},
     "output_type": "execute_result"
    }
   ],
   "source": [
    "file_list = !ls\n",
    "!echo {file_list}"
   ]
  },
  {
   "cell_type": "markdown",
   "metadata": {
    "slideshow": {
     "slide_type": "slide"
    }
   },
   "source": [
    "# 설치가 세상에서 제일 어렵다. 이제 사용만이 남았다."
   ]
  }
 ],
 "metadata": {
  "celltoolbar": "Slideshow",
  "kernelspec": {
   "display_name": "Python 3",
   "language": "python",
   "name": "python3"
  },
  "language_info": {
   "codemirror_mode": {
    "name": "ipython",
    "version": 3
   },
   "file_extension": ".py",
   "mimetype": "text/x-python",
   "name": "python",
   "nbconvert_exporter": "python",
   "pygments_lexer": "ipython3",
   "version": "3.6.1"
  }
 },
 "nbformat": 4,
 "nbformat_minor": 2
}
