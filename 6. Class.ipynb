{
 "cells": [
  {
   "cell_type": "markdown",
   "metadata": {
    "slideshow": {
     "slide_type": "slide"
    }
   },
   "source": [
    "# 클라쓰"
   ]
  },
  {
   "cell_type": "markdown",
   "metadata": {
    "slideshow": {
     "slide_type": "slide"
    }
   },
   "source": [
    "## 클래스는 왜 사용?\n",
    "- 코드량을 줄이며\n",
    "- 코드 재사용성을 좋게 하기 위하여"
   ]
  },
  {
   "cell_type": "markdown",
   "metadata": {
    "slideshow": {
     "slide_type": "slide"
    }
   },
   "source": [
    "## 1. 정의\n",
    "\n",
    "- 클래스란, 변수와 함수를 묶은 사용자 정의 데이터 타입\n",
    "- '데이터 타입'이기 때문에 이 클래스는 청사진 혹은 설계도(혹은 붕어빵틀)\n",
    "- 이 클래스가 메모리에 구현된 상태가 객체(instance)(혹은 붕어빵)"
   ]
  },
  {
   "cell_type": "markdown",
   "metadata": {
    "slideshow": {
     "slide_type": "slide"
    }
   },
   "source": [
    "## *객체지향(OOP, Object oriented programming)\n",
    "- 실제 세계(Real world)의 객체처럼 공통적인 기능을 묶어서 객체를 모델링하여 개발하는 것\n",
    "- 특징\n",
    "    - 다형성 : 같은 이름으로 파라미터에 따라 다른 코드를 수행하거나 객체에 따라서 다른 함수를 수행 (method overloading)\n",
    "    - 캡슐화 : 캡슐처럼 외부에 노출되는 변수나 함수를 감추어 정보를 감춤 (private)\n",
    "    - 추상화 : 사용자가 코드를 몰라도 간단하게 사용할수 있는 개념 (class)\n",
    "    - 상속 : 기존에 있던 클래스의 기능을 수정하거나 추가 (class의 inheritance)"
   ]
  },
  {
   "cell_type": "markdown",
   "metadata": {
    "slideshow": {
     "slide_type": "slide"
    }
   },
   "source": [
    "## 2. 구조\n",
    "- class 내부에 self를 이용하여 인스턴스 변수를 할당하고, def를 이용하여 함수를 선언\n",
    "- self는 객체 자신을 의미\n",
    "- 함수 선언시 항상 가장 첫번째 argument로 self를 사용"
   ]
  },
  {
   "cell_type": "code",
   "execution_count": 1,
   "metadata": {
    "slideshow": {
     "slide_type": "subslide"
    }
   },
   "outputs": [],
   "source": [
    "class myCalc: # 사실 MyCalc는 파스칼 케이스이지만, 사람들은 카멜케이스와 혼용하여 사용함\n",
    "    mc = 0\n",
    "    def set_data(self, n1, n2):\n",
    "        self.n1 = n1\n",
    "        self.n2 = n2\n",
    "    def print_state(self):\n",
    "        print(self.n1, self.n2, myCalc.mc)"
   ]
  },
  {
   "cell_type": "code",
   "execution_count": 2,
   "metadata": {
    "slideshow": {
     "slide_type": "subslide"
    }
   },
   "outputs": [
    {
     "name": "stdout",
     "output_type": "stream",
     "text": [
      "1 2 0\n"
     ]
    }
   ],
   "source": [
    "calc1 = myCalc()\n",
    "calc1.set_data(1, 2)\n",
    "calc1.print_state()"
   ]
  },
  {
   "cell_type": "markdown",
   "metadata": {
    "slideshow": {
     "slide_type": "slide"
    }
   },
   "source": [
    "## 3. set_data를 한번에 하고 싶으면?\n",
    "- 초기화자 `__init__`을 사용하면 된다!\n",
    "- `__init__`은 '초기화자'이지 '생성자'가 아니다!\n",
    "- 생성자는 `__new__`\n",
    "- 객체가 생성될 때 `__new__`생성자에 의해 객체가 생성되며 초기화자인 `__init__`을 호출한다."
   ]
  },
  {
   "cell_type": "markdown",
   "metadata": {
    "slideshow": {
     "slide_type": "subslide"
    }
   },
   "source": [
    "### 3.1. double underscore: Magic method!\n",
    "- 파이썬에서는 내부적으로 사용하는 함수(메서드) 혹은 변수의 경우 더블 언더스코어(`__`)로 표시\n",
    "- 위의 `__new__`, `__init__`이 예\n",
    "- 다른 클래스에서 한번 찾아보자!"
   ]
  },
  {
   "cell_type": "code",
   "execution_count": 3,
   "metadata": {
    "slideshow": {
     "slide_type": "subslide"
    }
   },
   "outputs": [],
   "source": [
    "class myCalc:\n",
    "    mc = 0\n",
    "    def __init__(self, n1, n2):\n",
    "        self.n1 = n1\n",
    "        self.n2 = n2\n",
    "    def set_data(self, n1, n2):\n",
    "        self.n1 = n1\n",
    "        self.n2 = n2\n",
    "    def print_state(self):\n",
    "        print(self.n1, self.n2, myCalc.mc)"
   ]
  },
  {
   "cell_type": "code",
   "execution_count": 4,
   "metadata": {
    "slideshow": {
     "slide_type": "subslide"
    }
   },
   "outputs": [
    {
     "name": "stdout",
     "output_type": "stream",
     "text": [
      "5 7 0\n"
     ]
    }
   ],
   "source": [
    "# set_data함수가 필요없다!\n",
    "calc2 = myCalc(5, 7)\n",
    "calc2.print_state()"
   ]
  },
  {
   "cell_type": "markdown",
   "metadata": {
    "slideshow": {
     "slide_type": "slide"
    }
   },
   "source": [
    "## 4. Why use 'self'?\n",
    "- 클래스는 빵틀!\n",
    "- 그리고 만들어진 인스턴스가 빵!\n",
    "- 각 빵에 있는 공간에 접근하기 위해 필요한 것이 self!\n",
    "- 즉, 각 빵의 주소이다!\n",
    "- calc2.print_state() <=> myCalc.print_state(calc2)"
   ]
  },
  {
   "cell_type": "code",
   "execution_count": 5,
   "metadata": {
    "slideshow": {
     "slide_type": "subslide"
    }
   },
   "outputs": [
    {
     "name": "stdout",
     "output_type": "stream",
     "text": [
      "1 2 0\n",
      "5 7 0\n",
      "1 2 0\n",
      "5 7 0\n"
     ]
    }
   ],
   "source": [
    "myCalc.print_state(calc1)\n",
    "myCalc.print_state(calc2)\n",
    "calc1.print_state()\n",
    "calc2.print_state()"
   ]
  },
  {
   "cell_type": "markdown",
   "metadata": {
    "slideshow": {
     "slide_type": "slide"
    }
   },
   "source": [
    "## 5. 인스턴스 변수 vs 클래스 변수"
   ]
  },
  {
   "cell_type": "code",
   "execution_count": 6,
   "metadata": {
    "slideshow": {
     "slide_type": "subslide"
    }
   },
   "outputs": [],
   "source": [
    "class myCalc:\n",
    "    mc = 0 # 얘가 클래스변수\n",
    "    def __init__(self, n1, n2):\n",
    "        self.n1 = n1 # self 붙은 애들이 인스턴스 변수\n",
    "        self.n2 = n2\n",
    "    def plus_mc(self):\n",
    "        myCalc.mc += 1\n",
    "    def print_state(self):\n",
    "        print(self.n1, self.n2, myCalc.mc)\n",
    "        # 인스턴스 변수는 자기 인스턴스 공간의 변수를 출력해야 하므로 self로 변수에 접근하고\n",
    "        # 클래스 변수는 클래스의 mc 변수에 접근"
   ]
  },
  {
   "cell_type": "code",
   "execution_count": 7,
   "metadata": {
    "slideshow": {
     "slide_type": "subslide"
    }
   },
   "outputs": [
    {
     "name": "stdout",
     "output_type": "stream",
     "text": [
      "1 2 1\n",
      "3 4 1\n"
     ]
    }
   ],
   "source": [
    "calc2 = myCalc(3, 4)\n",
    "calc2.plus_mc()\n",
    "calc1.print_state()\n",
    "calc2.print_state()"
   ]
  },
  {
   "cell_type": "markdown",
   "metadata": {
    "slideshow": {
     "slide_type": "slide"
    }
   },
   "source": [
    "## 6. Inheritance(상속)\n",
    "- 상속: 기존의 클래스에 새로운 변수나 함수를 추가하거나 변경할수 있게 해주는 기능\n",
    "- `class 클래스명(상속클래스):`로 사용\n",
    "- overiding과 overloading의 차이점 \n",
    "    - overiding : 상위 클래스가 가지고 있는 함수를 하위 클래스가 재정의 해서 사용하는 것\n",
    "    - overloading : 함수 이름은 같으나 argument 갯수 차이(혹은 타입 차이)로 함수를 구분해서 실행하는 것 (python에선 default argument로 조건문을 사용하여 구현)"
   ]
  },
  {
   "cell_type": "code",
   "execution_count": 8,
   "metadata": {
    "slideshow": {
     "slide_type": "subslide"
    }
   },
   "outputs": [],
   "source": [
    "class Calculator:\n",
    "    def __init__(self, num1, num2):\n",
    "        self.num1 = num1\n",
    "        self.num2 = num2\n",
    "    def set_data(self, num1, num2):\n",
    "        self.num1 = num1\n",
    "        self.num2 = num2\n",
    "    def plus(self):\n",
    "        return self.num1 + self.num2\n",
    "    def sub(self):\n",
    "        return self.num1 - self.num2\n",
    "    def mul(self):\n",
    "        return self.num1 * self.num2\n",
    "    def div(self):\n",
    "        return self.num1 / self.num2"
   ]
  },
  {
   "cell_type": "code",
   "execution_count": 9,
   "metadata": {
    "slideshow": {
     "slide_type": "subslide"
    }
   },
   "outputs": [],
   "source": [
    "class ImprovedCalculator(Calculator):\n",
    "    def pow_func(self):\n",
    "        return self.num1 ** self.num2"
   ]
  },
  {
   "cell_type": "code",
   "execution_count": 10,
   "metadata": {
    "slideshow": {
     "slide_type": "subslide"
    }
   },
   "outputs": [],
   "source": [
    "calc = ImprovedCalculator(2, 10)"
   ]
  },
  {
   "cell_type": "code",
   "execution_count": 11,
   "metadata": {
    "slideshow": {
     "slide_type": "subslide"
    }
   },
   "outputs": [
    {
     "data": {
      "text/plain": [
       "12"
      ]
     },
     "execution_count": 11,
     "metadata": {},
     "output_type": "execute_result"
    }
   ],
   "source": [
    "calc.plus()"
   ]
  },
  {
   "cell_type": "code",
   "execution_count": 12,
   "metadata": {
    "slideshow": {
     "slide_type": "subslide"
    }
   },
   "outputs": [
    {
     "data": {
      "text/plain": [
       "1024"
      ]
     },
     "execution_count": 12,
     "metadata": {},
     "output_type": "execute_result"
    }
   ],
   "source": [
    "calc.pow_func()"
   ]
  },
  {
   "cell_type": "markdown",
   "metadata": {
    "slideshow": {
     "slide_type": "slide"
    }
   },
   "source": [
    "### 6.1. 다중상속"
   ]
  },
  {
   "cell_type": "code",
   "execution_count": 13,
   "metadata": {
    "slideshow": {
     "slide_type": "subslide"
    }
   },
   "outputs": [],
   "source": [
    "class Human:\n",
    "    def walk(self):\n",
    "        print(\"walking\")\n",
    "            \n",
    "class Korean:\n",
    "    def eat(self):\n",
    "        print(\"eat kimchi\")"
   ]
  },
  {
   "cell_type": "code",
   "execution_count": 14,
   "metadata": {
    "slideshow": {
     "slide_type": "subslide"
    }
   },
   "outputs": [],
   "source": [
    "class MJ(Human, Korean):\n",
    "    def skill(self):\n",
    "        print(\"coding\")\n",
    "    def eat(self, place = None): # 오버라이딩 : 상위 클래스의 함수를 새롭게 정의  # 오버로딩 : argument의 갯수 차이로 다르게 코드 실행\n",
    "        if place is None:\n",
    "            print(\"eat kimchi\")\n",
    "        else:\n",
    "            print(\"eat rice in {}\".format(place))"
   ]
  },
  {
   "cell_type": "code",
   "execution_count": 15,
   "metadata": {
    "slideshow": {
     "slide_type": "subslide"
    }
   },
   "outputs": [
    {
     "name": "stdout",
     "output_type": "stream",
     "text": [
      "walking\n",
      "eat kimchi\n",
      "coding\n",
      "eat rice in moim\n"
     ]
    }
   ],
   "source": [
    "kmj = MJ()\n",
    "kmj.walk()\n",
    "kmj.eat()\n",
    "kmj.skill()\n",
    "kmj.eat(\"moim\")"
   ]
  },
  {
   "cell_type": "markdown",
   "metadata": {
    "slideshow": {
     "slide_type": "slide"
    }
   },
   "source": [
    "### 6.2. Super\n",
    "- 상위 클래스에 접근할 때 사용\n",
    "- 보통 상위 클래스의 초기화자를 사용할 때 사용"
   ]
  },
  {
   "cell_type": "code",
   "execution_count": 16,
   "metadata": {
    "slideshow": {
     "slide_type": "subslide"
    }
   },
   "outputs": [],
   "source": [
    "class Human:\n",
    "    def __init__(self, sp):\n",
    "        self.sp = sp\n",
    "    def walk(self):\n",
    "        print(\"walking\")\n",
    "            \n",
    "class Korean:\n",
    "    def eat(self):\n",
    "        print(\"eat kimchi\")\n",
    "        \n",
    "class MJ(Human, Korean):\n",
    "    def __init__(self, name):\n",
    "        self.name = name\n",
    "    def skill(self):\n",
    "        print(\"coding\")\n",
    "    def eat(self, place = None): # 오버라이딩 : 상위 클래스의 함수를 새롭게 정의  # 오버로딩 : argument의 갯수 차이로 다르게 코드 실행\n",
    "        if place is None:\n",
    "            print(\"eat kimchi\")\n",
    "        else:\n",
    "            print(\"eat rice in {}\".format(place))"
   ]
  },
  {
   "cell_type": "code",
   "execution_count": 17,
   "metadata": {
    "slideshow": {
     "slide_type": "subslide"
    }
   },
   "outputs": [
    {
     "name": "stdout",
     "output_type": "stream",
     "text": [
      "walking\n",
      "eat kimchi\n",
      "coding\n",
      "eat rice in moim\n"
     ]
    },
    {
     "ename": "AttributeError",
     "evalue": "'MJ' object has no attribute 'sp'",
     "output_type": "error",
     "traceback": [
      "\u001b[0;31m---------------------------------------------------------------------------\u001b[0m",
      "\u001b[0;31mAttributeError\u001b[0m                            Traceback (most recent call last)",
      "\u001b[0;32m<ipython-input-17-b8be4556e10e>\u001b[0m in \u001b[0;36m<module>\u001b[0;34m\u001b[0m\n\u001b[1;32m      4\u001b[0m \u001b[0mkmj\u001b[0m\u001b[0;34m.\u001b[0m\u001b[0mskill\u001b[0m\u001b[0;34m(\u001b[0m\u001b[0;34m)\u001b[0m\u001b[0;34m\u001b[0m\u001b[0;34m\u001b[0m\u001b[0m\n\u001b[1;32m      5\u001b[0m \u001b[0mkmj\u001b[0m\u001b[0;34m.\u001b[0m\u001b[0meat\u001b[0m\u001b[0;34m(\u001b[0m\u001b[0;34m\"moim\"\u001b[0m\u001b[0;34m)\u001b[0m\u001b[0;34m\u001b[0m\u001b[0;34m\u001b[0m\u001b[0m\n\u001b[0;32m----> 6\u001b[0;31m \u001b[0mkmj\u001b[0m\u001b[0;34m.\u001b[0m\u001b[0msp\u001b[0m\u001b[0;34m\u001b[0m\u001b[0;34m\u001b[0m\u001b[0m\n\u001b[0m",
      "\u001b[0;31mAttributeError\u001b[0m: 'MJ' object has no attribute 'sp'"
     ]
    }
   ],
   "source": [
    "kmj = MJ(\"Kang\")\n",
    "kmj.walk()\n",
    "kmj.eat()\n",
    "kmj.skill()\n",
    "kmj.eat(\"moim\")\n",
    "kmj.sp"
   ]
  },
  {
   "cell_type": "code",
   "execution_count": 18,
   "metadata": {
    "slideshow": {
     "slide_type": "subslide"
    }
   },
   "outputs": [],
   "source": [
    "class Human:\n",
    "    def __init__(self, sp):\n",
    "        self.sp = sp\n",
    "    def walk(self):\n",
    "        print(\"walking\")\n",
    "            \n",
    "class Korean:\n",
    "    def eat(self):\n",
    "        print(\"eat kimchi\")\n",
    "        \n",
    "class MJ(Human, Korean):\n",
    "    def __init__(self, name, sp):\n",
    "        super(MJ, self).__init__(sp)\n",
    "        self.name = name\n",
    "    def skill(self):\n",
    "        print(\"coding\")\n",
    "    def eat(self, place = None): # 오버라이딩 : 상위 클래스의 함수를 새롭게 정의  # 오버로딩 : argument의 갯수 차이로 다르게 코드 실행\n",
    "        if place is None:\n",
    "            print(\"eat kimchi\")\n",
    "        else:\n",
    "            print(\"eat rice in {}\".format(place))"
   ]
  },
  {
   "cell_type": "code",
   "execution_count": 19,
   "metadata": {
    "slideshow": {
     "slide_type": "subslide"
    }
   },
   "outputs": [
    {
     "name": "stdout",
     "output_type": "stream",
     "text": [
      "walking\n",
      "eat kimchi\n",
      "coding\n",
      "eat rice in moim\n"
     ]
    },
    {
     "data": {
      "text/plain": [
       "'Homo sapience'"
      ]
     },
     "execution_count": 19,
     "metadata": {},
     "output_type": "execute_result"
    }
   ],
   "source": [
    "kmj = MJ(\"Kang\", \"Homo sapience\")\n",
    "kmj.walk()\n",
    "kmj.eat()\n",
    "kmj.skill()\n",
    "kmj.eat(\"moim\")\n",
    "kmj.sp"
   ]
  },
  {
   "cell_type": "markdown",
   "metadata": {
    "slideshow": {
     "slide_type": "slide"
    }
   },
   "source": [
    "# 자 다시 우리의 야구게임을 더 간단히 만들어보자!"
   ]
  },
  {
   "cell_type": "code",
   "execution_count": 20,
   "metadata": {
    "slideshow": {
     "slide_type": "subslide"
    }
   },
   "outputs": [
    {
     "name": "stdout",
     "output_type": "stream",
     "text": [
      "4895\n",
      "2 2\n",
      "4859\n",
      "4 0\n"
     ]
    }
   ],
   "source": [
    "y = \"4859\"\n",
    "\n",
    "strike = 0\n",
    "\n",
    "while 4-strike:\n",
    "    x = input()\n",
    "    strike = sum(map(str.__eq__, x, y))\n",
    "    ball = len(set(x)&set(y))\n",
    "    print(strike, ball-strike)"
   ]
  }
 ],
 "metadata": {
  "celltoolbar": "Slideshow",
  "kernelspec": {
   "display_name": "Python 3",
   "language": "python",
   "name": "python3"
  },
  "language_info": {
   "codemirror_mode": {
    "name": "ipython",
    "version": 3
   },
   "file_extension": ".py",
   "mimetype": "text/x-python",
   "name": "python",
   "nbconvert_exporter": "python",
   "pygments_lexer": "ipython3",
   "version": "3.7.4"
  }
 },
 "nbformat": 4,
 "nbformat_minor": 2
}
