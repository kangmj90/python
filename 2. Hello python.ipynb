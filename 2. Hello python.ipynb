{
 "cells": [
  {
   "cell_type": "markdown",
   "metadata": {
    "slideshow": {
     "slide_type": "slide"
    }
   },
   "source": [
    "# Hello python"
   ]
  },
  {
   "cell_type": "markdown",
   "metadata": {
    "slideshow": {
     "slide_type": "slide"
    }
   },
   "source": [
    "## 1. Introduction"
   ]
  },
  {
   "cell_type": "markdown",
   "metadata": {
    "slideshow": {
     "slide_type": "subslide"
    }
   },
   "source": [
    "- 1991년에 발표된 인터프리터 방식(vs. 컴파일 방식)의 프로그래밍 언어\n",
    "- 2000년에는 Python 2가, 2008년에는 Python 3가 나왔다. 물론 요새 대세는 python3다."
   ]
  },
  {
   "cell_type": "markdown",
   "metadata": {
    "slideshow": {
     "slide_type": "subslide"
    }
   },
   "source": [
    "- 개발자는 귀도 반 로섬(Guido van Rossum)\n",
    "- 1989년 크리스마스 주에, 연구실이 닫혀있어서 심심한 김에 만들었다(...)"
   ]
  },
  {
   "cell_type": "markdown",
   "metadata": {
    "slideshow": {
     "slide_type": "subslide"
    }
   },
   "source": [
    "- python의 어원은 몬티 파이선. 사실 우리말 해석에는 몬티 파이튼, 몬티 파이톤 등.\n",
    "- [전설의 토끼](https://www.youtube.com/watch?v=bfmp7eT4En0)\n",
    "- 그래서 관련된 튜토리얼에는 몬티 파이선에 나오는 ham, egg 같은 밈적인 단어들로 변수명을 쓰기도 함\n",
    "- 그러나 python자체 단어에도 충실하게 python 로고에 뱀이 들어있다. (참고로 뜻 찾아보려고 네이버에 python치면 python설치가 먼저 뜬다..)"
   ]
  },
  {
   "cell_type": "markdown",
   "metadata": {
    "slideshow": {
     "slide_type": "subslide"
    }
   },
   "source": [
    "- 실행할 수 있는 의사코드(Executable pseudocode)"
   ]
  },
  {
   "cell_type": "markdown",
   "metadata": {
    "slideshow": {
     "slide_type": "subslide"
    }
   },
   "source": [
    "- 파이썬스러움(pythonic) : 단 하나의 아름다운 해가 존재한다 (vs ruby 같은 결과를 도출할 수 있는 수 없이 많은 방법이 존재한다.)"
   ]
  },
  {
   "cell_type": "code",
   "execution_count": 1,
   "metadata": {
    "slideshow": {
     "slide_type": "fragment"
    }
   },
   "outputs": [
    {
     "name": "stdout",
     "output_type": "stream",
     "text": [
      "The Zen of Python, by Tim Peters\n",
      "\n",
      "Beautiful is better than ugly.\n",
      "Explicit is better than implicit.\n",
      "Simple is better than complex.\n",
      "Complex is better than complicated.\n",
      "Flat is better than nested.\n",
      "Sparse is better than dense.\n",
      "Readability counts.\n",
      "Special cases aren't special enough to break the rules.\n",
      "Although practicality beats purity.\n",
      "Errors should never pass silently.\n",
      "Unless explicitly silenced.\n",
      "In the face of ambiguity, refuse the temptation to guess.\n",
      "There should be one-- and preferably only one --obvious way to do it.\n",
      "Although that way may not be obvious at first unless you're Dutch.\n",
      "Now is better than never.\n",
      "Although never is often better than *right* now.\n",
      "If the implementation is hard to explain, it's a bad idea.\n",
      "If the implementation is easy to explain, it may be a good idea.\n",
      "Namespaces are one honking great idea -- let's do more of those!\n"
     ]
    }
   ],
   "source": [
    "import this"
   ]
  },
  {
   "cell_type": "markdown",
   "metadata": {
    "slideshow": {
     "slide_type": "subslide"
    }
   },
   "source": [
    "### 1.1. 왜 파이썬인가?\n",
    "- 데이터 분석을 위한 빠르고 강력한 라이브러리를 가지고 있다.\n",
    "    - Numpy, Pandas, Matplotlib, scikit-learn, statsmodels\n",
    "- 다른언어에 비해 문법이 쉽고 간결하다.\n",
    "- 파이썬을 배우면 할수 있는것들이 많다.\n",
    "    - 데이터 분석, 웹서비스 개발, 해킹, GUI 프로그래밍, 타 언어와 결합 등등\n",
    "    - https://github.com/vinta/awesome-python"
   ]
  },
  {
   "cell_type": "markdown",
   "metadata": {
    "slideshow": {
     "slide_type": "subslide"
    }
   },
   "source": [
    "### 1.2. 파이썬은 어떤 언어인가?\n",
    "- 플랫폼에 독립적\n",
    "    - 어떠한 종류의 OS에도 같은 문법을 사용\n",
    "- 인터프리터 언어\n",
    "    - 한줄씩 컴파일링 하면서 코드를 수행\n",
    "    - 처리속도가 느린데 감히 데이터 분석을?\n",
    "- 객체지향적\n",
    "    - 실제세계를 모델링하여 공통적인 기능을 묶어서 개발하는 방식\n",
    "    - 추상화, 캡슐화, 상속, 다형성의 특징을 가짐\n",
    "    - 반대의 개념은 절차지향\n",
    "- 동적타이핑\n",
    "    - 변수 선언시 데이터 타입을 지정해 주지 않아도 데이터에 따라서 자동으로 타이핑"
   ]
  },
  {
   "cell_type": "markdown",
   "metadata": {
    "slideshow": {
     "slide_type": "slide"
    }
   },
   "source": [
    "## 2. PEP(Python Enhance Proposal)\n",
    "- python을 향상시키기 위한 제안\n",
    "- Zen of Python : PEP20 : https://www.python.org/dev/peps/pep-0020/   \n",
    "- Style Guide for Python Code : PEP8 : https://www.python.org/dev/peps/pep-0008/\n",
    "- 가령 주석기호를 쓰고 한칸을 띄워서 쓰기 같은 것. # 이렇게"
   ]
  },
  {
   "cell_type": "markdown",
   "metadata": {
    "slideshow": {
     "slide_type": "slide"
    }
   },
   "source": [
    "## 3. 다른 언어와는 다른 python의 특징\n",
    "- 패키지 불러올 때 import\n",
    "- 개행시 특수문자가 필요하지 않다.\n",
    "- 대괄호로 블록설정 없다. 그저 콜론(:)과 인덴테이션(탭)으로 블록을 설정한다.\n",
    "- if문에서 괄호를 작성하지 않는다.\n",
    "- **for와 while의 사용법이 다르다.** (c++ 11의 enhanced for와 같은 특징이다.)\n",
    "- 한 줄에 여러 명령어를 동시에 사용할 때는 세미콜론(;)으로 연결한다.\n",
    "- 논리 합, 논리 곱, NOT 연산은 각각 and, or, not 키워드를 사용한다.(&&, ||, ! 사용 안됨)"
   ]
  },
  {
   "cell_type": "markdown",
   "metadata": {
    "slideshow": {
     "slide_type": "slide"
    }
   },
   "source": [
    "## 4. 주석\n",
    "- `#`\n",
    "- command+/로 여러줄 주석 가능"
   ]
  },
  {
   "cell_type": "markdown",
   "metadata": {
    "slideshow": {
     "slide_type": "slide"
    }
   },
   "source": [
    "## 5. print\n",
    "- 그냥 print() 쓰면 된다."
   ]
  },
  {
   "cell_type": "code",
   "execution_count": 2,
   "metadata": {
    "slideshow": {
     "slide_type": "subslide"
    }
   },
   "outputs": [
    {
     "data": {
      "text/plain": [
       "1"
      ]
     },
     "execution_count": 2,
     "metadata": {},
     "output_type": "execute_result"
    }
   ],
   "source": [
    "a = 1\n",
    "a"
   ]
  },
  {
   "cell_type": "code",
   "execution_count": 3,
   "metadata": {
    "slideshow": {
     "slide_type": "subslide"
    }
   },
   "outputs": [
    {
     "name": "stdout",
     "output_type": "stream",
     "text": [
      "1\n"
     ]
    }
   ],
   "source": [
    "a = 1\n",
    "print(a)"
   ]
  },
  {
   "cell_type": "code",
   "execution_count": 6,
   "metadata": {
    "slideshow": {
     "slide_type": "subslide"
    }
   },
   "outputs": [
    {
     "name": "stdout",
     "output_type": "stream",
     "text": [
      "1 2\n"
     ]
    }
   ],
   "source": [
    "a = 1\n",
    "b = 2\n",
    "print(a, b)"
   ]
  },
  {
   "cell_type": "code",
   "execution_count": 7,
   "metadata": {
    "slideshow": {
     "slide_type": "subslide"
    }
   },
   "outputs": [
    {
     "name": "stdout",
     "output_type": "stream",
     "text": [
      "1|2\n"
     ]
    }
   ],
   "source": [
    "print(a, b, sep=\"|\")"
   ]
  },
  {
   "cell_type": "code",
   "execution_count": 8,
   "metadata": {
    "slideshow": {
     "slide_type": "subslide"
    }
   },
   "outputs": [
    {
     "name": "stdout",
     "output_type": "stream",
     "text": [
      "12\n"
     ]
    }
   ],
   "source": [
    "print(a, end=\"\")\n",
    "print(b)"
   ]
  },
  {
   "cell_type": "code",
   "execution_count": 4,
   "metadata": {
    "slideshow": {
     "slide_type": "subslide"
    }
   },
   "outputs": [
    {
     "name": "stdout",
     "output_type": "stream",
     "text": [
      "1\n"
     ]
    }
   ],
   "source": [
    "# 형식지정자 사용\n",
    "print(\"%s\" % a)"
   ]
  },
  {
   "cell_type": "code",
   "execution_count": 5,
   "metadata": {
    "slideshow": {
     "slide_type": "subslide"
    }
   },
   "outputs": [
    {
     "name": "stdout",
     "output_type": "stream",
     "text": [
      "1\n"
     ]
    }
   ],
   "source": [
    "# format method 사용\n",
    "print(\"{}\".format(a))"
   ]
  },
  {
   "cell_type": "markdown",
   "metadata": {
    "slideshow": {
     "slide_type": "slide"
    }
   },
   "source": [
    "## 3. 식별자(Identifiers)\n",
    "\n",
    "변수, 함수, 클래스, 모듈 등의 구분을 위해 사용되는 이름\n",
    "\n",
    "규칙\n",
    "- 대소문자 구분\n",
    "- 소문자(a~z), 대문자(A-Z), 숫자(0~9), 언더바(`_`) 사용 가능\n",
    "- 특수문자는 언더바(`_`) 외에는 사용 불가\n",
    "- 가급적이면 가장 앞에 언더바 두 번(`__`) 사용 지양 (reserved global variable)\n",
    "- 맨 앞에 숫자 사용 불가\n",
    "- 예약어 사용불가\n",
    "- 예약어\n",
    "    - Fasle, class, finally, is, return, None, continue, for, lambda, try, True, def, from, nonlocal, while, and, del, global, not, with, as, elif, if, or, yield, assert, else, import, pass, break, except, in, raise"
   ]
  },
  {
   "cell_type": "markdown",
   "metadata": {
    "slideshow": {
     "slide_type": "slide"
    }
   },
   "source": [
    "## 4. 변수(Variables)"
   ]
  },
  {
   "cell_type": "code",
   "execution_count": 9,
   "metadata": {
    "slideshow": {
     "slide_type": "subslide"
    }
   },
   "outputs": [
    {
     "data": {
      "text/plain": [
       "(5, 'python')"
      ]
     },
     "execution_count": 9,
     "metadata": {},
     "output_type": "execute_result"
    }
   ],
   "source": [
    "a, b = 5, \"python\"\n",
    "a, b"
   ]
  },
  {
   "cell_type": "code",
   "execution_count": 10,
   "metadata": {
    "slideshow": {
     "slide_type": "subslide"
    }
   },
   "outputs": [
    {
     "data": {
      "text/plain": [
       "(5, 5)"
      ]
     },
     "execution_count": 10,
     "metadata": {},
     "output_type": "execute_result"
    }
   ],
   "source": [
    "a = b = 5\n",
    "a, b"
   ]
  },
  {
   "cell_type": "markdown",
   "metadata": {
    "slideshow": {
     "slide_type": "slide"
    }
   },
   "source": [
    "### Quiz 1\n",
    "\n",
    "- 변수와 print함수만으로 아래 결과 출력\n",
    "\n",
    "    `hello hello programing python`"
   ]
  },
  {
   "cell_type": "markdown",
   "metadata": {
    "slideshow": {
     "slide_type": "slide"
    }
   },
   "source": [
    "### Quiz 2\n",
    "- 변수와 print함수만으로 아래 결과 출력\n",
    "\n",
    "    `hello world hello python`"
   ]
  },
  {
   "cell_type": "markdown",
   "metadata": {
    "slideshow": {
     "slide_type": "slide"
    }
   },
   "source": [
    "## CASE"
   ]
  },
  {
   "cell_type": "markdown",
   "metadata": {
    "slideshow": {
     "slide_type": "slide"
    }
   },
   "source": [
    "### abc_def"
   ]
  },
  {
   "cell_type": "markdown",
   "metadata": {
    "slideshow": {
     "slide_type": "fragment"
    }
   },
   "source": [
    "### snake_case"
   ]
  },
  {
   "cell_type": "markdown",
   "metadata": {
    "slideshow": {
     "slide_type": "slide"
    }
   },
   "source": [
    "### AbcDef"
   ]
  },
  {
   "cell_type": "markdown",
   "metadata": {
    "slideshow": {
     "slide_type": "fragment"
    }
   },
   "source": [
    "### PascalCase"
   ]
  },
  {
   "cell_type": "markdown",
   "metadata": {
    "slideshow": {
     "slide_type": "slide"
    }
   },
   "source": [
    "### abcDef"
   ]
  },
  {
   "cell_type": "markdown",
   "metadata": {
    "slideshow": {
     "slide_type": "fragment"
    }
   },
   "source": [
    "### camelCase"
   ]
  },
  {
   "cell_type": "markdown",
   "metadata": {
    "slideshow": {
     "slide_type": "slide"
    }
   },
   "source": [
    "### abc-def"
   ]
  },
  {
   "cell_type": "markdown",
   "metadata": {
    "slideshow": {
     "slide_type": "fragment"
    }
   },
   "source": [
    "### kebab-case"
   ]
  },
  {
   "cell_type": "markdown",
   "metadata": {
    "slideshow": {
     "slide_type": "slide"
    }
   },
   "source": [
    "### ABC_DEF"
   ]
  },
  {
   "cell_type": "markdown",
   "metadata": {
    "slideshow": {
     "slide_type": "fragment"
    }
   },
   "source": [
    "### UPPER_CASE"
   ]
  }
 ],
 "metadata": {
  "celltoolbar": "Slideshow",
  "kernelspec": {
   "display_name": "Python 3",
   "language": "python",
   "name": "python3"
  },
  "language_info": {
   "codemirror_mode": {
    "name": "ipython",
    "version": 3
   },
   "file_extension": ".py",
   "mimetype": "text/x-python",
   "name": "python",
   "nbconvert_exporter": "python",
   "pygments_lexer": "ipython3",
   "version": "3.7.4"
  }
 },
 "nbformat": 4,
 "nbformat_minor": 2
}
