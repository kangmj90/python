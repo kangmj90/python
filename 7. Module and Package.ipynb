{
 "cells": [
  {
   "cell_type": "markdown",
   "metadata": {
    "slideshow": {
     "slide_type": "slide"
    }
   },
   "source": [
    "# Module and package"
   ]
  },
  {
   "cell_type": "markdown",
   "metadata": {
    "slideshow": {
     "slide_type": "slide"
    }
   },
   "source": [
    "## 1. 모듈(Module)\n",
    "- 변수, 함수, 클래스를 모아놓은 파일\n",
    "- `import` 예약어를 사용하여 호출\n",
    "- 모듈 식별자는 짧은 소문자로 사용하며 합성어를 사용하게 될경우에는 스네이크케이스(snake_case), 카멜케이스(camelCase)로 구분\n",
    "- 모듈 식별자 중에 `_`가 앞에 붙은것은 C/C++로 작성된 코드\n",
    "- 모듈을 사용하는 이유는 프로그램을 하나의 파일로 만들수 없기 때문에 기능에 따라서 파일을 나누어 놓은 뒤 모듈로 사용(함수와 클래스의 사용 이유와 비슷)"
   ]
  },
  {
   "cell_type": "markdown",
   "metadata": {
    "slideshow": {
     "slide_type": "slide"
    }
   },
   "source": [
    "### 1.1 모듈 파일 생성"
   ]
  },
  {
   "cell_type": "code",
   "execution_count": 1,
   "metadata": {
    "slideshow": {
     "slide_type": "subslide"
    }
   },
   "outputs": [
    {
     "name": "stdout",
     "output_type": "stream",
     "text": [
      "Writing clc.py\n"
     ]
    }
   ],
   "source": [
    "%%writefile clc.py\n",
    "\n",
    "num = 1234\n",
    "\n",
    "print(\"clc.py imported. name:\", __name__)\n",
    "\n",
    "def disp1(s):\n",
    "    print(\"disp1:\", s)\n",
    "def disp2(s):\n",
    "    print(\"disp2:\", s)\n",
    "def disp3(s):\n",
    "    print(\"disp3:\", s)\n",
    "\n",
    "class Calc:\n",
    "    def plus(self, *args):\n",
    "        return sum(args)\n",
    "\n",
    "# 단위 실행 코드(독립적으로 파일 실행)\n",
    "if __name__ == '__main__':\n",
    "    print(\"main program!\")"
   ]
  },
  {
   "cell_type": "code",
   "execution_count": 2,
   "metadata": {
    "slideshow": {
     "slide_type": "subslide"
    }
   },
   "outputs": [
    {
     "name": "stdout",
     "output_type": "stream",
     "text": [
      "'3. Data types + a.ipynb'\r\n",
      "'4. WHILE my heart will beat FOR you IF you love me..ipynb'\r\n",
      "'5. Function.ipynb'\r\n",
      "'6. Class.ipynb'\r\n",
      "'7. Module and Package.ipynb'\r\n",
      " __pycache__\r\n",
      " clc.ipynb\r\n",
      " clc.py\r\n"
     ]
    }
   ],
   "source": [
    "!ls"
   ]
  },
  {
   "cell_type": "code",
   "execution_count": 3,
   "metadata": {
    "slideshow": {
     "slide_type": "subslide"
    }
   },
   "outputs": [
    {
     "name": "stdout",
     "output_type": "stream",
     "text": [
      "\r\n",
      "num = 1234\r\n",
      "\r\n",
      "print(\"clc.py imported. name:\", __name__)\r\n",
      "\r\n",
      "def disp1(s):\r\n",
      "    print(\"disp1:\", s)\r\n",
      "def disp2(s):\r\n",
      "    print(\"disp2:\", s)\r\n",
      "def disp3(s):\r\n",
      "    print(\"disp3:\", s)\r\n",
      "\r\n",
      "class Calc:\r\n",
      "    def plus(self, *args):\r\n",
      "        return sum(args)\r\n",
      "\r\n",
      "# 단위 실행 코드(독립적으로 파일 실행)\r\n",
      "if __name__ == '__main__':\r\n",
      "    print(\"main program!\")\r\n"
     ]
    }
   ],
   "source": [
    "!cat clc.py"
   ]
  },
  {
   "cell_type": "markdown",
   "metadata": {
    "slideshow": {
     "slide_type": "slide"
    }
   },
   "source": [
    "### 1.2. 모듈 파일 불러오기\n",
    "- `import`예약어를 통하여 불러올 수 있음"
   ]
  },
  {
   "cell_type": "code",
   "execution_count": 4,
   "metadata": {
    "slideshow": {
     "slide_type": "subslide"
    }
   },
   "outputs": [
    {
     "name": "stdout",
     "output_type": "stream",
     "text": [
      "clc.py imported. name: clc\n",
      "Variable   Type      Data/Info\n",
      "------------------------------\n",
      "clc        module    <module 'clc' from '/home<...>/mirence/edu/lec/clc.py'>\n"
     ]
    }
   ],
   "source": [
    "import clc\n",
    "%whos"
   ]
  },
  {
   "cell_type": "markdown",
   "metadata": {
    "slideshow": {
     "slide_type": "slide"
    }
   },
   "source": [
    "### 1.3. 모듈 변수/함수/클래스 사용"
   ]
  },
  {
   "cell_type": "code",
   "execution_count": 5,
   "metadata": {
    "slideshow": {
     "slide_type": "subslide"
    }
   },
   "outputs": [
    {
     "data": {
      "text/plain": [
       "1234"
      ]
     },
     "execution_count": 5,
     "metadata": {},
     "output_type": "execute_result"
    }
   ],
   "source": [
    "clc.num"
   ]
  },
  {
   "cell_type": "code",
   "execution_count": 6,
   "metadata": {
    "slideshow": {
     "slide_type": "subslide"
    }
   },
   "outputs": [
    {
     "name": "stdout",
     "output_type": "stream",
     "text": [
      "disp1: Hello\n"
     ]
    }
   ],
   "source": [
    "clc.disp1('Hello')"
   ]
  },
  {
   "cell_type": "code",
   "execution_count": 7,
   "metadata": {
    "slideshow": {
     "slide_type": "subslide"
    }
   },
   "outputs": [
    {
     "name": "stdout",
     "output_type": "stream",
     "text": [
      "disp2: Hi\n"
     ]
    }
   ],
   "source": [
    "clc.disp2('Hi')"
   ]
  },
  {
   "cell_type": "code",
   "execution_count": 8,
   "metadata": {
    "slideshow": {
     "slide_type": "subslide"
    }
   },
   "outputs": [
    {
     "data": {
      "text/plain": [
       "55"
      ]
     },
     "execution_count": 8,
     "metadata": {},
     "output_type": "execute_result"
    }
   ],
   "source": [
    "calc = clc.Calc()\n",
    "calc.plus(1, 2, 3, 4, 5, 6, 7, 8, 9, 10)"
   ]
  },
  {
   "cell_type": "code",
   "execution_count": 9,
   "metadata": {
    "slideshow": {
     "slide_type": "subslide"
    }
   },
   "outputs": [
    {
     "name": "stdout",
     "output_type": "stream",
     "text": [
      "Once deleted, variables cannot be recovered. Proceed (y/[n])? y\n"
     ]
    }
   ],
   "source": [
    "%reset"
   ]
  },
  {
   "cell_type": "markdown",
   "metadata": {
    "slideshow": {
     "slide_type": "slide"
    }
   },
   "source": [
    "### 1.4. 모듈의 특정 변수/함수/클래스 만 가지고 오기\n",
    "- `from` 모듈 `import` 변수/함수/클래스\n",
    "- 이렇게 불러오면 변수/함수/클래스 앞에 모듈 이름을 써 줄 필요가 없음\n",
    "- 현재 파일에서 작성하고 있는 이름과 모듈에서 사용하는 변수/함수/클래스 이름이 겹칠 수 있음"
   ]
  },
  {
   "cell_type": "code",
   "execution_count": 10,
   "metadata": {
    "slideshow": {
     "slide_type": "subslide"
    }
   },
   "outputs": [],
   "source": [
    "num = 1"
   ]
  },
  {
   "cell_type": "code",
   "execution_count": 11,
   "metadata": {
    "slideshow": {
     "slide_type": "subslide"
    }
   },
   "outputs": [],
   "source": [
    "from clc import num, disp1, Calc"
   ]
  },
  {
   "cell_type": "code",
   "execution_count": 12,
   "metadata": {
    "slideshow": {
     "slide_type": "subslide"
    }
   },
   "outputs": [
    {
     "name": "stdout",
     "output_type": "stream",
     "text": [
      "Variable   Type        Data/Info\n",
      "--------------------------------\n",
      "Calc       type        <class 'clc.Calc'>\n",
      "disp1      function    <function disp1 at 0x7fb5245cce18>\n",
      "num        int         1234\n"
     ]
    }
   ],
   "source": [
    "%whos"
   ]
  },
  {
   "cell_type": "code",
   "execution_count": 13,
   "metadata": {
    "slideshow": {
     "slide_type": "subslide"
    }
   },
   "outputs": [
    {
     "data": {
      "text/plain": [
       "1234"
      ]
     },
     "execution_count": 13,
     "metadata": {},
     "output_type": "execute_result"
    }
   ],
   "source": [
    "num"
   ]
  },
  {
   "cell_type": "code",
   "execution_count": 14,
   "metadata": {
    "slideshow": {
     "slide_type": "subslide"
    }
   },
   "outputs": [
    {
     "name": "stdout",
     "output_type": "stream",
     "text": [
      "disp1: python\n"
     ]
    }
   ],
   "source": [
    "disp1(\"python\")"
   ]
  },
  {
   "cell_type": "code",
   "execution_count": 15,
   "metadata": {
    "slideshow": {
     "slide_type": "subslide"
    }
   },
   "outputs": [
    {
     "ename": "NameError",
     "evalue": "name 'disp2' is not defined",
     "output_type": "error",
     "traceback": [
      "\u001b[0;31m---------------------------------------------------------------------------\u001b[0m",
      "\u001b[0;31mNameError\u001b[0m                                 Traceback (most recent call last)",
      "\u001b[0;32m<ipython-input-15-e719dd3ea281>\u001b[0m in \u001b[0;36m<module>\u001b[0;34m\u001b[0m\n\u001b[0;32m----> 1\u001b[0;31m \u001b[0mdisp2\u001b[0m\u001b[0;34m(\u001b[0m\u001b[0;34m\"?\"\u001b[0m\u001b[0;34m)\u001b[0m\u001b[0;34m\u001b[0m\u001b[0;34m\u001b[0m\u001b[0m\n\u001b[0m",
      "\u001b[0;31mNameError\u001b[0m: name 'disp2' is not defined"
     ]
    }
   ],
   "source": [
    "disp2(\"?\")"
   ]
  },
  {
   "cell_type": "code",
   "execution_count": 16,
   "metadata": {
    "slideshow": {
     "slide_type": "subslide"
    }
   },
   "outputs": [
    {
     "ename": "NameError",
     "evalue": "name 'clc' is not defined",
     "output_type": "error",
     "traceback": [
      "\u001b[0;31m---------------------------------------------------------------------------\u001b[0m",
      "\u001b[0;31mNameError\u001b[0m                                 Traceback (most recent call last)",
      "\u001b[0;32m<ipython-input-16-9c5062fa240c>\u001b[0m in \u001b[0;36m<module>\u001b[0;34m\u001b[0m\n\u001b[0;32m----> 1\u001b[0;31m \u001b[0mclc\u001b[0m\u001b[0;34m.\u001b[0m\u001b[0mdisp2\u001b[0m\u001b[0;34m(\u001b[0m\u001b[0;34m\"?\"\u001b[0m\u001b[0;34m)\u001b[0m\u001b[0;34m\u001b[0m\u001b[0;34m\u001b[0m\u001b[0m\n\u001b[0m",
      "\u001b[0;31mNameError\u001b[0m: name 'clc' is not defined"
     ]
    }
   ],
   "source": [
    "clc.disp2(\"?\")"
   ]
  },
  {
   "cell_type": "code",
   "execution_count": 17,
   "metadata": {
    "slideshow": {
     "slide_type": "subslide"
    }
   },
   "outputs": [
    {
     "data": {
      "text/plain": [
       "6"
      ]
     },
     "execution_count": 17,
     "metadata": {},
     "output_type": "execute_result"
    }
   ],
   "source": [
    "calc = Calc()\n",
    "calc.plus(1, 2, 3)"
   ]
  },
  {
   "cell_type": "code",
   "execution_count": 18,
   "metadata": {
    "slideshow": {
     "slide_type": "subslide"
    }
   },
   "outputs": [
    {
     "name": "stdout",
     "output_type": "stream",
     "text": [
      "Once deleted, variables cannot be recovered. Proceed (y/[n])? y\n"
     ]
    }
   ],
   "source": [
    "%reset"
   ]
  },
  {
   "cell_type": "markdown",
   "metadata": {
    "slideshow": {
     "slide_type": "slide"
    }
   },
   "source": [
    "### 1.5. 모듈의 모든 변수/함수/클래스 가지고 오기\n",
    "- `from` 모듈 `import` *\n",
    "- 모듈의 모든 변수/함수/클래스를 직접 다 가지고 오는 명령\n",
    "- 그냥 `import`와의 차이는 모듈명을 앞에 써 줄 필요가 없다는 점\n",
    "- 메모리상에 모든 모듈내 변수/함수/클래스가 불러와지므로 비효율적\n",
    "- 특히 그 모듈 안에 어떤 변수/함수/클래스가 있는지 모른 채 이렇게 불러와버리면 현재 문서에서 쓰는 이름과 충돌할 가능성 높음"
   ]
  },
  {
   "cell_type": "code",
   "execution_count": 19,
   "metadata": {
    "slideshow": {
     "slide_type": "subslide"
    }
   },
   "outputs": [
    {
     "name": "stdout",
     "output_type": "stream",
     "text": [
      "Variable   Type        Data/Info\n",
      "--------------------------------\n",
      "Calc       type        <class 'clc.Calc'>\n",
      "disp1      function    <function disp1 at 0x7fb5245cce18>\n",
      "disp2      function    <function disp2 at 0x7fb5245ccea0>\n",
      "disp3      function    <function disp3 at 0x7fb5245ccf28>\n",
      "num        int         1234\n"
     ]
    }
   ],
   "source": [
    "from clc import *\n",
    "%whos"
   ]
  },
  {
   "cell_type": "code",
   "execution_count": 20,
   "metadata": {
    "slideshow": {
     "slide_type": "subslide"
    }
   },
   "outputs": [
    {
     "name": "stdout",
     "output_type": "stream",
     "text": [
      "Once deleted, variables cannot be recovered. Proceed (y/[n])? y\n"
     ]
    }
   ],
   "source": [
    "%reset"
   ]
  },
  {
   "cell_type": "markdown",
   "metadata": {
    "slideshow": {
     "slide_type": "slide"
    }
   },
   "source": [
    "### * 단위실행?\n",
    "- clc.py를 직접 실행해보자"
   ]
  },
  {
   "cell_type": "markdown",
   "metadata": {
    "slideshow": {
     "slide_type": "fragment"
    }
   },
   "source": [
    "### `python3 clc.py`"
   ]
  },
  {
   "cell_type": "markdown",
   "metadata": {
    "slideshow": {
     "slide_type": "slide"
    }
   },
   "source": [
    "## 2. 패키지(Package)\n",
    "- 모듈의 모임이 패키지(모듈=파일, 패키지=폴더)\n",
    "- 패키지는 디렉터리와 모듈로 구성\n",
    "- 패키지의 디렉터리에는 `__init__.py` 파일이 있어야 함 (python3.3 버전 이후에는 없어도 됨)\n",
    "    - 하지만 호환성을 위해서 반드시 파일을 추가할 것을 권장"
   ]
  },
  {
   "cell_type": "markdown",
   "metadata": {
    "slideshow": {
     "slide_type": "slide"
    }
   },
   "source": [
    "### * 상대주소 vs 절대주소\n",
    "- 상대주소\n",
    "    - 현재 파일(폴더)의 위치를 기준삼아 상위 혹은 하위 폴더와 그 폴더내의 파일의 위치를 계산하는 방식\n",
    "    - 현재 위치: .(생략가능)\n",
    "    - 상위 폴더: ..\n",
    "    - 하위 폴더: 폴더이름\n",
    "    - ex) 현재 위치의 상위 폴더에서 a라는 폴더에 들어가서 b.py파일을 선택\n",
    "        - ../a/b.py\n",
    "- 절대주소\n",
    "    - root 디렉터리(윈도우의 경우 드라이버이름)를 기준으로 어떤 폴더 혹은 파일의 위치까지 모든 주소를 적는 방식\n",
    "    - ex) root디렉터리 안에 usr 안에 a 폴더 안에 b.py선택\n",
    "        - /usr/a/b.py\n",
    "- Linux/MacOS의 경우 디렉터리 구분자는 `/`(슬래시)\n",
    "- Windows의 경우 디렉터리 구분자는 `\\`(백슬래시)"
   ]
  },
  {
   "cell_type": "markdown",
   "metadata": {
    "slideshow": {
     "slide_type": "slide"
    }
   },
   "source": [
    "### 2.1. 디렉터리 만들기\n",
    "- 디렉터리를 만드는 명령어는 mkdir\n",
    "- `-p`: 현재 위치에 폴더 하나만 만드는 것이 아닌 하위폴더까지 생성"
   ]
  },
  {
   "cell_type": "code",
   "execution_count": 2,
   "metadata": {
    "slideshow": {
     "slide_type": "subslide"
    }
   },
   "outputs": [
    {
     "name": "stdout",
     "output_type": "stream",
     "text": [
      "/bin/sh: tree: command not found\r\n"
     ]
    }
   ],
   "source": [
    "!mkdir -p pack/loc\n",
    "!mkdir -p pack/web\n",
    "!tree pack"
   ]
  },
  {
   "cell_type": "markdown",
   "metadata": {
    "slideshow": {
     "slide_type": "slide"
    }
   },
   "source": [
    "### 2.2. 모듈 파일 생성"
   ]
  },
  {
   "cell_type": "code",
   "execution_count": 3,
   "metadata": {
    "slideshow": {
     "slide_type": "subslide"
    }
   },
   "outputs": [
    {
     "name": "stdout",
     "output_type": "stream",
     "text": [
      "Writing pack/loc/cal.py\n"
     ]
    }
   ],
   "source": [
    "%%writefile pack/loc/cal.py\n",
    "def plus(*args):\n",
    "    print(\"cal plus!\")\n",
    "    return sum(args)"
   ]
  },
  {
   "cell_type": "code",
   "execution_count": 4,
   "metadata": {
    "slideshow": {
     "slide_type": "subslide"
    }
   },
   "outputs": [
    {
     "name": "stdout",
     "output_type": "stream",
     "text": [
      "Writing pack/loc/cal2.py\n"
     ]
    }
   ],
   "source": [
    "%%writefile pack/loc/cal2.py\n",
    "def plus(*args):\n",
    "    print(\"cal2 plus!\")\n",
    "    return sum(args)"
   ]
  },
  {
   "cell_type": "code",
   "execution_count": 5,
   "metadata": {
    "slideshow": {
     "slide_type": "subslide"
    }
   },
   "outputs": [
    {
     "name": "stdout",
     "output_type": "stream",
     "text": [
      "Writing pack/web/url.py\n"
     ]
    }
   ],
   "source": [
    "%%writefile pack/web/url.py\n",
    "def make(url):\n",
    "    protocol = \"https://\"\n",
    "    return url if url[:8] == protocol else protocol + url"
   ]
  },
  {
   "cell_type": "code",
   "execution_count": 25,
   "metadata": {
    "slideshow": {
     "slide_type": "subslide"
    }
   },
   "outputs": [
    {
     "name": "stdout",
     "output_type": "stream",
     "text": [
      "\u001b[01;34mpack\u001b[00m\r\n",
      "├── \u001b[01;34mloc\u001b[00m\r\n",
      "│   ├── cal.py\r\n",
      "│   └── cal2.py\r\n",
      "└── \u001b[01;34mweb\u001b[00m\r\n",
      "    └── url.py\r\n",
      "\r\n",
      "2 directories, 3 files\r\n"
     ]
    }
   ],
   "source": [
    "!tree pack"
   ]
  },
  {
   "cell_type": "markdown",
   "metadata": {
    "slideshow": {
     "slide_type": "slide"
    }
   },
   "source": [
    "### 2.3. import package\n",
    "- `import`에서 가장 마지막은 모듈(파일)이어야 함\n",
    "- 디렉터리 구분은 ."
   ]
  },
  {
   "cell_type": "code",
   "execution_count": 6,
   "metadata": {
    "slideshow": {
     "slide_type": "subslide"
    }
   },
   "outputs": [
    {
     "name": "stdout",
     "output_type": "stream",
     "text": [
      "Variable   Type      Data/Info\n",
      "------------------------------\n",
      "pack       module    <module 'pack' (namespace)>\n"
     ]
    }
   ],
   "source": [
    "import pack.loc.cal\n",
    "%whos"
   ]
  },
  {
   "cell_type": "code",
   "execution_count": 7,
   "metadata": {
    "slideshow": {
     "slide_type": "subslide"
    }
   },
   "outputs": [
    {
     "name": "stdout",
     "output_type": "stream",
     "text": [
      "cal plus!\n"
     ]
    },
    {
     "data": {
      "text/plain": [
       "6"
      ]
     },
     "execution_count": 7,
     "metadata": {},
     "output_type": "execute_result"
    }
   ],
   "source": [
    "pack.loc.cal.plus(1, 2, 3)"
   ]
  },
  {
   "cell_type": "code",
   "execution_count": 8,
   "metadata": {
    "slideshow": {
     "slide_type": "subslide"
    }
   },
   "outputs": [
    {
     "name": "stdout",
     "output_type": "stream",
     "text": [
      "Once deleted, variables cannot be recovered. Proceed (y/[n])? y\n"
     ]
    }
   ],
   "source": [
    "%reset"
   ]
  },
  {
   "cell_type": "markdown",
   "metadata": {
    "slideshow": {
     "slide_type": "slide"
    }
   },
   "source": [
    "### 2.4. alias\n",
    "- `as` 예약어로 alias를 사용하면 길이가 긴 모듈이름을 줄일수 있음\n",
    "- 전치사 as로 생각해도 무방(언어같은 파이썬)"
   ]
  },
  {
   "cell_type": "code",
   "execution_count": 9,
   "metadata": {
    "slideshow": {
     "slide_type": "subslide"
    }
   },
   "outputs": [
    {
     "name": "stdout",
     "output_type": "stream",
     "text": [
      "cal plus!\n"
     ]
    },
    {
     "data": {
      "text/plain": [
       "6"
      ]
     },
     "execution_count": 9,
     "metadata": {},
     "output_type": "execute_result"
    }
   ],
   "source": [
    "import pack.loc.cal as calc\n",
    "calc.plus(1, 2, 3)"
   ]
  },
  {
   "cell_type": "code",
   "execution_count": 10,
   "metadata": {
    "slideshow": {
     "slide_type": "subslide"
    }
   },
   "outputs": [
    {
     "data": {
      "text/plain": [
       "'https://naver.com'"
      ]
     },
     "execution_count": 10,
     "metadata": {},
     "output_type": "execute_result"
    }
   ],
   "source": [
    "import pack.web.url as url\n",
    "url.make(\"naver.com\")"
   ]
  },
  {
   "cell_type": "code",
   "execution_count": 11,
   "metadata": {
    "slideshow": {
     "slide_type": "subslide"
    }
   },
   "outputs": [
    {
     "name": "stdout",
     "output_type": "stream",
     "text": [
      "Once deleted, variables cannot be recovered. Proceed (y/[n])? y\n"
     ]
    }
   ],
   "source": [
    "%reset"
   ]
  },
  {
   "cell_type": "markdown",
   "metadata": {
    "slideshow": {
     "slide_type": "slide"
    }
   },
   "source": [
    "### 2.5. from 이용 모듈 import\n",
    "- `from` 패키지주소 `import` 모듈이름"
   ]
  },
  {
   "cell_type": "code",
   "execution_count": 32,
   "metadata": {
    "slideshow": {
     "slide_type": "subslide"
    }
   },
   "outputs": [
    {
     "name": "stdout",
     "output_type": "stream",
     "text": [
      "cal plus!\n"
     ]
    },
    {
     "data": {
      "text/plain": [
       "15"
      ]
     },
     "execution_count": 32,
     "metadata": {},
     "output_type": "execute_result"
    }
   ],
   "source": [
    "from pack.loc import cal\n",
    "cal.plus(4, 5, 6)"
   ]
  },
  {
   "cell_type": "code",
   "execution_count": 33,
   "metadata": {
    "slideshow": {
     "slide_type": "subslide"
    }
   },
   "outputs": [
    {
     "data": {
      "text/plain": [
       "'https://naver.com'"
      ]
     },
     "execution_count": 33,
     "metadata": {},
     "output_type": "execute_result"
    }
   ],
   "source": [
    "from pack.web import url as ul\n",
    "ul.make('naver.com')"
   ]
  },
  {
   "cell_type": "code",
   "execution_count": 34,
   "metadata": {
    "slideshow": {
     "slide_type": "subslide"
    }
   },
   "outputs": [
    {
     "name": "stdout",
     "output_type": "stream",
     "text": [
      "Once deleted, variables cannot be recovered. Proceed (y/[n])? y\n"
     ]
    }
   ],
   "source": [
    "%reset"
   ]
  },
  {
   "cell_type": "markdown",
   "metadata": {
    "slideshow": {
     "slide_type": "slide"
    }
   },
   "source": [
    "### 2.6. 패키지 찾는 순서\n",
    "1. 현재 문서가 있는 위치\n",
    "2. Built-in python modules\n",
    "3. sys,path에 등록되어 있는 경로\n",
    "4. Installation-dependent 기본 위치"
   ]
  },
  {
   "cell_type": "markdown",
   "metadata": {
    "slideshow": {
     "slide_type": "slide"
    }
   },
   "source": [
    "## * 파일 정리\n",
    "- `rm`: remove\n",
    "- `-r`: recursive\n",
    "- `-f`: force the action\n",
    "- `-rf`: recursive and force"
   ]
  },
  {
   "cell_type": "code",
   "execution_count": 12,
   "metadata": {
    "slideshow": {
     "slide_type": "subslide"
    }
   },
   "outputs": [],
   "source": [
    "!rm clc.py\n",
    "!rm -rf pack"
   ]
  }
 ],
 "metadata": {
  "celltoolbar": "Slideshow",
  "kernelspec": {
   "display_name": "Python 3",
   "language": "python",
   "name": "python3"
  },
  "language_info": {
   "codemirror_mode": {
    "name": "ipython",
    "version": 3
   },
   "file_extension": ".py",
   "mimetype": "text/x-python",
   "name": "python",
   "nbconvert_exporter": "python",
   "pygments_lexer": "ipython3",
   "version": "3.7.4"
  }
 },
 "nbformat": 4,
 "nbformat_minor": 2
}
