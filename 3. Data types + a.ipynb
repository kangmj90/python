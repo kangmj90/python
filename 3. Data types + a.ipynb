{
 "cells": [
  {
   "cell_type": "markdown",
   "metadata": {
    "slideshow": {
     "slide_type": "slide"
    }
   },
   "source": [
    "# Data types"
   ]
  },
  {
   "cell_type": "markdown",
   "metadata": {
    "slideshow": {
     "slide_type": "subslide"
    }
   },
   "source": [
    "- int\n",
    "- float\n",
    "- boolean\n",
    "- string\n",
    "- Collections\n",
    "    - list\n",
    "    - tuple\n",
    "    - dictionary\n",
    "    - set"
   ]
  },
  {
   "cell_type": "markdown",
   "metadata": {
    "slideshow": {
     "slide_type": "slide"
    }
   },
   "source": [
    "## 1. int\n",
    "- 정수형 데이터\n",
    "- python 2: `(-2**31 - 1) ~ 2**31`\n",
    "- python 3: 거의 무한대"
   ]
  },
  {
   "cell_type": "code",
   "execution_count": 1,
   "metadata": {
    "slideshow": {
     "slide_type": "subslide"
    }
   },
   "outputs": [
    {
     "name": "stdout",
     "output_type": "stream",
     "text": [
      "<class 'int'> <class 'int'> <class 'int'> <class 'int'>\n",
      "0 999743 -177529 59992\n"
     ]
    }
   ],
   "source": [
    "a, b, c, d = 0, 999743, -177529, +59992\n",
    "print(type(a), type(b), type(c), type(d))\n",
    "print(a, b, c, d)"
   ]
  },
  {
   "cell_type": "markdown",
   "metadata": {
    "slideshow": {
     "slide_type": "subslide"
    }
   },
   "source": [
    "### 1.1. 기본연산자\n",
    "- +, -, *, /, % : 기본사칙연산과 나머지연산\n",
    "- ** : 제곱연산\n",
    "- // : 정수 나누기"
   ]
  },
  {
   "cell_type": "markdown",
   "metadata": {
    "slideshow": {
     "slide_type": "slide"
    }
   },
   "source": [
    "## 2. float\n",
    "- 소수점이 있는 숫자\n",
    "- just float (not double)"
   ]
  },
  {
   "cell_type": "markdown",
   "metadata": {
    "slideshow": {
     "slide_type": "slide"
    }
   },
   "source": [
    "## 3. boolean\n",
    "- True of False\n",
    "- 0, \"\", [], (), {} 전부 False"
   ]
  },
  {
   "cell_type": "code",
   "execution_count": 2,
   "metadata": {
    "slideshow": {
     "slide_type": "subslide"
    }
   },
   "outputs": [
    {
     "name": "stdout",
     "output_type": "stream",
     "text": [
      "<class 'bool'> <class 'bool'>\n",
      "True False\n"
     ]
    }
   ],
   "source": [
    "a, b = True, False\n",
    "print(type(a), type(b))\n",
    "print(a, b)"
   ]
  },
  {
   "cell_type": "markdown",
   "metadata": {
    "slideshow": {
     "slide_type": "slide"
    }
   },
   "source": [
    "## 4. string\n",
    "- 문자열 변수\n",
    "- 선언\n",
    "- 연산\n",
    "- 슬라이싱(오프셋)\n",
    "- 메서드"
   ]
  },
  {
   "cell_type": "markdown",
   "metadata": {
    "slideshow": {
     "slide_type": "subslide"
    }
   },
   "source": [
    "### 4.1. 문자열 변수\n",
    "- 다른 조작이 필요 없이 그냥 문자열을 선언해주면 바로 사용 가능"
   ]
  },
  {
   "cell_type": "markdown",
   "metadata": {
    "slideshow": {
     "slide_type": "subslide"
    }
   },
   "source": [
    "### 4.2. 문자열 선언\n",
    "- \"\" 혹은 ''사이에 문자열을 넣어 변수를 선언 (둘 사이의 차이는 없음)"
   ]
  },
  {
   "cell_type": "code",
   "execution_count": 3,
   "metadata": {
    "slideshow": {
     "slide_type": "subslide"
    }
   },
   "outputs": [
    {
     "data": {
      "text/plain": [
       "('hello', 'python')"
      ]
     },
     "execution_count": 3,
     "metadata": {},
     "output_type": "execute_result"
    }
   ],
   "source": [
    "string1 = \"hello\"\n",
    "string2 = 'python'\n",
    "string1, string2"
   ]
  },
  {
   "cell_type": "markdown",
   "metadata": {
    "slideshow": {
     "slide_type": "subslide"
    }
   },
   "source": [
    "- \"\"와 ''는 내부에서 구별되어 escape문자가 필요 없다."
   ]
  },
  {
   "cell_type": "code",
   "execution_count": 4,
   "metadata": {
    "slideshow": {
     "slide_type": "subslide"
    }
   },
   "outputs": [
    {
     "name": "stdout",
     "output_type": "stream",
     "text": [
      "<class 'str'> hello 'python' hello 'python'\n"
     ]
    }
   ],
   "source": [
    "string1 = \"hello 'python'\"\n",
    "string2 = \"hello \\'python\\'\"\n",
    "print(type(string1), string1, string2)"
   ]
  },
  {
   "cell_type": "code",
   "execution_count": 5,
   "metadata": {
    "slideshow": {
     "slide_type": "subslide"
    }
   },
   "outputs": [
    {
     "name": "stdout",
     "output_type": "stream",
     "text": [
      "hello \"python\" hello \"python\"\n"
     ]
    }
   ],
   "source": [
    "string1 = 'hello \"python\"'\n",
    "string2 = 'hello \\\"python\\\"'\n",
    "print(string1, string2)"
   ]
  },
  {
   "cell_type": "markdown",
   "metadata": {
    "slideshow": {
     "slide_type": "subslide"
    }
   },
   "source": [
    "- 여러줄의 문자열을 작성시 \"\"\" \"\"\" 혹은 ''' '''을 사용한다"
   ]
  },
  {
   "cell_type": "code",
   "execution_count": 6,
   "metadata": {
    "slideshow": {
     "slide_type": "subslide"
    }
   },
   "outputs": [
    {
     "name": "stdout",
     "output_type": "stream",
     "text": [
      "\n",
      "hello\n",
      "hello\n",
      "python\n",
      "\n"
     ]
    }
   ],
   "source": [
    "string = \"\"\"\n",
    "hello\n",
    "hello\n",
    "python\n",
    "\"\"\"\n",
    "print(string)"
   ]
  },
  {
   "cell_type": "code",
   "execution_count": 7,
   "metadata": {
    "slideshow": {
     "slide_type": "subslide"
    }
   },
   "outputs": [
    {
     "name": "stdout",
     "output_type": "stream",
     "text": [
      "\n",
      "hello\n",
      "hello\n",
      "python\n",
      "\n"
     ]
    }
   ],
   "source": [
    "string = '''\n",
    "hello\n",
    "hello\n",
    "python\n",
    "'''\n",
    "print(string)"
   ]
  },
  {
   "cell_type": "markdown",
   "metadata": {
    "slideshow": {
     "slide_type": "subslide"
    }
   },
   "source": [
    "### 4.3. 문자열 연산\n",
    "- *와 +가 정의되어 있음\n",
    "- *: 문자열 반복\n",
    "- +: 문자열 연결"
   ]
  },
  {
   "cell_type": "code",
   "execution_count": 8,
   "metadata": {
    "slideshow": {
     "slide_type": "subslide"
    }
   },
   "outputs": [
    {
     "name": "stdout",
     "output_type": "stream",
     "text": [
      "hello hello hello hello \n"
     ]
    }
   ],
   "source": [
    "print(\"hello \"*4)"
   ]
  },
  {
   "cell_type": "code",
   "execution_count": 9,
   "metadata": {
    "slideshow": {
     "slide_type": "subslide"
    }
   },
   "outputs": [
    {
     "name": "stdout",
     "output_type": "stream",
     "text": [
      "hello python\n"
     ]
    }
   ],
   "source": [
    "print(\"hello \"+\"python\")"
   ]
  },
  {
   "cell_type": "markdown",
   "metadata": {
    "slideshow": {
     "slide_type": "subslide"
    }
   },
   "source": [
    "### 4.4. 슬라이싱\n",
    "- 문자열을 자르거나 특정위치 문자 선택 가능\n",
    "    1. [index]: index 위치 문자 선택\n",
    "    2. [start:end]: start index에서 end index까지 선택\n",
    "        - start index 포함, end index 미포함\n",
    "        - start 생략시 기본 0\n",
    "        - end 생략시 기본 문자열 길이 값\n",
    "    3. [start:end:stride] : start index에서 end index까지 stride만큼 점프하며 선택\n",
    "        - stride 생략시 기본 1\n",
    "- 값이 양수일때 맨 처음부터(index 0부터) 끝 방향으로 계산\n",
    "- 값이 음수일때 가장 뒤에서부터(index 문자열 끝부터) 처음 방향으로 계산"
   ]
  },
  {
   "cell_type": "markdown",
   "metadata": {
    "slideshow": {
     "slide_type": "subslide"
    }
   },
   "source": [
    "### Quiz\n",
    "\n",
    "`a = \"python\"` 일때 nohtyp 출력"
   ]
  },
  {
   "cell_type": "code",
   "execution_count": 10,
   "metadata": {
    "slideshow": {
     "slide_type": "subslide"
    }
   },
   "outputs": [
    {
     "data": {
      "text/plain": [
       "'nohtyp'"
      ]
     },
     "execution_count": 10,
     "metadata": {},
     "output_type": "execute_result"
    }
   ],
   "source": [
    "a = \"python\"\n",
    "a[::-1]"
   ]
  },
  {
   "cell_type": "markdown",
   "metadata": {
    "slideshow": {
     "slide_type": "subslide"
    }
   },
   "source": [
    "### Quiz\n",
    "다음 코드의 실행결과를 예측\n",
    "\n",
    "```\n",
    "string = \"abcdefg\"\n",
    "string[0], string[3], string[-1], string[-5], string[2:5], string[::2]\n",
    "```"
   ]
  },
  {
   "cell_type": "code",
   "execution_count": 11,
   "metadata": {
    "slideshow": {
     "slide_type": "subslide"
    }
   },
   "outputs": [
    {
     "data": {
      "text/plain": [
       "('a', 'd', 'g', 'c', 'cde', 'aceg')"
      ]
     },
     "execution_count": 11,
     "metadata": {},
     "output_type": "execute_result"
    }
   ],
   "source": [
    "string = \"abcdefg\"\n",
    "string[0], string[3], string[-1], string[-5], string[2:5], string[::2]"
   ]
  },
  {
   "cell_type": "markdown",
   "metadata": {
    "slideshow": {
     "slide_type": "subslide"
    }
   },
   "source": [
    "### Quiz\n",
    "numbers에서 짝수만 출력(홀수만 출력)\n",
    "\n",
    "```\n",
    "numbers = \"123456789\"\n",
    "```"
   ]
  },
  {
   "cell_type": "code",
   "execution_count": 12,
   "metadata": {
    "slideshow": {
     "slide_type": "subslide"
    }
   },
   "outputs": [
    {
     "data": {
      "text/plain": [
       "'2468'"
      ]
     },
     "execution_count": 12,
     "metadata": {},
     "output_type": "execute_result"
    }
   ],
   "source": [
    "numbers = \"123456789\"\n",
    "numbers[1::2]"
   ]
  },
  {
   "cell_type": "code",
   "execution_count": 13,
   "metadata": {
    "slideshow": {
     "slide_type": "subslide"
    }
   },
   "outputs": [
    {
     "data": {
      "text/plain": [
       "'13579'"
      ]
     },
     "execution_count": 13,
     "metadata": {},
     "output_type": "execute_result"
    }
   ],
   "source": [
    "numbers = \"123456789\"\n",
    "numbers[::2]"
   ]
  },
  {
   "cell_type": "markdown",
   "metadata": {
    "slideshow": {
     "slide_type": "subslide"
    }
   },
   "source": [
    "### * 가장 많이 쓰는 내장함수 with 문자열\n",
    "- len()\n",
    "- 문자열의 길이를 반환하는 내장함수\n",
    "- 사실 \"길이\"를 갖는 모든 것들의 길이를 반환하는 함수임"
   ]
  },
  {
   "cell_type": "markdown",
   "metadata": {
    "slideshow": {
     "slide_type": "subslide"
    }
   },
   "source": [
    "### 4.5. 가장 많이 쓰는 문자열 메서드\n",
    "- upper() : 대문자로 변환\n",
    "- lower() : 소문자로 변환\n",
    "- find() : 해당 문자열 위치 리턴 (없으면 -1 리턴)\n",
    "- index() : 해당 문자열 위치 리턴 (없으면 value error 리턴)\n",
    "- count() : 문자열 갯수 리턴\n",
    "- strip() : 양쪽 공백 제거\n",
    "- replace() : 특정 문자열 치환\n",
    "- split() : 특정 문자열로 분리하여 리스트 형태로 리턴\n",
    "- join() : 문자열 리스트를 결합"
   ]
  },
  {
   "cell_type": "markdown",
   "metadata": {
    "slideshow": {
     "slide_type": "subslide"
    }
   },
   "source": [
    "### * 체이닝 : 여러개의 함수를 연결해서 같이 사용하기"
   ]
  },
  {
   "cell_type": "markdown",
   "metadata": {
    "slideshow": {
     "slide_type": "slide"
    }
   },
   "source": [
    "## Collections\n",
    "- 여러 데이터들을 묶어 한번에 쓰는 형식\n",
    "- 배열, 링크드 리스트, 구조체 같은 것\n",
    "- 파이썬에서는 네가지 형태를 제공한다\n",
    "    - 리스트, 튜플, 딕셔너리, 셋"
   ]
  },
  {
   "cell_type": "markdown",
   "metadata": {
    "slideshow": {
     "slide_type": "slide"
    }
   },
   "source": [
    "### 1. List [v, v]\n",
    "- 순서가 있고, 변경 가능한 데이터들의 집합(mutable)\n",
    "- []로 선언\n",
    "- 리스트 내부에 들어갈 수 있는 변수 형태는 다양\n",
    "- 리스트도 순서와 index를 가지고 있으므로 인덱싱&슬라이싱 가능"
   ]
  },
  {
   "cell_type": "markdown",
   "metadata": {
    "slideshow": {
     "slide_type": "subslide"
    }
   },
   "source": [
    "#### 1.1. 가장 많이 쓰는 List method\n",
    "- append() : 데이터 추가(리스트 끝)\n",
    "- sort() : 오름차순 정렬(원본 리스트 변경) vs sorted()\n",
    "- reverse() : 내림차순 정렬(원본 리스트 변경) vs reversed()\n",
    "- index() : 데이터 위치 리턴\n",
    "- insert() : 특정 위치에 데이터 삽입\n",
    "- remove() : 해당되는 데이터 값을 삭제 (오프셋이 가장 작은 데이터 하나만 삭제)\n",
    "- pop() : 가장 마지막 값을 뽑기(값 리턴 후 삭제)"
   ]
  },
  {
   "cell_type": "markdown",
   "metadata": {
    "slideshow": {
     "slide_type": "subslide"
    }
   },
   "source": [
    "#### 1.2 List Copy\n",
    "- 깊은 복사(deep copy)와 얕은 복사(shallow copy)\n",
    "    - 기본적으로 리스트는 리스트의 시작주소를 가지고 접근\n",
    "    - 만약 b리스트를 a = b 같이 선언하면, b의 주소만 a에 저장하게 되므로, a리스트의 값을 변경시 b의 리스트 값도 변경\n",
    "    - 완전히 새로운 a 리스트를 만들려면 .copy() 메서드 사용(메모리 값을 복사 -> 새로운 메모리에 할당 후 새로운 메모리 주소 변수 연결)"
   ]
  },
  {
   "cell_type": "markdown",
   "metadata": {
    "slideshow": {
     "slide_type": "slide"
    }
   },
   "source": [
    "### 2. Tuple (v, v)\n",
    "- 순서가 있으나, 변경 불가능한 데이터들의 집합(immutable)\n",
    "- ,혹은 (,)로 선언\n",
    "- 튜플 내부에 들어갈 수 있는 변수 형태는 다양\n",
    "- 튜플도 순서와 index를 가지고 있으므로 인덱싱&슬라이싱 가능\n",
    "- Tuple을 사용하는 이유\n",
    "    - List보다 컴퓨터 자원 적게 사용\n",
    "    - 값의 변경이 불가하므로, 값 변경이 필요없는(혹은 값이 변경되어서는 안되는) 것들을 묶는데 사용"
   ]
  },
  {
   "cell_type": "code",
   "execution_count": 14,
   "metadata": {
    "slideshow": {
     "slide_type": "subslide"
    }
   },
   "outputs": [
    {
     "name": "stdout",
     "output_type": "stream",
     "text": [
      "<class 'list'> 104 byte\n",
      "<class 'tuple'> 88 byte\n"
     ]
    }
   ],
   "source": [
    "import sys\n",
    "\n",
    "# getsizeof의 단위 : byte\n",
    "ls = [1, 2, 3, 4, 5]\n",
    "print(type(ls), sys.getsizeof(ls), \"byte\")\n",
    "\n",
    "tp = (1, 2, 3, 4, 5)\n",
    "print(type(tp), sys.getsizeof(tp), \"byte\")"
   ]
  },
  {
   "cell_type": "markdown",
   "metadata": {
    "slideshow": {
     "slide_type": "slide"
    }
   },
   "source": [
    "### * Unpacking: 모든 종류의 collections 형태의 데이터 타입은 분해가능"
   ]
  },
  {
   "cell_type": "markdown",
   "metadata": {
    "slideshow": {
     "slide_type": "slide"
    }
   },
   "source": [
    "#### Quiz\n",
    "a와 b의 값을 swab하시오."
   ]
  },
  {
   "cell_type": "markdown",
   "metadata": {
    "slideshow": {
     "slide_type": "slide"
    }
   },
   "source": [
    "### 3. Dictionary {k:v}\n",
    "- 순서가 없고, 변경가능한, key와 value의 쌍으로 데이터가 모여있는 데이터 타입\n",
    "- {}로 선언\n",
    "    - 딕셔너리 안에 들어가는 것은 { 키:값 }의 구조.\n",
    "    - 키에는 정수 혹은 문자열의 데이터 타입 사용 가능\n",
    "    - 값에는 아무 데이터 타입이나 사용 가능\n",
    "- 순서가 없기 때문에 indexing&slicing 불가능(key로 value에 접근은 가능)"
   ]
  },
  {
   "cell_type": "markdown",
   "metadata": {
    "slideshow": {
     "slide_type": "subslide"
    }
   },
   "source": [
    "#### 3.1. Dictionary Methods\n",
    "- keys() : 딕셔너리의 키들을 리턴(리스트 형태로 반환)\n",
    "- values() : 딕셔너리의 값들을 리턴(리스트 형태로 반환)\n",
    "- items() : 딕셔너리의 키와 값을 리턴(키와 값의 튜플을 리스트 형태로 반환)\n",
    "- clear() : dictionary 데이터를 모두 삭제\n",
    "- get() : 딕셔너리의 키에 해당하는 값을 리턴\n",
    "- copy() : 리스트와 마찬가지로 다른 저장공간을 가지는 딥 카피 실행\n",
    "- update() : 데이터를 업데이트(같은 키: value만 업데이트, 키가 없으면 {키:값} 추가)"
   ]
  },
  {
   "cell_type": "markdown",
   "metadata": {
    "slideshow": {
     "slide_type": "slide"
    }
   },
   "source": [
    "### 4. Set {v, v}\n",
    "- 순서가 없고, 변경 불가능한, 중복되는 데이터가 없는 데이터 타입\n",
    "- 집합 연산(교집합, 합집합, 차집합) 가능\n",
    "- {값, 값}, set(), set([])으로 선언\n",
    "- 순서가 없기 때문에 indexing&slicing 불가능(수정하려면 리스트로 데이터 형변환 후 수정하고 다시 셋 데이터로 형변환)"
   ]
  },
  {
   "cell_type": "markdown",
   "metadata": {
    "slideshow": {
     "slide_type": "subslide"
    }
   },
   "source": [
    "#### 4.1. 집합연산\n",
    "- 합집합(union): s1 | s2, s1.union(s2)\n",
    "- 교집합(intersection): s1 & s2, s1.intersection(s2)\n",
    "- 차집합(difference): s1 - s2, s1.difference(s2)"
   ]
  },
  {
   "cell_type": "markdown",
   "metadata": {
    "slideshow": {
     "slide_type": "slide"
    }
   },
   "source": [
    "## * 연산자\n",
    "1. 산술 연산자: +, -, *, /, //, %, **\n",
    "2. 비교 연산자: >, <, ==, !=, >=, <=\n",
    "3. 할당 연산자: =, +=...\n",
    "4. 논리 연산자: and, or, not\n",
    "5. 멤버 연산자: in, not in"
   ]
  },
  {
   "cell_type": "markdown",
   "metadata": {
    "slideshow": {
     "slide_type": "slide"
    }
   },
   "source": [
    "## * python 입출력\n",
    "- input()\n",
    "- print()"
   ]
  }
 ],
 "metadata": {
  "celltoolbar": "Slideshow",
  "kernelspec": {
   "display_name": "Python 3",
   "language": "python",
   "name": "python3"
  },
  "language_info": {
   "codemirror_mode": {
    "name": "ipython",
    "version": 3
   },
   "file_extension": ".py",
   "mimetype": "text/x-python",
   "name": "python",
   "nbconvert_exporter": "python",
   "pygments_lexer": "ipython3",
   "version": "3.7.4"
  }
 },
 "nbformat": 4,
 "nbformat_minor": 2
}
