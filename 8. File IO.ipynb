{
 "cells": [
  {
   "cell_type": "markdown",
   "metadata": {
    "slideshow": {
     "slide_type": "slide"
    }
   },
   "source": [
    "# File Input/Output"
   ]
  },
  {
   "cell_type": "markdown",
   "metadata": {
    "slideshow": {
     "slide_type": "slide"
    }
   },
   "source": [
    "## 1. File\n",
    "- Python 내장함수와 file object의 메서드를 이용하여 파일을 읽고 쓸 수 있음"
   ]
  },
  {
   "cell_type": "markdown",
   "metadata": {
    "slideshow": {
     "slide_type": "slide"
    }
   },
   "source": [
    "### 1.1. 기본파일입출력"
   ]
  },
  {
   "cell_type": "markdown",
   "metadata": {
    "slideshow": {
     "slide_type": "subslide"
    }
   },
   "source": [
    "#### 1.1.1. File 열기\n",
    "- 옵션\n",
    "    - 파일 입출력 방식(모드)\n",
    "        - w(파일 쓰기): 파일 존재시 덮어 쓰기(미존재시 새로 생성)\n",
    "        - x(파일 쓰기): 파일 미존재시에만 생성(존재시 에러 발생)\n",
    "        - a(파일 추가): 파일 맨 뒤에 추가(파일 미존재시 새로 생성)\n",
    "        - r(파일 읽기): 파일 존재시에만 읽기 가능(미존재시 에러 발생)\n",
    "        - +: 파일 입출력 방식 뒤에 +기호가 붙으면 '파일이 없을 때 새로 만들어라'라는 의미이지만, 파이썬에서는 기본적으로 파일이 없을 땐 새로 만든다.(없어도 무관)\n",
    "    - 파일 타입\n",
    "        - t(텍스트): 파일을 텍스트 형식으로 저장 및 읽기, 기본 옵션이므로 생략가능\n",
    "        - b(이진): 파일을 2진 형식으로 저장 및 읽기, 직접 파일 열었을 때 사람이 해독 불가"
   ]
  },
  {
   "cell_type": "code",
   "execution_count": 17,
   "metadata": {
    "slideshow": {
     "slide_type": "subslide"
    }
   },
   "outputs": [],
   "source": [
    "# 파일 입출력을 연습할 file directory생성\n",
    "!mkdir file"
   ]
  },
  {
   "cell_type": "code",
   "execution_count": 1,
   "metadata": {
    "slideshow": {
     "slide_type": "subslide"
    }
   },
   "outputs": [],
   "source": [
    "# first.txt라는 파일을 w모드로 열었다. 파일 타입옵션을 생략하였으므로 기본 t옵션을 적용받는다.\n",
    "f = open(\"file/first.txt\", \"w\")"
   ]
  },
  {
   "cell_type": "markdown",
   "metadata": {
    "slideshow": {
     "slide_type": "slide"
    }
   },
   "source": [
    "#### 1.1.2. File Write\n",
    "- 기본적으로 write메서드를 사용하여 파일에 쓴다"
   ]
  },
  {
   "cell_type": "code",
   "execution_count": 2,
   "metadata": {
    "slideshow": {
     "slide_type": "subslide"
    }
   },
   "outputs": [
    {
     "data": {
      "text/plain": [
       "74"
      ]
     },
     "execution_count": 2,
     "metadata": {},
     "output_type": "execute_result"
    }
   ],
   "source": [
    "# 반환값은 쓴 문자의 갯수\n",
    "s = \"\"\"This is my first example of fileio!\n",
    "How awsome python is!\n",
    "Good job python.\"\"\"\n",
    "f.write(s)"
   ]
  },
  {
   "cell_type": "markdown",
   "metadata": {
    "slideshow": {
     "slide_type": "subslide"
    }
   },
   "source": [
    "#### 이 상태로 first.txt파일을 열어보자"
   ]
  },
  {
   "cell_type": "markdown",
   "metadata": {
    "slideshow": {
     "slide_type": "slide"
    }
   },
   "source": [
    "#### 1.1.3. File 닫기\n",
    "- file을 열어준 다음에는 무조건 그 file을 닫아주어야 한다."
   ]
  },
  {
   "cell_type": "code",
   "execution_count": 3,
   "metadata": {
    "slideshow": {
     "slide_type": "subslide"
    }
   },
   "outputs": [],
   "source": [
    "# 아무것도 써 있지 않았다면, 프로그램에서 연 파일을 닫아주어야 파일에 반영이 된다. (like buffer)\n",
    "f.close()"
   ]
  },
  {
   "cell_type": "markdown",
   "metadata": {
    "slideshow": {
     "slide_type": "subslide"
    }
   },
   "source": [
    "#### 이 상태로 first.txt파일을 다시 열어보자"
   ]
  },
  {
   "cell_type": "markdown",
   "metadata": {
    "slideshow": {
     "slide_type": "slide"
    }
   },
   "source": [
    "#### 1.1.4. File Read\n",
    "- 파일을 읽을 수 있는 모드는 r이다\n",
    "- read: 텍스트 파일 모두 읽어오기\n",
    "- readlines: 각 줄을 리스트형태로 읽어오기"
   ]
  },
  {
   "cell_type": "code",
   "execution_count": 53,
   "metadata": {
    "slideshow": {
     "slide_type": "subslide"
    }
   },
   "outputs": [
    {
     "name": "stdout",
     "output_type": "stream",
     "text": [
      "This is my first example of fileio!\n",
      "How awsome python is!\n",
      "Good job python.\n"
     ]
    }
   ],
   "source": [
    "f = open(\"file/first.txt\", \"r\")\n",
    "print(f.read())\n",
    "f.close()"
   ]
  },
  {
   "cell_type": "code",
   "execution_count": 52,
   "metadata": {
    "slideshow": {
     "slide_type": "subslide"
    }
   },
   "outputs": [
    {
     "name": "stdout",
     "output_type": "stream",
     "text": [
      "['This is my first example of fileio!\\n', 'How awsome python is!\\n', 'Good job python.']\n"
     ]
    }
   ],
   "source": [
    "f = open(\"file/first.txt\", \"r\")\n",
    "print(f.readlines())\n",
    "f.close()"
   ]
  },
  {
   "cell_type": "markdown",
   "metadata": {
    "slideshow": {
     "slide_type": "slide"
    }
   },
   "source": [
    "### 1.2. 이진파일 입출력"
   ]
  },
  {
   "cell_type": "markdown",
   "metadata": {
    "slideshow": {
     "slide_type": "slide"
    }
   },
   "source": [
    "#### 1.2.1. Binary write\n",
    "- bytes 내장 함수는 2진 데이터로 형변환 시켜줌\n",
    "- 이진파일 입력을 위해서는 bytes로 형변환 시켜줄 필요가 있음"
   ]
  },
  {
   "cell_type": "code",
   "execution_count": 59,
   "metadata": {
    "slideshow": {
     "slide_type": "subslide"
    }
   },
   "outputs": [
    {
     "data": {
      "text/plain": [
       "b'\\x01\\x02\\x03\\x04\\x05'"
      ]
     },
     "execution_count": 59,
     "metadata": {},
     "output_type": "execute_result"
    }
   ],
   "source": [
    "data = bytes([1, 2, 3, 4, 5])\n",
    "\n",
    "f = open(\"file/b_list.b\", \"wb\")\n",
    "f.write(data)\n",
    "f.close()\n",
    "\n",
    "data"
   ]
  },
  {
   "cell_type": "markdown",
   "metadata": {
    "slideshow": {
     "slide_type": "slide"
    }
   },
   "source": [
    "#### 1.2.2. Binary read"
   ]
  },
  {
   "cell_type": "code",
   "execution_count": 62,
   "metadata": {
    "slideshow": {
     "slide_type": "subslide"
    }
   },
   "outputs": [],
   "source": [
    "f = open(\"file/b_list.b\", \"rb\")\n",
    "res = f.read()\n",
    "f.close()"
   ]
  },
  {
   "cell_type": "code",
   "execution_count": 63,
   "metadata": {
    "slideshow": {
     "slide_type": "subslide"
    }
   },
   "outputs": [
    {
     "name": "stdout",
     "output_type": "stream",
     "text": [
      "b'\\x01\\x02\\x03\\x04\\x05'\n"
     ]
    }
   ],
   "source": [
    "print(res)"
   ]
  },
  {
   "cell_type": "code",
   "execution_count": 64,
   "metadata": {
    "slideshow": {
     "slide_type": "subslide"
    }
   },
   "outputs": [
    {
     "data": {
      "text/plain": [
       "[1, 2, 3, 4, 5]"
      ]
     },
     "execution_count": 64,
     "metadata": {},
     "output_type": "execute_result"
    }
   ],
   "source": [
    "list(res)"
   ]
  },
  {
   "cell_type": "markdown",
   "metadata": {
    "slideshow": {
     "slide_type": "slide"
    }
   },
   "source": [
    "### 1.3. 파일 입출력을 더 잘 해보기"
   ]
  },
  {
   "cell_type": "markdown",
   "metadata": {
    "slideshow": {
     "slide_type": "slide"
    }
   },
   "source": [
    "#### 1.3.1. `try~except~finally`를 활용하여 open과 close의 쌍 만들어주기"
   ]
  },
  {
   "cell_type": "code",
   "execution_count": 65,
   "metadata": {
    "slideshow": {
     "slide_type": "subslide"
    }
   },
   "outputs": [],
   "source": [
    "try:\n",
    "    f = open(\"file/first.txt\", \"w\")\n",
    "    f.write(\"hello python\")\n",
    "except Exception as e:\n",
    "    print(e)\n",
    "finally:\n",
    "    f.close()"
   ]
  },
  {
   "cell_type": "markdown",
   "metadata": {
    "slideshow": {
     "slide_type": "slide"
    }
   },
   "source": [
    "#### 1.3.2. with\n",
    "- with문은 close를 안써도 자동으로 close를 함\n",
    "- with 코드 블록 안에서만 사용한다는 개념"
   ]
  },
  {
   "cell_type": "code",
   "execution_count": 4,
   "metadata": {
    "slideshow": {
     "slide_type": "subslide"
    }
   },
   "outputs": [
    {
     "name": "stdout",
     "output_type": "stream",
     "text": [
      "This is my first example of fileio!\n",
      "How awsome python is!\n",
      "Good job python.\n"
     ]
    }
   ],
   "source": [
    "with open(\"file/first.txt\", \"r\") as f:\n",
    "    print(f.read())"
   ]
  },
  {
   "cell_type": "markdown",
   "metadata": {
    "slideshow": {
     "slide_type": "slide"
    }
   },
   "source": [
    "## 2. Pickle\n",
    "- 객체를 파일로 저장하는것: 직렬화(serialization)\n",
    "- pickle 모듈을 사용하여 바이너리 형태로 객체를 직렬화하고 파일로 저장 및 불러오기 가능"
   ]
  },
  {
   "cell_type": "code",
   "execution_count": 1,
   "metadata": {
    "slideshow": {
     "slide_type": "subslide"
    }
   },
   "outputs": [],
   "source": [
    "import pickle"
   ]
  },
  {
   "cell_type": "markdown",
   "metadata": {
    "slideshow": {
     "slide_type": "slide"
    }
   },
   "source": [
    "### 2.1. 객체 저장"
   ]
  },
  {
   "cell_type": "code",
   "execution_count": 2,
   "metadata": {
    "slideshow": {
     "slide_type": "subslide"
    }
   },
   "outputs": [
    {
     "name": "stdout",
     "output_type": "stream",
     "text": [
      "test of pickle\n"
     ]
    }
   ],
   "source": [
    "class Var():\n",
    "    def __init__(self, var):\n",
    "        self.var = var\n",
    "    def disc(self):\n",
    "        print(self.var)\n",
    "        \n",
    "var = Var(\"test of pickle\")\n",
    "\n",
    "var.disc()"
   ]
  },
  {
   "cell_type": "code",
   "execution_count": 4,
   "metadata": {
    "slideshow": {
     "slide_type": "subslide"
    }
   },
   "outputs": [],
   "source": [
    "f = open(\"file/obj_var.pkl\", \"wb\")\n",
    "pickle.dump(var, f)\n",
    "f.close()"
   ]
  },
  {
   "cell_type": "code",
   "execution_count": 3,
   "metadata": {
    "slideshow": {
     "slide_type": "subslide"
    }
   },
   "outputs": [],
   "source": [
    "with open(\"file/obj_var.pkl\", \"wb\") as f:\n",
    "    pickle.dump(var, f)"
   ]
  },
  {
   "cell_type": "markdown",
   "metadata": {
    "slideshow": {
     "slide_type": "slide"
    }
   },
   "source": [
    "### 2.2 객체 로드"
   ]
  },
  {
   "cell_type": "code",
   "execution_count": 5,
   "metadata": {
    "slideshow": {
     "slide_type": "subslide"
    }
   },
   "outputs": [
    {
     "name": "stdout",
     "output_type": "stream",
     "text": [
      "test of pickle\n"
     ]
    }
   ],
   "source": [
    "with open(\"file/obj_var.pkl\", \"rb\") as f:\n",
    "    var2 = pickle.load(f)\n",
    "    \n",
    "var2.disc()"
   ]
  },
  {
   "cell_type": "markdown",
   "metadata": {
    "slideshow": {
     "slide_type": "slide"
    }
   },
   "source": [
    "폴더 정리"
   ]
  },
  {
   "cell_type": "code",
   "execution_count": 7,
   "metadata": {
    "slideshow": {
     "slide_type": "subslide"
    }
   },
   "outputs": [],
   "source": [
    "!rm -rf file"
   ]
  },
  {
   "cell_type": "markdown",
   "metadata": {
    "slideshow": {
     "slide_type": "slide"
    }
   },
   "source": [
    "# 총정리: python에서 파일 쓰는 방법"
   ]
  },
  {
   "cell_type": "markdown",
   "metadata": {
    "slideshow": {
     "slide_type": "fragment"
    }
   },
   "source": [
    "- masic command(%%writefile)"
   ]
  },
  {
   "cell_type": "markdown",
   "metadata": {
    "slideshow": {
     "slide_type": "fragment"
    }
   },
   "source": [
    "- file io(내장함수 및 파일 메서드)"
   ]
  },
  {
   "cell_type": "markdown",
   "metadata": {
    "slideshow": {
     "slide_type": "fragment"
    }
   },
   "source": [
    "- pickle"
   ]
  },
  {
   "cell_type": "markdown",
   "metadata": {
    "slideshow": {
     "slide_type": "fragment"
    }
   },
   "source": [
    "- 방법이 한가지 더! 과연 무엇?"
   ]
  },
  {
   "cell_type": "markdown",
   "metadata": {
    "slideshow": {
     "slide_type": "slide"
    }
   },
   "source": [
    "- print"
   ]
  },
  {
   "cell_type": "code",
   "execution_count": 6,
   "metadata": {
    "slideshow": {
     "slide_type": "subslide"
    }
   },
   "outputs": [],
   "source": [
    "with open(\"test.txt\", \"w\") as f:\n",
    "    print(\"Hi\", file=f)"
   ]
  }
 ],
 "metadata": {
  "celltoolbar": "Slideshow",
  "kernelspec": {
   "display_name": "Python 3",
   "language": "python",
   "name": "python3"
  },
  "language_info": {
   "codemirror_mode": {
    "name": "ipython",
    "version": 3
   },
   "file_extension": ".py",
   "mimetype": "text/x-python",
   "name": "python",
   "nbconvert_exporter": "python",
   "pygments_lexer": "ipython3",
   "version": "3.7.4"
  }
 },
 "nbformat": 4,
 "nbformat_minor": 2
}
