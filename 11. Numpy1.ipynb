{
 "cells": [
  {
   "cell_type": "markdown",
   "metadata": {
    "slideshow": {
     "slide_type": "slide"
    }
   },
   "source": [
    "# Numpy"
   ]
  },
  {
   "cell_type": "markdown",
   "metadata": {
    "slideshow": {
     "slide_type": "slide"
    }
   },
   "source": [
    "## 1. Numpy란\n",
    "- **Num**erical **Py**thon의 약자\n",
    "- 읽는 법: '넘파이', '넘피', '눔피'등 다양\n",
    "- n차원의 행렬계산(선형대수)의 편리성과 고속화를 위해 만들어진 패키지\n",
    "- 따라서, 컴퓨터 과학을 위한 기본적인 파이썬 패키지가 된다.\n",
    "    - 많은 scientific library 들이 NumPy 기반\n",
    "    - Pandas, Scipy, matplotlib, scikit-learn, statsmodels\n",
    "    - TensorFlow: NumPy ndarray 확장 + 자동미분 + GPU 지원"
   ]
  },
  {
   "cell_type": "markdown",
   "metadata": {
    "slideshow": {
     "slide_type": "subslide"
    }
   },
   "source": [
    "### 공식 홈페이지\n",
    "- https://numpv.org (홈페이지)\n",
    "- https://docs.scipy.org/doc/numpv (공식 레퍼런스)"
   ]
  },
  {
   "cell_type": "markdown",
   "metadata": {
    "slideshow": {
     "slide_type": "slide"
    }
   },
   "source": [
    "## 2. 특징\n",
    "- C, C++, 포트란으로 만들어짐\n",
    "- 대규모 수치 데이터(선형대수)를 다루는데 효율적이고 높은 성능을 제공 한다.\n",
    "    - 스칼라 연산과 비슷하게 연산을 수행\n",
    "    - 스칼라 : 값이 하나만 있는 데이터\n",
    "    - 벡터 : 하나의 행이 있는 데이터\n",
    "    - 매트릭스 : 행과 열이 있는 데이터\n",
    "- Linear algebra, Fourier transform, Random 기능들\n",
    "- 강력한 브로드 캐스팅 기능\n",
    "    - 배열을 요소별로 조작하지 않고도 원소별 연산이 가능 - 브로드캐스팅(broadcasting)\n",
    "- NumPy에 대한 이해가 있으면 pandas를 이해하는데 더 도움이 많이 된다. (pandas가 NumPy기반으로 되어 있기 때문)\n",
    "- 파이썬으로 머신러닝을 하게 된다면 NumPy에 대한 지식이 매우 중요한 역할올 한다."
   ]
  },
  {
   "cell_type": "markdown",
   "metadata": {
    "slideshow": {
     "slide_type": "subslide"
    }
   },
   "source": [
    "### ndarray\n",
    "- ndarray(n-dimensional array object, 다차원 배열 객체》\n",
    "- Numpy의 핵심\n",
    "- numpy에서는 python의 리스트보다 속도가 빠른 ndarray의 데이터 타입 사용\n",
    "    - 모든 요소가 동일한 datatype (기본 float64) [vs list(여러타입)]\n",
    "    - 다차원 데이터도 연속 할당: 높은 성능의 비밀 [vs list(비연속)]"
   ]
  },
  {
   "cell_type": "markdown",
   "metadata": {
    "slideshow": {
     "slide_type": "slide"
    }
   },
   "source": [
    "## 3. numpy사용\n",
    "- NumPy와 Pandas를 사용하면，반복문을 거의 사용하지 않고도 데이터 처리 가능\n",
    "- 코드가 줄어들 뿐만 아니라, 성능도 최대 수 백배까지 빠름"
   ]
  },
  {
   "cell_type": "code",
   "execution_count": 4,
   "metadata": {
    "slideshow": {
     "slide_type": "subslide"
    }
   },
   "outputs": [
    {
     "name": "stdout",
     "output_type": "stream",
     "text": [
      "402 µs ± 3.27 µs per loop (mean ± std. dev. of 7 runs, 1000 loops each)\n",
      "1.94 µs ± 67.2 ns per loop (mean ± std. dev. of 7 runs, 1000000 loops each)\n"
     ]
    }
   ],
   "source": [
    "# 성능비교\n",
    "\n",
    "import numpy as np\n",
    "\n",
    "ls = range(1000)\n",
    "%timeit [i**2 for i in ls]\n",
    "\n",
    "a = np.arange(1000)\n",
    "%timeit a**2"
   ]
  },
  {
   "cell_type": "markdown",
   "metadata": {
    "slideshow": {
     "slide_type": "slide"
    }
   },
   "source": [
    "### 3.1. 임포트"
   ]
  },
  {
   "cell_type": "code",
   "execution_count": 2,
   "metadata": {
    "slideshow": {
     "slide_type": "subslide"
    }
   },
   "outputs": [],
   "source": [
    "import numpy as np"
   ]
  },
  {
   "cell_type": "markdown",
   "metadata": {
    "slideshow": {
     "slide_type": "slide"
    }
   },
   "source": [
    "### 3.2. ndarray 생성1\n",
    "- np.array(): 리스트, 튜플, 배열로 부터 리터럴하게 ndarray를 생성\n",
    "    - 리터럴 : 변수 선언시 직접 값을 입력하여 생성하는 방법\n",
    "- 항상 0부터시작한다는 점을 기억\n",
    "- 행, 열: n-th row, n-th column"
   ]
  },
  {
   "cell_type": "code",
   "execution_count": 22,
   "metadata": {
    "slideshow": {
     "slide_type": "subslide"
    }
   },
   "outputs": [
    {
     "name": "stdout",
     "output_type": "stream",
     "text": [
      "[0 1 2 3 4] 0 2\n",
      "<class 'numpy.ndarray'>\n",
      "1\n",
      "(5,)\n",
      "5\n"
     ]
    }
   ],
   "source": [
    "# 튜플로 부터 1차원 배열 생성\n",
    "ar = np.array((10, 20, 30))\n",
    "# 리스트로 부터\n",
    "ar = np.array([1, 2, 3])\n",
    "# range함수로부터(제네레이터로 부터)\n",
    "ar = np.array(range(5))\n",
    "\n",
    "print(ar, ar[0], ar[2])\n",
    "print(type(ar))\n",
    "print(ar.ndim) # n-dimension: 배열의 차원\n",
    "print(ar.shape) # 배열의 형태: 5열짜리 배열\n",
    "print(ar.size) # 배열의 총 길이"
   ]
  },
  {
   "cell_type": "markdown",
   "metadata": {
    "slideshow": {
     "slide_type": "slide"
    }
   },
   "source": [
    "#### * tuple에 값이 하나만 있는 경우"
   ]
  },
  {
   "cell_type": "code",
   "execution_count": 10,
   "metadata": {
    "slideshow": {
     "slide_type": "subslide"
    }
   },
   "outputs": [
    {
     "data": {
      "text/plain": [
       "(int, tuple, 1, (1,))"
      ]
     },
     "execution_count": 10,
     "metadata": {},
     "output_type": "execute_result"
    }
   ],
   "source": [
    "a = (1)\n",
    "b = (1,)\n",
    "type(a), type(b), a, b"
   ]
  },
  {
   "cell_type": "code",
   "execution_count": 12,
   "metadata": {
    "slideshow": {
     "slide_type": "subslide"
    }
   },
   "outputs": [
    {
     "name": "stdout",
     "output_type": "stream",
     "text": [
      "[[10 20 30]\n",
      " [60 70 80]]\n",
      "2\n",
      "(2, 3)\n"
     ]
    }
   ],
   "source": [
    "# 리스트로 부터 2차원 배열 생성\n",
    "ar = np.array([[10, 20, 30], [60, 70, 80]])\n",
    "\n",
    "print(ar)\n",
    "print(ar.ndim)\n",
    "print(ar.shape) # 배열의 형태: 2행 3열짜리 배열"
   ]
  },
  {
   "cell_type": "code",
   "execution_count": 13,
   "metadata": {
    "slideshow": {
     "slide_type": "subslide"
    }
   },
   "outputs": [
    {
     "name": "stdout",
     "output_type": "stream",
     "text": [
      "[[[ 1.  2.  3.]\n",
      "  [ 4.  5.  6.]]\n",
      "\n",
      " [[ 7.  8.  9.]\n",
      "  [10. 11. nan]]]\n"
     ]
    }
   ],
   "source": [
    "# 리스트로 부터 3차원 배열 생성\n",
    "ar = np.array(\n",
    "    [[[1, 2, 3],\n",
    "      [4, 5, 6]],\n",
    "     [[7, 8, 9],\n",
    "     [10, 11, np.NaN]]],\n",
    ")\n",
    "\n",
    "print(ar)"
   ]
  },
  {
   "cell_type": "markdown",
   "metadata": {
    "slideshow": {
     "slide_type": "slide"
    }
   },
   "source": [
    "#### * np.NaN??\n",
    "- np.nan도 작동\n",
    "- nan = not a number의 약자\n",
    "- 말 그대로 '숫자가 아님'을 나타내는 '표시'\n",
    "- 데이터 특성상 float으로 처리되지만, '숫자는 아님'"
   ]
  },
  {
   "cell_type": "markdown",
   "metadata": {
    "slideshow": {
     "slide_type": "slide"
    }
   },
   "source": [
    "### 3.3. ndarray 생성2"
   ]
  },
  {
   "cell_type": "markdown",
   "metadata": {
    "slideshow": {
     "slide_type": "subslide"
    }
   },
   "source": [
    "#### 3.3.1. zeros\n",
    "- 행렬을 만들고 0으로 채우기\n",
    "- dtype으로 데이터 타입을 설정 가능\n",
    "    - 설정하지 않으면 기본적으로 float"
   ]
  },
  {
   "cell_type": "code",
   "execution_count": 3,
   "metadata": {
    "slideshow": {
     "slide_type": "subslide"
    }
   },
   "outputs": [
    {
     "data": {
      "text/plain": [
       "array([[0., 0., 0.],\n",
       "       [0., 0., 0.]])"
      ]
     },
     "execution_count": 3,
     "metadata": {},
     "output_type": "execute_result"
    }
   ],
   "source": [
    "zero = np.zeros((2, 3))\n",
    "zero"
   ]
  },
  {
   "cell_type": "markdown",
   "metadata": {
    "slideshow": {
     "slide_type": "subslide"
    }
   },
   "source": [
    "#### 3.3.2. ones\n",
    "- 행렬을 만들고 1로 채우기"
   ]
  },
  {
   "cell_type": "code",
   "execution_count": 4,
   "metadata": {
    "slideshow": {
     "slide_type": "subslide"
    }
   },
   "outputs": [
    {
     "data": {
      "text/plain": [
       "array([[1, 1, 1],\n",
       "       [1, 1, 1],\n",
       "       [1, 1, 1],\n",
       "       [1, 1, 1]])"
      ]
     },
     "execution_count": 4,
     "metadata": {},
     "output_type": "execute_result"
    }
   ],
   "source": [
    "one = np.ones((4, 3), dtype=int)\n",
    "one"
   ]
  },
  {
   "cell_type": "markdown",
   "metadata": {
    "slideshow": {
     "slide_type": "subslide"
    }
   },
   "source": [
    "#### 3.3.3. eye"
   ]
  },
  {
   "cell_type": "markdown",
   "metadata": {
    "slideshow": {
     "slide_type": "fragment"
    }
   },
   "source": [
    "- 행렬을 만들고 단위 행렬로 만들기"
   ]
  },
  {
   "cell_type": "code",
   "execution_count": 5,
   "metadata": {
    "slideshow": {
     "slide_type": "subslide"
    }
   },
   "outputs": [
    {
     "data": {
      "text/plain": [
       "array([[1., 0., 0.],\n",
       "       [0., 1., 0.],\n",
       "       [0., 0., 1.]])"
      ]
     },
     "execution_count": 5,
     "metadata": {},
     "output_type": "execute_result"
    }
   ],
   "source": [
    "eye = np.eye(3)\n",
    "eye"
   ]
  },
  {
   "cell_type": "code",
   "execution_count": 6,
   "metadata": {
    "slideshow": {
     "slide_type": "subslide"
    }
   },
   "outputs": [
    {
     "data": {
      "text/plain": [
       "array([[1., 0., 0.],\n",
       "       [0., 1., 0.],\n",
       "       [0., 0., 1.]])"
      ]
     },
     "execution_count": 6,
     "metadata": {},
     "output_type": "execute_result"
    }
   ],
   "source": [
    "identity = np.identity(3)\n",
    "identity"
   ]
  },
  {
   "cell_type": "markdown",
   "metadata": {
    "slideshow": {
     "slide_type": "subslide"
    }
   },
   "source": [
    "#### 3.3.4. asarray\n",
    "- array타입의 다른 객체를 numpy의 ndarray로 변환"
   ]
  },
  {
   "cell_type": "code",
   "execution_count": 7,
   "metadata": {
    "slideshow": {
     "slide_type": "subslide"
    }
   },
   "outputs": [
    {
     "data": {
      "text/plain": [
       "array([1, 2, 3, 4])"
      ]
     },
     "execution_count": 7,
     "metadata": {},
     "output_type": "execute_result"
    }
   ],
   "source": [
    "np.asarray([1, 2, 3, 4])"
   ]
  },
  {
   "cell_type": "markdown",
   "metadata": {
    "slideshow": {
     "slide_type": "subslide"
    }
   },
   "source": [
    "#### 3.3.5. random\n",
    "- random한 값을 가진 행렬을 생성\n",
    "- random class 안 methods\n",
    "    - seed : 랜덤변수의 설정값\n",
    "        - 랜덤 값 출력 전 seed 설정시 동일한 결과 발생\n",
    "    - rand : 균등분포(uniform)로 [0, 1) 난수 발생 rand(열, 행)\n",
    "    - random : 균등분포(uniform)로 [0, 1) 난수 발생 random((열, 행)), =random_sample\n",
    "    - randn : 0기준 정규분포(gaussian)로 난수 발생\n",
    "    - randint : 균등분포(uniform)로 정수인 난수 발생([시작, 끝])\n",
    "    - suffle : 행렬 데이터를 섞기\n",
    "        - 데이터 순서 변경\n",
    "        - 가장 높은 차원의 데이터 순서만 변경\n",
    "    - choice : 특정 범위의 숫자를 선택(확률 설정 가능)"
   ]
  },
  {
   "cell_type": "code",
   "execution_count": 18,
   "metadata": {
    "slideshow": {
     "slide_type": "subslide"
    }
   },
   "outputs": [
    {
     "data": {
      "text/plain": [
       "array([[0.25701336, 0.59384173, 0.86447349],\n",
       "       [0.70389622, 0.31260002, 0.43947284]])"
      ]
     },
     "execution_count": 18,
     "metadata": {},
     "output_type": "execute_result"
    }
   ],
   "source": [
    "np.random.random((2, 3))"
   ]
  },
  {
   "cell_type": "code",
   "execution_count": 19,
   "metadata": {
    "slideshow": {
     "slide_type": "subslide"
    }
   },
   "outputs": [
    {
     "data": {
      "text/plain": [
       "array([[6, 4, 1, 5],\n",
       "       [4, 6, 7, 4],\n",
       "       [6, 9, 7, 2]])"
      ]
     },
     "execution_count": 19,
     "metadata": {},
     "output_type": "execute_result"
    }
   ],
   "source": [
    "r = np.random.randint(1, 10, (3, 4))\n",
    "r"
   ]
  },
  {
   "cell_type": "code",
   "execution_count": 20,
   "metadata": {
    "slideshow": {
     "slide_type": "subslide"
    }
   },
   "outputs": [
    {
     "data": {
      "text/plain": [
       "array([[6, 9, 7, 2],\n",
       "       [4, 6, 7, 4],\n",
       "       [6, 4, 1, 5]])"
      ]
     },
     "execution_count": 20,
     "metadata": {},
     "output_type": "execute_result"
    }
   ],
   "source": [
    "np.random.shuffle(r)\n",
    "r"
   ]
  },
  {
   "cell_type": "code",
   "execution_count": 30,
   "metadata": {
    "slideshow": {
     "slide_type": "subslide"
    }
   },
   "outputs": [
    {
     "data": {
      "text/plain": [
       "array([3, 2, 2, 2, 0, 2, 2, 3, 2, 2], dtype=int64)"
      ]
     },
     "execution_count": 30,
     "metadata": {},
     "output_type": "execute_result"
    }
   ],
   "source": [
    "# 0부터 4까지의 숫자 10개를 선택\n",
    "# 선택 확률이 10%, 0%, 40%, 20%, 30%로 선택\n",
    "# 확률의 모든 합이 1이 되어야 함\n",
    "np.random.choice(5, 10, p=[0.1, 0, 0.4, 0.2, 0.3])"
   ]
  },
  {
   "cell_type": "markdown",
   "metadata": {
    "slideshow": {
     "slide_type": "slide"
    }
   },
   "source": [
    "### 3.4. 범위\n",
    "- arange()\n",
    "    - range함수와 사용방법 동일, ndarray\n",
    "- linspace()\n",
    "    - 설정범위 선형 분할, [시작, 종료]\n",
    "- logspace()\n",
    "    - 설정범위 로그 분할"
   ]
  },
  {
   "cell_type": "code",
   "execution_count": 9,
   "metadata": {
    "slideshow": {
     "slide_type": "subslide"
    }
   },
   "outputs": [
    {
     "data": {
      "text/plain": [
       "array([2, 4, 6, 8])"
      ]
     },
     "execution_count": 9,
     "metadata": {},
     "output_type": "execute_result"
    }
   ],
   "source": [
    "np.arange(2, 10, 2)"
   ]
  },
  {
   "cell_type": "code",
   "execution_count": 10,
   "metadata": {
    "slideshow": {
     "slide_type": "subslide"
    }
   },
   "outputs": [
    {
     "data": {
      "text/plain": [
       "array([ 2.        ,  2.08080808,  2.16161616,  2.24242424,  2.32323232,\n",
       "        2.4040404 ,  2.48484848,  2.56565657,  2.64646465,  2.72727273,\n",
       "        2.80808081,  2.88888889,  2.96969697,  3.05050505,  3.13131313,\n",
       "        3.21212121,  3.29292929,  3.37373737,  3.45454545,  3.53535354,\n",
       "        3.61616162,  3.6969697 ,  3.77777778,  3.85858586,  3.93939394,\n",
       "        4.02020202,  4.1010101 ,  4.18181818,  4.26262626,  4.34343434,\n",
       "        4.42424242,  4.50505051,  4.58585859,  4.66666667,  4.74747475,\n",
       "        4.82828283,  4.90909091,  4.98989899,  5.07070707,  5.15151515,\n",
       "        5.23232323,  5.31313131,  5.39393939,  5.47474747,  5.55555556,\n",
       "        5.63636364,  5.71717172,  5.7979798 ,  5.87878788,  5.95959596,\n",
       "        6.04040404,  6.12121212,  6.2020202 ,  6.28282828,  6.36363636,\n",
       "        6.44444444,  6.52525253,  6.60606061,  6.68686869,  6.76767677,\n",
       "        6.84848485,  6.92929293,  7.01010101,  7.09090909,  7.17171717,\n",
       "        7.25252525,  7.33333333,  7.41414141,  7.49494949,  7.57575758,\n",
       "        7.65656566,  7.73737374,  7.81818182,  7.8989899 ,  7.97979798,\n",
       "        8.06060606,  8.14141414,  8.22222222,  8.3030303 ,  8.38383838,\n",
       "        8.46464646,  8.54545455,  8.62626263,  8.70707071,  8.78787879,\n",
       "        8.86868687,  8.94949495,  9.03030303,  9.11111111,  9.19191919,\n",
       "        9.27272727,  9.35353535,  9.43434343,  9.51515152,  9.5959596 ,\n",
       "        9.67676768,  9.75757576,  9.83838384,  9.91919192, 10.        ])"
      ]
     },
     "execution_count": 10,
     "metadata": {},
     "output_type": "execute_result"
    }
   ],
   "source": [
    "np.linspace(2, 10, 100)"
   ]
  },
  {
   "cell_type": "code",
   "execution_count": 11,
   "metadata": {
    "slideshow": {
     "slide_type": "subslide"
    }
   },
   "outputs": [
    {
     "data": {
      "text/plain": [
       "array([1.00000000e+02, 1.20450354e+02, 1.45082878e+02, 1.74752840e+02,\n",
       "       2.10490414e+02, 2.53536449e+02, 3.05385551e+02, 3.67837977e+02,\n",
       "       4.43062146e+02, 5.33669923e+02, 6.42807312e+02, 7.74263683e+02,\n",
       "       9.32603347e+02, 1.12332403e+03, 1.35304777e+03, 1.62975083e+03,\n",
       "       1.96304065e+03, 2.36448941e+03, 2.84803587e+03, 3.43046929e+03,\n",
       "       4.13201240e+03, 4.97702356e+03, 5.99484250e+03, 7.22080902e+03,\n",
       "       8.69749003e+03, 1.04761575e+04, 1.26185688e+04, 1.51991108e+04,\n",
       "       1.83073828e+04, 2.20513074e+04, 2.65608778e+04, 3.19926714e+04,\n",
       "       3.85352859e+04, 4.64158883e+04, 5.59081018e+04, 6.73415066e+04,\n",
       "       8.11130831e+04, 9.77009957e+04, 1.17681195e+05, 1.41747416e+05,\n",
       "       1.70735265e+05, 2.05651231e+05, 2.47707636e+05, 2.98364724e+05,\n",
       "       3.59381366e+05, 4.32876128e+05, 5.21400829e+05, 6.28029144e+05,\n",
       "       7.56463328e+05, 9.11162756e+05, 1.09749877e+06, 1.32194115e+06,\n",
       "       1.59228279e+06, 1.91791026e+06, 2.31012970e+06, 2.78255940e+06,\n",
       "       3.35160265e+06, 4.03701726e+06, 4.86260158e+06, 5.85702082e+06,\n",
       "       7.05480231e+06, 8.49753436e+06, 1.02353102e+07, 1.23284674e+07,\n",
       "       1.48496826e+07, 1.78864953e+07, 2.15443469e+07, 2.59502421e+07,\n",
       "       3.12571585e+07, 3.76493581e+07, 4.53487851e+07, 5.46227722e+07,\n",
       "       6.57933225e+07, 7.92482898e+07, 9.54548457e+07, 1.14975700e+08,\n",
       "       1.38488637e+08, 1.66810054e+08, 2.00923300e+08, 2.42012826e+08,\n",
       "       2.91505306e+08, 3.51119173e+08, 4.22924287e+08, 5.09413801e+08,\n",
       "       6.13590727e+08, 7.39072203e+08, 8.90215085e+08, 1.07226722e+09,\n",
       "       1.29154967e+09, 1.55567614e+09, 1.87381742e+09, 2.25701972e+09,\n",
       "       2.71858824e+09, 3.27454916e+09, 3.94420606e+09, 4.75081016e+09,\n",
       "       5.72236766e+09, 6.89261210e+09, 8.30217568e+09, 1.00000000e+10])"
      ]
     },
     "execution_count": 11,
     "metadata": {},
     "output_type": "execute_result"
    }
   ],
   "source": [
    "np.logspace(2, 10, 100)"
   ]
  },
  {
   "cell_type": "markdown",
   "metadata": {
    "slideshow": {
     "slide_type": "slide"
    }
   },
   "source": [
    "### 3.5. 행렬 크기 변경\n",
    "- np.reshape()"
   ]
  },
  {
   "cell_type": "code",
   "execution_count": 26,
   "metadata": {
    "slideshow": {
     "slide_type": "subslide"
    }
   },
   "outputs": [
    {
     "data": {
      "text/plain": [
       "array([0, 1, 2, 3, 4, 5, 6, 7, 8, 9])"
      ]
     },
     "execution_count": 26,
     "metadata": {},
     "output_type": "execute_result"
    }
   ],
   "source": [
    "ar = np.arange(10)\n",
    "ar"
   ]
  },
  {
   "cell_type": "code",
   "execution_count": 28,
   "metadata": {
    "slideshow": {
     "slide_type": "subslide"
    }
   },
   "outputs": [
    {
     "data": {
      "text/plain": [
       "array([[0, 1, 2, 3, 4],\n",
       "       [5, 6, 7, 8, 9]])"
      ]
     },
     "execution_count": 28,
     "metadata": {},
     "output_type": "execute_result"
    }
   ],
   "source": [
    "ar = np.reshape(ar, (2, 5))\n",
    "ar"
   ]
  },
  {
   "cell_type": "code",
   "execution_count": 29,
   "metadata": {
    "slideshow": {
     "slide_type": "subslide"
    }
   },
   "outputs": [
    {
     "data": {
      "text/plain": [
       "array([[0, 1, 2, 3, 4],\n",
       "       [5, 6, 7, 8, 9]])"
      ]
     },
     "execution_count": 29,
     "metadata": {},
     "output_type": "execute_result"
    }
   ],
   "source": [
    "ar = ar.reshape((2,5))\n",
    "ar"
   ]
  },
  {
   "cell_type": "markdown",
   "metadata": {
    "slideshow": {
     "slide_type": "slide"
    }
   },
   "source": [
    "### * Quiz\n",
    "r = np.random.randint(1, 10, (3, 4))로 생성된 r을 모든 차원에 대하여 shuffle하라."
   ]
  },
  {
   "cell_type": "code",
   "execution_count": 39,
   "metadata": {
    "slideshow": {
     "slide_type": "subslide"
    }
   },
   "outputs": [
    {
     "data": {
      "text/plain": [
       "array([[1, 1, 9, 8],\n",
       "       [3, 6, 6, 4],\n",
       "       [2, 4, 8, 6]])"
      ]
     },
     "execution_count": 39,
     "metadata": {},
     "output_type": "execute_result"
    }
   ],
   "source": [
    "ar = np.random.randint(1, 10, (3, 4))\n",
    "ar"
   ]
  },
  {
   "cell_type": "code",
   "execution_count": 40,
   "metadata": {
    "slideshow": {
     "slide_type": "subslide"
    }
   },
   "outputs": [
    {
     "name": "stdout",
     "output_type": "stream",
     "text": [
      "[1 1 9 8 3 6 6 4 2 4 8 6]\n",
      "[8 3 6 8 6 1 4 6 4 1 2 9]\n"
     ]
    },
    {
     "data": {
      "text/plain": [
       "array([[8, 3, 6, 8],\n",
       "       [6, 1, 4, 6],\n",
       "       [4, 1, 2, 9]])"
      ]
     },
     "execution_count": 40,
     "metadata": {},
     "output_type": "execute_result"
    }
   ],
   "source": [
    "r = ar.copy() # deep copy\n",
    "\n",
    "# 1차원으로 변경\n",
    "matrix_1d = np.reshape(r, r.size)\n",
    "print(matrix_1d)\n",
    "\n",
    "# 1차원의 행렬을 섞어줌\n",
    "np.random.shuffle(matrix_1d)\n",
    "print(matrix_1d)\n",
    "\n",
    "# 원래 있던 차원으로 변경\n",
    "all_shuffle = matrix_1d.reshape(r.shape)\n",
    "all_shuffle"
   ]
  },
  {
   "cell_type": "markdown",
   "metadata": {
    "slideshow": {
     "slide_type": "slide"
    }
   },
   "source": [
    "#### * 1차원으로 변경하는 방법들\n",
    "- flatten()\n",
    "- ravel()"
   ]
  },
  {
   "cell_type": "code",
   "execution_count": 42,
   "metadata": {
    "slideshow": {
     "slide_type": "subslide"
    }
   },
   "outputs": [
    {
     "data": {
      "text/plain": [
       "array([1, 1, 9, 8, 3, 6, 6, 4, 2, 4, 8, 6])"
      ]
     },
     "execution_count": 42,
     "metadata": {},
     "output_type": "execute_result"
    }
   ],
   "source": [
    "ar.flatten()"
   ]
  },
  {
   "cell_type": "code",
   "execution_count": 43,
   "metadata": {
    "scrolled": true,
    "slideshow": {
     "slide_type": "subslide"
    }
   },
   "outputs": [
    {
     "data": {
      "text/plain": [
       "array([1, 1, 9, 8, 3, 6, 6, 4, 2, 4, 8, 6])"
      ]
     },
     "execution_count": 43,
     "metadata": {},
     "output_type": "execute_result"
    }
   ],
   "source": [
    "ar.ravel()"
   ]
  },
  {
   "cell_type": "markdown",
   "metadata": {
    "slideshow": {
     "slide_type": "slide"
    }
   },
   "source": [
    "### 3.6. 행렬 타입 변경\n",
    "- astype()"
   ]
  },
  {
   "cell_type": "code",
   "execution_count": 44,
   "metadata": {
    "slideshow": {
     "slide_type": "subslide"
    }
   },
   "outputs": [
    {
     "data": {
      "text/plain": [
       "array([10, 20, 30, 40])"
      ]
     },
     "execution_count": 44,
     "metadata": {},
     "output_type": "execute_result"
    }
   ],
   "source": [
    "ar = np.array([10, 20, 30, 40])\n",
    "ar"
   ]
  },
  {
   "cell_type": "code",
   "execution_count": 46,
   "metadata": {
    "slideshow": {
     "slide_type": "subslide"
    }
   },
   "outputs": [
    {
     "data": {
      "text/plain": [
       "dtype('int32')"
      ]
     },
     "execution_count": 46,
     "metadata": {},
     "output_type": "execute_result"
    }
   ],
   "source": [
    "ar.dtype"
   ]
  },
  {
   "cell_type": "code",
   "execution_count": 48,
   "metadata": {
    "slideshow": {
     "slide_type": "subslide"
    }
   },
   "outputs": [
    {
     "data": {
      "text/plain": [
       "(array([10., 20., 30., 40.]), dtype('float64'))"
      ]
     },
     "execution_count": 48,
     "metadata": {},
     "output_type": "execute_result"
    }
   ],
   "source": [
    "ar = ar.astype('float')\n",
    "ar, ar.dtype"
   ]
  },
  {
   "cell_type": "code",
   "execution_count": 49,
   "metadata": {
    "slideshow": {
     "slide_type": "subslide"
    }
   },
   "outputs": [
    {
     "data": {
      "text/plain": [
       "(array(['10.0', '20.0', '30.0', '40.0'], dtype='<U32'), dtype('<U32'))"
      ]
     },
     "execution_count": 49,
     "metadata": {},
     "output_type": "execute_result"
    }
   ],
   "source": [
    "ar = ar.astype('str')\n",
    "ar, ar.dtype"
   ]
  },
  {
   "cell_type": "markdown",
   "metadata": {
    "slideshow": {
     "slide_type": "slide"
    }
   },
   "source": [
    "### 3.7. 유일값 - unique\n",
    "- 행열 데이터에서 유일값과 유일값의 갯수 확인 가능\n",
    "    - 중복데이터를 제거한 벡터로 변환 된 후에 각 데이터가 몇 개인지를 출력"
   ]
  },
  {
   "cell_type": "code",
   "execution_count": 51,
   "metadata": {
    "slideshow": {
     "slide_type": "subslide"
    }
   },
   "outputs": [
    {
     "data": {
      "text/plain": [
       "array([[8, 3, 6, 8],\n",
       "       [6, 1, 4, 6],\n",
       "       [4, 1, 2, 9]])"
      ]
     },
     "execution_count": 51,
     "metadata": {},
     "output_type": "execute_result"
    }
   ],
   "source": [
    "r"
   ]
  },
  {
   "cell_type": "code",
   "execution_count": 50,
   "metadata": {
    "slideshow": {
     "slide_type": "subslide"
    }
   },
   "outputs": [
    {
     "name": "stdout",
     "output_type": "stream",
     "text": [
      "[1 2 3 4 6 8 9]\n",
      "[2 1 1 2 3 2 1]\n"
     ]
    }
   ],
   "source": [
    "number, counts = np.unique(r, return_counts=True)\n",
    "print(number)\n",
    "print(counts)"
   ]
  },
  {
   "cell_type": "markdown",
   "metadata": {
    "slideshow": {
     "slide_type": "slide"
    }
   },
   "source": [
    "### 3.8. 행렬 데이터 합치기 - concatenate\n",
    "- 가로 결합: 행의 갯수 일치\n",
    "- 세로 결합: 열의 갯수 일치"
   ]
  },
  {
   "cell_type": "code",
   "execution_count": 52,
   "metadata": {
    "slideshow": {
     "slide_type": "subslide"
    }
   },
   "outputs": [
    {
     "name": "stdout",
     "output_type": "stream",
     "text": [
      "(2, 3)\n"
     ]
    },
    {
     "data": {
      "text/plain": [
       "array([[1, 4, 4],\n",
       "       [2, 1, 2]])"
      ]
     },
     "execution_count": 52,
     "metadata": {},
     "output_type": "execute_result"
    }
   ],
   "source": [
    "na1 = np.random.randint(10, size=(2, 3))\n",
    "print(na1.shape)\n",
    "na1"
   ]
  },
  {
   "cell_type": "code",
   "execution_count": 53,
   "metadata": {
    "slideshow": {
     "slide_type": "subslide"
    }
   },
   "outputs": [
    {
     "name": "stdout",
     "output_type": "stream",
     "text": [
      "(3, 2)\n"
     ]
    },
    {
     "data": {
      "text/plain": [
       "array([[4, 3],\n",
       "       [9, 5],\n",
       "       [2, 2]])"
      ]
     },
     "execution_count": 53,
     "metadata": {},
     "output_type": "execute_result"
    }
   ],
   "source": [
    "na2 = np.random.randint(10, size=(3, 2))\n",
    "print(na2.shape)\n",
    "na2"
   ]
  },
  {
   "cell_type": "code",
   "execution_count": 54,
   "metadata": {
    "slideshow": {
     "slide_type": "subslide"
    }
   },
   "outputs": [
    {
     "name": "stdout",
     "output_type": "stream",
     "text": [
      "(3, 3)\n"
     ]
    },
    {
     "data": {
      "text/plain": [
       "array([[5, 2, 9],\n",
       "       [4, 6, 3],\n",
       "       [8, 7, 9]])"
      ]
     },
     "execution_count": 54,
     "metadata": {},
     "output_type": "execute_result"
    }
   ],
   "source": [
    "na3 = np.random.randint(10, size=(3, 3))\n",
    "print(na3.shape)\n",
    "na3"
   ]
  },
  {
   "cell_type": "markdown",
   "metadata": {
    "slideshow": {
     "slide_type": "subslide"
    }
   },
   "source": [
    "#### 3.8.1. 세로 결합 \n",
    "- 컬럼 갯수가 맞아야 함\n",
    "- axis(축) 파라미터를 0으로 설정(default:0)"
   ]
  },
  {
   "cell_type": "code",
   "execution_count": 55,
   "metadata": {
    "slideshow": {
     "slide_type": "subslide"
    }
   },
   "outputs": [
    {
     "data": {
      "text/plain": [
       "array([[1, 4, 4],\n",
       "       [2, 1, 2],\n",
       "       [5, 2, 9],\n",
       "       [4, 6, 3],\n",
       "       [8, 7, 9]])"
      ]
     },
     "execution_count": 55,
     "metadata": {},
     "output_type": "execute_result"
    }
   ],
   "source": [
    "np.concatenate((na1, na3))"
   ]
  },
  {
   "cell_type": "markdown",
   "metadata": {
    "slideshow": {
     "slide_type": "subslide"
    }
   },
   "source": [
    "#### 3.8.2. 가로 결합 \n",
    "- 로우 갯수가 맞아야 합니다.\n",
    "- axis(축) 파라미터를 1로 설정(default:0)"
   ]
  },
  {
   "cell_type": "code",
   "execution_count": 56,
   "metadata": {
    "slideshow": {
     "slide_type": "subslide"
    }
   },
   "outputs": [
    {
     "data": {
      "text/plain": [
       "array([[4, 3, 5, 2, 9],\n",
       "       [9, 5, 4, 6, 3],\n",
       "       [2, 2, 8, 7, 9]])"
      ]
     },
     "execution_count": 56,
     "metadata": {},
     "output_type": "execute_result"
    }
   ],
   "source": [
    "np.concatenate((na2, na3), axis=1)"
   ]
  },
  {
   "cell_type": "markdown",
   "metadata": {
    "slideshow": {
     "slide_type": "slide"
    }
   },
   "source": [
    "### * axis parameter\n",
    "- 0이면 열 기준\n",
    "- 1이면 행 기준"
   ]
  },
  {
   "cell_type": "code",
   "execution_count": 60,
   "metadata": {
    "slideshow": {
     "slide_type": "slide"
    }
   },
   "outputs": [
    {
     "data": {
      "text/plain": [
       "array([[1, 4, 4, 3],\n",
       "       [2, 5, 9, 5],\n",
       "       [3, 6, 2, 2]])"
      ]
     },
     "execution_count": 60,
     "metadata": {},
     "output_type": "execute_result"
    }
   ],
   "source": [
    "# 컬럼으로 결합\n",
    "np.c_[np.array([1, 2, 3]), np.array([4, 5, 6]), na2]"
   ]
  },
  {
   "cell_type": "code",
   "execution_count": 58,
   "metadata": {
    "slideshow": {
     "slide_type": "slide"
    }
   },
   "outputs": [
    {
     "data": {
      "text/plain": [
       "array([1, 2, 3, 4, 5, 6])"
      ]
     },
     "execution_count": 58,
     "metadata": {},
     "output_type": "execute_result"
    }
   ],
   "source": [
    "# 로우로 결합\n",
    "np.r_[np.array([1, 2, 3]), np.array([4, 5, 6])]"
   ]
  },
  {
   "cell_type": "markdown",
   "metadata": {
    "slideshow": {
     "slide_type": "slide"
    }
   },
   "source": [
    "### 3.9. 자르기 - split"
   ]
  },
  {
   "cell_type": "code",
   "execution_count": 61,
   "metadata": {
    "slideshow": {
     "slide_type": "subslide"
    }
   },
   "outputs": [
    {
     "data": {
      "text/plain": [
       "array([0, 1, 2, 3, 4, 5, 6, 7, 8, 9])"
      ]
     },
     "execution_count": 61,
     "metadata": {},
     "output_type": "execute_result"
    }
   ],
   "source": [
    "r = np.arange(0, 10)\n",
    "r"
   ]
  },
  {
   "cell_type": "code",
   "execution_count": 62,
   "metadata": {
    "slideshow": {
     "slide_type": "subslide"
    }
   },
   "outputs": [
    {
     "data": {
      "text/plain": [
       "[array([0, 1, 2, 3, 4]), array([5, 6, 7, 8, 9])]"
      ]
     },
     "execution_count": 62,
     "metadata": {},
     "output_type": "execute_result"
    }
   ],
   "source": [
    "np.split(r, [5])"
   ]
  },
  {
   "cell_type": "code",
   "execution_count": 63,
   "metadata": {
    "slideshow": {
     "slide_type": "subslide"
    }
   },
   "outputs": [
    {
     "data": {
      "text/plain": [
       "[array([0, 1]), array([2, 3]), array([4, 5]), array([6, 7]), array([8, 9])]"
      ]
     },
     "execution_count": 63,
     "metadata": {},
     "output_type": "execute_result"
    }
   ],
   "source": [
    "np.split(r, [2, 4, 6, 8])"
   ]
  },
  {
   "cell_type": "markdown",
   "metadata": {
    "slideshow": {
     "slide_type": "slide"
    }
   },
   "source": [
    "### 3.10. 정렬 - sort"
   ]
  },
  {
   "cell_type": "code",
   "execution_count": 64,
   "metadata": {
    "slideshow": {
     "slide_type": "subslide"
    }
   },
   "outputs": [
    {
     "data": {
      "text/plain": [
       "array([[1, 8, 1],\n",
       "       [8, 3, 4],\n",
       "       [2, 9, 6]])"
      ]
     },
     "execution_count": 64,
     "metadata": {},
     "output_type": "execute_result"
    }
   ],
   "source": [
    "r1 = np.random.randint(10, size=(3, 3))\n",
    "r1"
   ]
  },
  {
   "cell_type": "code",
   "execution_count": 65,
   "metadata": {
    "slideshow": {
     "slide_type": "subslide"
    }
   },
   "outputs": [
    {
     "data": {
      "text/plain": [
       "array([[1, 1, 8],\n",
       "       [3, 4, 8],\n",
       "       [2, 6, 9]])"
      ]
     },
     "execution_count": 65,
     "metadata": {},
     "output_type": "execute_result"
    }
   ],
   "source": [
    "# 가로(row) 소팅\n",
    "r1.sort()\n",
    "r1"
   ]
  },
  {
   "cell_type": "code",
   "execution_count": 66,
   "metadata": {
    "slideshow": {
     "slide_type": "subslide"
    }
   },
   "outputs": [
    {
     "data": {
      "text/plain": [
       "array([[1, 1, 8],\n",
       "       [2, 4, 8],\n",
       "       [3, 6, 9]])"
      ]
     },
     "execution_count": 66,
     "metadata": {},
     "output_type": "execute_result"
    }
   ],
   "source": [
    "# 세로(column) 소팅\n",
    "r1.sort(axis=0)\n",
    "r1"
   ]
  },
  {
   "cell_type": "markdown",
   "metadata": {
    "slideshow": {
     "slide_type": "slide"
    }
   },
   "source": [
    "# 앞으로 배울 것\n",
    "- 요소지정과 슬라이싱, c vs f, 연산+브로드캐스팅, 뷰, 불리언 인덱싱, 팬시 인덱싱, 통계량->기초통계"
   ]
  }
 ],
 "metadata": {
  "celltoolbar": "Slideshow",
  "kernelspec": {
   "display_name": "Python 3",
   "language": "python",
   "name": "python3"
  },
  "language_info": {
   "codemirror_mode": {
    "name": "ipython",
    "version": 3
   },
   "file_extension": ".py",
   "mimetype": "text/x-python",
   "name": "python",
   "nbconvert_exporter": "python",
   "pygments_lexer": "ipython3",
   "version": "3.6.4"
  }
 },
 "nbformat": 4,
 "nbformat_minor": 2
}
