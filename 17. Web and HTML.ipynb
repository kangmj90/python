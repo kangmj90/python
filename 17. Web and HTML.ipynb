{
 "cells": [
  {
   "cell_type": "markdown",
   "metadata": {
    "slideshow": {
     "slide_type": "slide"
    }
   },
   "source": [
    "# Web and HTML"
   ]
  },
  {
   "cell_type": "markdown",
   "metadata": {
    "slideshow": {
     "slide_type": "slide"
    }
   },
   "source": [
    "## Web Basic"
   ]
  },
  {
   "cell_type": "markdown",
   "metadata": {
    "slideshow": {
     "slide_type": "slide"
    }
   },
   "source": [
    "### 1. Server and Client\n",
    "1. Server: Client의 요청에 따라 데이터를 전송(서빙)\n",
    "    - Server side language\n",
    "        - PHP, asp, jsp\n",
    "        - react, angular, node js etc\n",
    "2. Client: (보통 브라우저를 통해) 서버에 데이터를 요청\n",
    "    - Client side language\n",
    "        - HTML\n",
    "        - CSS(Cascading Style Sheet)\n",
    "        - Javascript"
   ]
  },
  {
   "cell_type": "markdown",
   "metadata": {
    "slideshow": {
     "slide_type": "slide"
    }
   },
   "source": [
    "### 2. URL\n",
    "- Uniform Resource Locator(동일 형식 자료 위치 표시자)\n",
    "- `http://news.naver.com:80/main/read.nhn?mode=LSD&mid=shm&sid1=105&oid=001&aid=0009847211#da_727145`\n",
    "    - https://: Protocol\n",
    "    - news: Sub Domain\n",
    "    - naver: Domain Name(Second or Third Level Domain)\n",
    "    - com: Top Level Domain\n",
    "        - .com, .net, .org, .edu, .gov, .mil: Generic Top Level Domain\n",
    "        - .kr, .jp, .uk, .us, etc: Country Code Top Level Domain\n",
    "            - if use .co, .ac, .or, .go, etc: Second Level Domain and \"Domain name\" will be a third level domain\n",
    "    - 80: port\n",
    "    - /main/: path\n",
    "    - read.nhn: page\n",
    "    - ?mode=LSD&mid=shm&sid1=105&oid=001&aid=0009847211: query(get)\n",
    "    - #da_727145: fragment"
   ]
  },
  {
   "cell_type": "markdown",
   "metadata": {
    "slideshow": {
     "slide_type": "slide"
    }
   },
   "source": [
    "### 3. Get and Post\n",
    "- Get: url에 데이터 포함(데이터 노출), 길이 제한\n",
    "- Post: 따로 데이터 전송(데이터 숨김)"
   ]
  },
  {
   "cell_type": "markdown",
   "metadata": {
    "slideshow": {
     "slide_type": "slide"
    }
   },
   "source": [
    "### 4. Internet\n",
    "- 인터넷은 TCP/IP (Transmission Control Protocol/Internet Protocol)라는 통신 프로토콜을 이용해 정보를 주고받는 컴퓨터 네트워크\n",
    "- 우리는 인터넷을 해저케이블을 통하여 전세계 서버에 접속하며 인터넷을 사용하고 있다.\n",
    "- 무선인터넷은 선이 아니라 주파수를 매체로 사용한다.\n",
    "- 그러나 우리가 사용하는 단말기만 무선이다.\n",
    "- 컴퓨터->스위치(공유기)->라우터(게이트웨이)->백본->해저케이블->백본->라우터->스위치->서버 and vice versa\n",
    "- 단말기-[무선]->기지국-[유선]>ditto"
   ]
  },
  {
   "cell_type": "markdown",
   "metadata": {
    "slideshow": {
     "slide_type": "slide"
    }
   },
   "source": [
    "### 5. HTTP Status Code\n",
    "- 서버와 클라이언트가 데이터를 주고 받으면 그 결과로 상태코드를 가지고 있다.\n",
    "- 2xx - success\n",
    "- 3xx - redirection (browser cache)\n",
    "- 4xx - request error\n",
    "- 5xx - server error\n",
    "- https://ko.wikipedia.org/wiki/HTTP_%EC%83%81%ED%83%9C_%EC%BD%94%EB%93%9C"
   ]
  },
  {
   "cell_type": "markdown",
   "metadata": {
    "slideshow": {
     "slide_type": "slide"
    }
   },
   "source": [
    "## HTML"
   ]
  },
  {
   "cell_type": "markdown",
   "metadata": {
    "slideshow": {
     "slide_type": "slide"
    }
   },
   "source": [
    "## 전에, codepen.io & mdn"
   ]
  },
  {
   "cell_type": "markdown",
   "metadata": {
    "slideshow": {
     "slide_type": "slide"
    }
   },
   "source": [
    "### 1. 정의\n",
    "- Hyper Text Markup Language\n",
    "- 엄밀한 의미에서 HTML은 '언어'가 아니다!\n",
    "    - 그저 구조화 해줄 뿐"
   ]
  },
  {
   "cell_type": "markdown",
   "metadata": {
    "slideshow": {
     "slide_type": "slide"
    }
   },
   "source": [
    "### 2. HTML의 구성\n",
    "- Elements(요소)의 조합\n",
    "- Element: <>(Angle bracket)으로 열리고 닫히는 하나의 단위\n",
    "    - Tag와 Attribute(속성) 그리고 Value(값)로 구성\n",
    "    - parent element vs child element\n",
    "    - 범위가 존재하는 태그 vs 빈 태그\n",
    "- Attribute 중 id와 class는 주로 element를 구분 하는 용도로 사용\n",
    "    - id: 웹 페이지에서 유일한 값\n",
    "    - class: 유일하지 않아도 됨"
   ]
  },
  {
   "cell_type": "markdown",
   "metadata": {
    "slideshow": {
     "slide_type": "slide"
    }
   },
   "source": [
    "### 3. HTML의 구조\n",
    "- DOCTYPE\n",
    "    - 문서의 종류 선언 태그\n",
    "    - `<!DOCTYPE html>`: html5 문서\n",
    "- html\n",
    "    - head: html문서의 정보\n",
    "        - meta\n",
    "            - 웹페이지에 대한 정보(검색엔진이나 브라우저에 제공)\n",
    "            - 빈태그\n",
    "            - attrs: charset=\"UTF-8\", name=\"\", content=\"\"\n",
    "        - title\n",
    "            - 문서의 제목 정의\n",
    "        - link\n",
    "            - CSS 불러오기\n",
    "            - attrs: rel=\"stylesheet\", href=\"\"\n",
    "        - style\n",
    "            - CSS 직접 입력\n",
    "            - attrs: type=\"MIME타입(text/css)\"\n",
    "        - script\n",
    "            - JS 불러오기 or 직접입력\n",
    "            - attrs: src=\"\"\n",
    "        - base\n",
    "            - 문서 내 기본경로 고정\n",
    "            - attrs: href=\"\"\n",
    "    - body: 화면 구성(HTML 문서의 구조)\n",
    "        - div: division의 약자, 구획을 나눌 때 아무때나 쓸 수 있는 태그\n",
    "        - img: 빈태그\n",
    "            - attrs: src=\"\", alt=\"\"\n",
    "        - 그 외 다양한 태그 존재\n",
    "- 웹 표준 검사: w3c validator"
   ]
  },
  {
   "cell_type": "markdown",
   "metadata": {
    "slideshow": {
     "slide_type": "slide"
    }
   },
   "source": [
    "### 기본적인 구조 예제\n",
    "```\n",
    "<!-- HTML 웹문서의 기본적인 구조 -->\n",
    "<!DOCTYPE html>\n",
    "<html lang=\"en\">\n",
    "    <head>\n",
    "        <meta charset=\"utf-8\">\n",
    "        <title></title>\n",
    "    </head>\n",
    "    <body>\n",
    "\n",
    "    </body>\n",
    "</html>\n",
    "```"
   ]
  },
  {
   "cell_type": "markdown",
   "metadata": {
    "slideshow": {
     "slide_type": "slide"
    }
   },
   "source": [
    "#### Jupyter에서 HTML사용하기"
   ]
  },
  {
   "cell_type": "code",
   "execution_count": 1,
   "metadata": {
    "slideshow": {
     "slide_type": "fragment"
    }
   },
   "outputs": [
    {
     "data": {
      "text/html": [
       "<div class=\"div1\">\n",
       "    <button class=\"btn1\" type=\"button\" value=\"1\">HTML1</button>\n",
       "    <button class=\"btn2\" type=\"button\" value=\"2\">HTML2</button>\n",
       "</div>"
      ],
      "text/plain": [
       "<IPython.core.display.HTML object>"
      ]
     },
     "metadata": {},
     "output_type": "display_data"
    }
   ],
   "source": [
    "%%html\n",
    "<div class=\"div1\">\n",
    "    <button class=\"btn1\" type=\"button\" value=\"1\">HTML1</button>\n",
    "    <button class=\"btn2\" type=\"button\" value=\"2\">HTML2</button>\n",
    "</div>"
   ]
  },
  {
   "cell_type": "markdown",
   "metadata": {
    "slideshow": {
     "slide_type": "slide"
    }
   },
   "source": [
    "### * 블록요소와 인라인요소\n",
    "- 자체적으로 한줄 다 차지하는 요소들은 블록요소(div 등)\n",
    "- 내용만큼의 자리만 차지하는 요소들은 인라인요소(span 등)"
   ]
  },
  {
   "cell_type": "markdown",
   "metadata": {
    "slideshow": {
     "slide_type": "slide"
    }
   },
   "source": [
    "### 4. HTML 문자 태그\n",
    "- html에서 문자를 나타내는 태그들"
   ]
  },
  {
   "cell_type": "markdown",
   "metadata": {
    "slideshow": {
     "slide_type": "slide"
    }
   },
   "source": [
    "#### 4.1 head\n",
    "- title을 나타낼때 사용\n",
    "- Head는 총 6가지 종류의 태그가 존재(h1~h6)\n",
    "- 숫자가 커질수록 문자의 크기가 작아짐"
   ]
  },
  {
   "cell_type": "code",
   "execution_count": 2,
   "metadata": {
    "slideshow": {
     "slide_type": "subslide"
    }
   },
   "outputs": [
    {
     "data": {
      "text/html": [
       "<h1>Heading</h1>\n",
       "<h2>Heading</h2>\n",
       "<h3>Heading</h3>\n",
       "<h4>Heading</h4>\n",
       "<h5>Heading</h5>\n",
       "<h6>Heading</h6>\n"
      ],
      "text/plain": [
       "<IPython.core.display.HTML object>"
      ]
     },
     "metadata": {},
     "output_type": "display_data"
    }
   ],
   "source": [
    "%%html\n",
    "<h1>Heading</h1>\n",
    "<h2>Heading</h2>\n",
    "<h3>Heading</h3>\n",
    "<h4>Heading</h4>\n",
    "<h5>Heading</h5>\n",
    "<h6>Heading</h6>"
   ]
  },
  {
   "cell_type": "markdown",
   "metadata": {
    "slideshow": {
     "slide_type": "slide"
    }
   },
   "source": [
    "#### 4.2 p\n",
    "- 한줄의 문자열을 출력하기 위한 태그"
   ]
  },
  {
   "cell_type": "code",
   "execution_count": 1,
   "metadata": {},
   "outputs": [
    {
     "data": {
      "text/html": [
       "<p>HTML is markup language</p>\n",
       "<p>p 태그는 한줄로 문자열을 출력\n",
       "asdfasdf</p>\n"
      ],
      "text/plain": [
       "<IPython.core.display.HTML object>"
      ]
     },
     "metadata": {},
     "output_type": "display_data"
    }
   ],
   "source": [
    "%%html\n",
    "<p>HTML is markup language</p>\n",
    "<p>p 태그는 한줄로 문자열을 출력\n",
    "asdfasdf</p>"
   ]
  },
  {
   "cell_type": "markdown",
   "metadata": {
    "slideshow": {
     "slide_type": "slide"
    }
   },
   "source": [
    "#### 4.3 span\n",
    "- 한블럭의 문자열을 표현하기 위한 태그"
   ]
  },
  {
   "cell_type": "code",
   "execution_count": 5,
   "metadata": {},
   "outputs": [
    {
     "data": {
      "text/html": [
       "<span class=\"s1\">span-tag-0</span>\n",
       "<span class=\"s2\">span-tag-1</span>\n",
       "<span class=\"s3\">span-tag-2</span>\n"
      ],
      "text/plain": [
       "<IPython.core.display.HTML object>"
      ]
     },
     "metadata": {},
     "output_type": "display_data"
    }
   ],
   "source": [
    "%%html\n",
    "<span class=\"s1\">span-tag-0</span>\n",
    "<span class=\"s2\">span-tag-1</span>\n",
    "<span class=\"s3\">span-tag-2</span>"
   ]
  },
  {
   "cell_type": "markdown",
   "metadata": {
    "slideshow": {
     "slide_type": "slide"
    }
   },
   "source": [
    "#### 4.4 pre\n",
    "- 줄바꿈이나 띄어쓰기가 적용되는 태그\n",
    "- default: 고정폭(Monospace) 글꼴 계열 vs proportional font"
   ]
  },
  {
   "cell_type": "code",
   "execution_count": 5,
   "metadata": {},
   "outputs": [
    {
     "data": {
      "text/html": [
       "<p>\n",
       "    python\n",
       "    datascience\n",
       "</p>\n",
       "<pre>\n",
       "    python\n",
       "    datascience\n",
       "</pre>\n"
      ],
      "text/plain": [
       "<IPython.core.display.HTML object>"
      ]
     },
     "metadata": {},
     "output_type": "display_data"
    }
   ],
   "source": [
    "%%html\n",
    "<p>\n",
    "    python\n",
    "    datascience\n",
    "</p>\n",
    "<pre>\n",
    "    font style difference\n",
    "    python\n",
    "    datascience\n",
    "</pre>"
   ]
  },
  {
   "cell_type": "markdown",
   "metadata": {
    "slideshow": {
     "slide_type": "slide"
    }
   },
   "source": [
    "#### 4.5 code\n",
    "- 코드를 작성하는 태그\n",
    "- default: 고정폭(Monospace) 글꼴 계열 vs proportional font"
   ]
  },
  {
   "cell_type": "code",
   "execution_count": 4,
   "metadata": {},
   "outputs": [
    {
     "data": {
      "text/html": [
       "<code>\n",
       "var a = 10;\n",
       "var b = 20;\n",
       "print(\"{} + {} = {}\".format(a, b, a + b));\n",
       "</code>"
      ],
      "text/plain": [
       "<IPython.core.display.HTML object>"
      ]
     },
     "metadata": {},
     "output_type": "display_data"
    }
   ],
   "source": [
    "%%html\n",
    "<code>\n",
    "var a = 10;\n",
    "var b = 20;\n",
    "print(\"{} + {} = {}\".format(a, b, a + b));\n",
    "</code>"
   ]
  },
  {
   "cell_type": "markdown",
   "metadata": {
    "slideshow": {
     "slide_type": "slide"
    }
   },
   "source": [
    "### 5. 문자 이외의 HTML 태그"
   ]
  },
  {
   "cell_type": "markdown",
   "metadata": {
    "slideshow": {
     "slide_type": "slide"
    }
   },
   "source": [
    "#### 5.1 div\n",
    "- 레이아웃을 나타내는 태그"
   ]
  },
  {
   "cell_type": "code",
   "execution_count": 7,
   "metadata": {},
   "outputs": [
    {
     "data": {
      "text/html": [
       "<div>\n",
       "    <p>div1</p>\n",
       "    <p>div1</p>\n",
       "    <p>div1</p>\n",
       "</div>\n",
       "<div>div2</div>\n",
       "<div>div3</div>\n"
      ],
      "text/plain": [
       "<IPython.core.display.HTML object>"
      ]
     },
     "metadata": {},
     "output_type": "display_data"
    }
   ],
   "source": [
    "%%html\n",
    "<div>\n",
    "    <p>div1</p>\n",
    "    <p>div1</p>\n",
    "    <p>div1</p>\n",
    "</div>\n",
    "<div>div2</div>\n",
    "<div>div3</div>"
   ]
  },
  {
   "cell_type": "markdown",
   "metadata": {
    "slideshow": {
     "slide_type": "slide"
    }
   },
   "source": [
    "#### 5.2 table\n",
    "- 로우와 컬럼이 있는 테이블 모양을 나타낼때 사용하는 태그"
   ]
  },
  {
   "cell_type": "code",
   "execution_count": 8,
   "metadata": {},
   "outputs": [
    {
     "data": {
      "text/html": [
       "<table>\n",
       "    <caption>테이블</caption>\n",
       "    <thead>\n",
       "        <tr>\n",
       "            <th>html_1</th>\n",
       "            <th>html_2</th>\n",
       "        </tr>\n",
       "    </thead>\n",
       "    <tbody>\n",
       "        <tr>\n",
       "            <th>html_3</th>\n",
       "            <th>html_4</th>\n",
       "        </tr>\n",
       "    </tbody>\n",
       "</table>\n"
      ],
      "text/plain": [
       "<IPython.core.display.HTML object>"
      ]
     },
     "metadata": {},
     "output_type": "display_data"
    }
   ],
   "source": [
    "%%html\n",
    "<table>\n",
    "    <caption>테이블</caption>\n",
    "    <thead>\n",
    "        <tr>\n",
    "            <th>html_1</th>\n",
    "            <th>html_2</th>\n",
    "        </tr>\n",
    "    </thead>\n",
    "    <tbody>\n",
    "        <tr>\n",
    "            <th>html_3</th>\n",
    "            <th>html_4</th>\n",
    "        </tr>\n",
    "    </tbody>\n",
    "</table>"
   ]
  },
  {
   "cell_type": "markdown",
   "metadata": {
    "slideshow": {
     "slide_type": "slide"
    }
   },
   "source": [
    "#### 5.3 ul, ol, li\n",
    "- 리스트를 나타내는 태그"
   ]
  },
  {
   "cell_type": "code",
   "execution_count": 6,
   "metadata": {},
   "outputs": [
    {
     "data": {
      "text/html": [
       "<ul>\n",
       "    <li>ul_li_1</li>\n",
       "    <li>ul_li_2</li>\n",
       "    <li>ul_li_3</li>\n",
       "</ul>\n",
       "<ol>\n",
       "    <li>li1</li>\n",
       "    <li>li2</li>\n",
       "    <li>li3</li>\n",
       "</ol>\n"
      ],
      "text/plain": [
       "<IPython.core.display.HTML object>"
      ]
     },
     "metadata": {},
     "output_type": "display_data"
    }
   ],
   "source": [
    "%%html\n",
    "<ul>\n",
    "    <li>ul_li_1</li>\n",
    "    <li>ul_li_2</li>\n",
    "    <li>ul_li_3</li>\n",
    "</ul>\n",
    "<ol>\n",
    "    <li>li1</li>\n",
    "    <li>li2</li>\n",
    "    <li>li3</li>\n",
    "</ol>"
   ]
  },
  {
   "cell_type": "markdown",
   "metadata": {
    "slideshow": {
     "slide_type": "slide"
    }
   },
   "source": [
    "#### 5.4 a\n",
    "\n",
    "- 링크를 나타내는 태그\n",
    "- href 속성에 url을 값으로 사용\n",
    "  - url 및 상대경로 모두 사용 가능\n",
    "  - `target=\"_blank\"`는 링크를 열때 새탭(혹은 새창)에서 열게 하는 속성"
   ]
  },
  {
   "cell_type": "code",
   "execution_count": 10,
   "metadata": {},
   "outputs": [
    {
     "data": {
      "text/html": [
       "<a href=\"http://google.com\" target=\"_blank\">Google</a>\n",
       "<a href=\"01_html_1.md\">html basic</a>\n"
      ],
      "text/plain": [
       "<IPython.core.display.HTML object>"
      ]
     },
     "metadata": {},
     "output_type": "display_data"
    }
   ],
   "source": [
    "%%html\n",
    "<a href=\"http://google.com\" target=\"_blank\">Google</a>\n",
    "<a href=\"01_html_1.md\">html basic</a>"
   ]
  },
  {
   "cell_type": "markdown",
   "metadata": {
    "slideshow": {
     "slide_type": "slide"
    }
   },
   "source": [
    "#### 5.5 image\n",
    "- 이미지를 나타내는 태그"
   ]
  },
  {
   "cell_type": "code",
   "execution_count": 6,
   "metadata": {},
   "outputs": [
    {
     "data": {
      "text/html": [
       "<img style=\"width:200px;\" src=\"https://upload.wikimedia.org/wikipedia/commons/thumb/6/61/HTML5_logo_and_wordmark.svg/1200px-HTML5_logo_and_wordmark.svg.png\" alt=\"HTML5\">"
      ],
      "text/plain": [
       "<IPython.core.display.HTML object>"
      ]
     },
     "metadata": {},
     "output_type": "display_data"
    }
   ],
   "source": [
    "%%html\n",
    "<img style=\"width:200px;\" src=\"https://upload.wikimedia.org/wikipedia/commons/thumb/6/61/HTML5_logo_and_wordmark.svg/1200px-HTML5_logo_and_wordmark.svg.png\" alt=\"HTML5\">"
   ]
  },
  {
   "cell_type": "markdown",
   "metadata": {
    "slideshow": {
     "slide_type": "slide"
    }
   },
   "source": [
    "#### 5.4 iframe\n",
    "- 외부 url 링크 페이지를 현재 페이지에서 보여주기 위한 엘리먼트\n",
    "- 모든 웹 페이지를 보여줄수있는건 아니고 iframe으로만 출력이 되던가 안되거나 하는등의 설정"
   ]
  },
  {
   "cell_type": "code",
   "execution_count": 8,
   "metadata": {},
   "outputs": [
    {
     "data": {
      "text/html": [
       "<iframe src=\"https://naver.com\" width=\"100%\" height=\"400\"></iframe>\n"
      ],
      "text/plain": [
       "<IPython.core.display.HTML object>"
      ]
     },
     "metadata": {},
     "output_type": "display_data"
    }
   ],
   "source": [
    "%%html\n",
    "<iframe src=\"https://naver.com\" width=\"100%\" height=\"400\"></iframe>"
   ]
  },
  {
   "cell_type": "markdown",
   "metadata": {
    "slideshow": {
     "slide_type": "slide"
    }
   },
   "source": [
    "#### 5.5 input\n",
    "##### 5.5.1 text\n",
    "- 문자열을 입력받을때 사용하는 input 타입"
   ]
  },
  {
   "cell_type": "code",
   "execution_count": 13,
   "metadata": {},
   "outputs": [
    {
     "data": {
      "text/html": [
       "<input type=\"text\" name=\"\" value=\"\" placeholder=\"이메일\">\n"
      ],
      "text/plain": [
       "<IPython.core.display.HTML object>"
      ]
     },
     "metadata": {},
     "output_type": "display_data"
    }
   ],
   "source": [
    "%%html\n",
    "<input type=\"text\" name=\"\" value=\"\" placeholder=\"이메일\">"
   ]
  },
  {
   "cell_type": "markdown",
   "metadata": {},
   "source": [
    "##### 5.5.2 password\n",
    "- 비밀번호를 입력받을때 사용하는 input 타입"
   ]
  },
  {
   "cell_type": "code",
   "execution_count": 14,
   "metadata": {},
   "outputs": [
    {
     "data": {
      "text/html": [
       "<input type=\"password\" name=\"\" value=\"\" placeholder=\"패스워드\">\n"
      ],
      "text/plain": [
       "<IPython.core.display.HTML object>"
      ]
     },
     "metadata": {},
     "output_type": "display_data"
    }
   ],
   "source": [
    "%%html\n",
    "<input type=\"password\" name=\"\" value=\"\" placeholder=\"패스워드\">"
   ]
  },
  {
   "cell_type": "markdown",
   "metadata": {
    "slideshow": {
     "slide_type": "slide"
    }
   },
   "source": [
    "##### 5.5.3 radio\n",
    "- 여러개의 버튼중에서 한개의 버튼만 체크되는 버튼\n",
    "- radio 버튼은 name 속성값으로 그룹핑"
   ]
  },
  {
   "cell_type": "code",
   "execution_count": 15,
   "metadata": {},
   "outputs": [
    {
     "data": {
      "text/html": [
       "<input type=\"radio\" name=\"radio1\" value=\"1\">라디오1</input>\n",
       "<input type=\"radio\" name=\"radio1\" value=\"2\">라디오1</input><br>\n",
       "<input type=\"radio\" name=\"radio2\" value=\"3\">라디오2</input>\n",
       "<input type=\"radio\" name=\"radio2\" value=\"4\">라디오2</input>\n",
       "<input type=\"radio\" name=\"radio2\" value=\"5\">라디오2</input><br>\n"
      ],
      "text/plain": [
       "<IPython.core.display.HTML object>"
      ]
     },
     "metadata": {},
     "output_type": "display_data"
    }
   ],
   "source": [
    "%%html\n",
    "<input type=\"radio\" name=\"radio1\" value=\"1\">라디오1</input>\n",
    "<input type=\"radio\" name=\"radio1\" value=\"2\">라디오1</input><br>\n",
    "<input type=\"radio\" name=\"radio2\" value=\"3\">라디오2</input>\n",
    "<input type=\"radio\" name=\"radio2\" value=\"4\">라디오2</input>\n",
    "<input type=\"radio\" name=\"radio2\" value=\"5\">라디오2</input><br>"
   ]
  },
  {
   "cell_type": "markdown",
   "metadata": {
    "slideshow": {
     "slide_type": "slide"
    }
   },
   "source": [
    "##### 5.5.4 checkbox\n",
    "- 여러개의 버튼이 체크되는 버튼"
   ]
  },
  {
   "cell_type": "code",
   "execution_count": 16,
   "metadata": {},
   "outputs": [
    {
     "data": {
      "text/html": [
       "<input type=\"checkbox\" name=\"checkbox1\" value=\"1\">체크박스1</input>\n",
       "<input type=\"checkbox\" name=\"checkbox1\" value=\"2\">체크박스2</input>\n"
      ],
      "text/plain": [
       "<IPython.core.display.HTML object>"
      ]
     },
     "metadata": {},
     "output_type": "display_data"
    }
   ],
   "source": [
    "%%html\n",
    "<input type=\"checkbox\" name=\"checkbox1\" value=\"1\">체크박스1</input>\n",
    "<input type=\"checkbox\" name=\"checkbox1\" value=\"2\">체크박스2</input>"
   ]
  },
  {
   "cell_type": "markdown",
   "metadata": {
    "slideshow": {
     "slide_type": "slide"
    }
   },
   "source": [
    "##### 5.5.5 select, option\n",
    "- 옵션선택 드랍다운 태그"
   ]
  },
  {
   "cell_type": "code",
   "execution_count": 17,
   "metadata": {},
   "outputs": [
    {
     "data": {
      "text/html": [
       "<select>\n",
       "    <option value=\"1\">option 1</option>\n",
       "    <option value=\"2\">option 2</option>\n",
       "    <option value=\"3\">option 3</option>\n",
       "</select>\n"
      ],
      "text/plain": [
       "<IPython.core.display.HTML object>"
      ]
     },
     "metadata": {},
     "output_type": "display_data"
    }
   ],
   "source": [
    "%%html\n",
    "<select>\n",
    "    <option value=\"1\">option 1</option>\n",
    "    <option value=\"2\">option 2</option>\n",
    "    <option value=\"3\">option 3</option>\n",
    "</select>"
   ]
  },
  {
   "cell_type": "markdown",
   "metadata": {
    "slideshow": {
     "slide_type": "slide"
    }
   },
   "source": [
    "#### 5.6 textarea\n",
    "- 여러줄 입력 가능한 태그"
   ]
  },
  {
   "cell_type": "code",
   "execution_count": 18,
   "metadata": {},
   "outputs": [
    {
     "data": {
      "text/html": [
       "<textarea name=\"name\" rows=\"4\" cols=\"30\" ></textarea>\n"
      ],
      "text/plain": [
       "<IPython.core.display.HTML object>"
      ]
     },
     "metadata": {},
     "output_type": "display_data"
    }
   ],
   "source": [
    "%%html\n",
    "<textarea name=\"name\" rows=\"4\" cols=\"30\" ></textarea>"
   ]
  },
  {
   "cell_type": "markdown",
   "metadata": {
    "slideshow": {
     "slide_type": "slide"
    }
   },
   "source": [
    "#### 5.7 button\n",
    "- 마우스 클릭을 입력받는 버튼 태그"
   ]
  },
  {
   "cell_type": "code",
   "execution_count": 19,
   "metadata": {},
   "outputs": [
    {
     "data": {
      "text/html": [
       "<button type=\"button\">Click</button>\n"
      ],
      "text/plain": [
       "<IPython.core.display.HTML object>"
      ]
     },
     "metadata": {},
     "output_type": "display_data"
    }
   ],
   "source": [
    "%%html\n",
    "<input type=\"button\">Click</input>"
   ]
  },
  {
   "cell_type": "markdown",
   "metadata": {
    "slideshow": {
     "slide_type": "slide"
    }
   },
   "source": [
    "- button이라는 태그가 따로 있다."
   ]
  },
  {
   "cell_type": "code",
   "execution_count": 9,
   "metadata": {},
   "outputs": [
    {
     "data": {
      "text/html": [
       "<button>Click</button>"
      ],
      "text/plain": [
       "<IPython.core.display.HTML object>"
      ]
     },
     "metadata": {},
     "output_type": "display_data"
    }
   ],
   "source": [
    "%%html\n",
    "<button>Click</button>"
   ]
  }
 ],
 "metadata": {
  "celltoolbar": "Slideshow",
  "kernelspec": {
   "display_name": "Python 3",
   "language": "python",
   "name": "python3"
  },
  "language_info": {
   "codemirror_mode": {
    "name": "ipython",
    "version": 3
   },
   "file_extension": ".py",
   "mimetype": "text/x-python",
   "name": "python",
   "nbconvert_exporter": "python",
   "pygments_lexer": "ipython3",
   "version": "3.7.4"
  }
 },
 "nbformat": 4,
 "nbformat_minor": 2
}
