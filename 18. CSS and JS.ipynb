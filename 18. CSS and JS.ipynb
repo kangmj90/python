{
 "cells": [
  {
   "cell_type": "markdown",
   "metadata": {
    "slideshow": {
     "slide_type": "slide"
    }
   },
   "source": [
    "# CSS and JS"
   ]
  },
  {
   "cell_type": "markdown",
   "metadata": {
    "slideshow": {
     "slide_type": "slide"
    }
   },
   "source": [
    "## CSS(Cascading Style Sheet)\n",
    "- 선택자(selector), 속성(properties), 값(values)의 세 부분으로 이루어진 문서\n",
    "- ```div {\n",
    "    font-size: 20px;\n",
    "}\n",
    "#hi {\n",
    "    color: red;\n",
    "}\n",
    ".wrapper {\n",
    "    background-color: black;\n",
    "}```"
   ]
  },
  {
   "cell_type": "markdown",
   "metadata": {
    "slideshow": {
     "slide_type": "slide"
    }
   },
   "source": [
    "### 1. 선택자(selector)\n",
    "- HTML에 스타일을 적용하기 위해 HTML의 특정한 요소를 선택하는 사인\n",
    "- tag, #(id), .(class), >(직계하위), ` `(하위 모든),  *(모든)"
   ]
  },
  {
   "cell_type": "markdown",
   "metadata": {
    "slideshow": {
     "slide_type": "slide"
    }
   },
   "source": [
    "#### 1.1. Element Selector\n",
    "- 엘리먼트를 이용하여 선택할때 사용\n",
    "- css selector로 `div`를 사용하면 가장 위에 있는 dss1이 선택\n",
    "```\n",
    "<div>dss1</div>\n",
    "<p>dss2</p>\n",
    "<span>dss3</span>\n",
    "```"
   ]
  },
  {
   "cell_type": "markdown",
   "metadata": {
    "slideshow": {
     "slide_type": "slide"
    }
   },
   "source": [
    "#### 1.2. ID Selector\n",
    "- 아이디를 이용하여 선택할때 사용\n",
    "- 아이디를 선택할때는 `#(아이디 이름)`으로 선택\n",
    "- css selector로 `#ds2`를 사용하면 dss2가 선택\n",
    "- 여러개를 선택할때는 ,로 구분\n",
    "- css selector로 `#ds2, #ds3`를 사용하면 dss2와 dss3가 선택\n",
    "```\n",
    "<p id=\"ds1\">dss1</p>\n",
    "<p id=\"ds2\">dss2</p>\n",
    "<p id=\"ds3\">dss3</p>\n",
    "```"
   ]
  },
  {
   "cell_type": "markdown",
   "metadata": {
    "slideshow": {
     "slide_type": "slide"
    }
   },
   "source": [
    "#### 1.3. Class Selector\n",
    "- 클래스를 이용하여 선택할때 사용\n",
    "- 클래스를 선택할때는 `.(클래스 이름)`으로 선택\n",
    "- 엘리멘트를 그루핑하여 스타일을 적용할때 사용\n",
    "- css selector로 `.ds2`를 사용하면 dss2, dss3가 선택\n",
    "```\n",
    "<p class=\"ds1\">dss1</p>\n",
    "<p class=\"ds2\">dss2</p>\n",
    "<p class=\"ds2\">dss3</p>\n",
    "```"
   ]
  },
  {
   "cell_type": "markdown",
   "metadata": {
    "slideshow": {
     "slide_type": "slide"
    }
   },
   "source": [
    "#### 1.4. not Selector\n",
    "- 셀렉터로 엘리먼트를 하나만 제거하고 싶을때 사용\n",
    "- not을 사용하여 셀렉트 할때에는 `:not(선택에서 제거하고 싶은 셀렉터)`으로 선택\n",
    "- 아래의 HTML에서 `.ds:not(.ds2)`으로 셀렉트 하면 class가 ds2인 클래스를 제외 하고 나머지 ds1, ds3, ds4, ds5가 선택\n",
    "```\n",
    "<p class=\"ds ds1\">ds1</p>\n",
    "<p class=\"ds ds2\">ds2</p>\n",
    "<p class=\"ds ds3\">ds3</p>\n",
    "<p class=\"ds ds4\">ds4</p>\n",
    "<p class=\"ds ds5\">ds5</p>\n",
    "```"
   ]
  },
  {
   "cell_type": "markdown",
   "metadata": {
    "slideshow": {
     "slide_type": "slide"
    }
   },
   "source": [
    "#### 1.5. first-child Selector\n",
    "- 엘리먼트로 감싸져있는 가장 처음 엘리먼트가 설정한 셀렉터와 일치하면 선택\n",
    "- `.ds:first-child`로 설정하면 ds1과 ds3가 선택\n",
    "```\n",
    "<body>\n",
    "    <p class=\"ds\" id=\"ds1\">ds1</p>\n",
    "    <p class=\"sc\" id=\"ds2\">ds2</p>\n",
    "\n",
    "    <div class=\"ds\">\n",
    "        <p class=\"ds ds1\">ds3</p>\n",
    "        <p class=\"ds ds2\">ds4</p>\n",
    "        <p class=\"ds ds3\">ds5</p>\n",
    "        <p class=\"ds ds4\">ds6</p>\n",
    "        <p class=\"ds ds5\">ds7</p>\n",
    "    </div>\n",
    "</body>\n",
    "```\n",
    "- `div.ds` 엘리먼트의 가장 처음 `.ds`를 선택하고 싶으면 `div.ds > .ds:first-child`로 셀렉터를 작성"
   ]
  },
  {
   "cell_type": "markdown",
   "metadata": {
    "slideshow": {
     "slide_type": "slide"
    }
   },
   "source": [
    "#### 1.6. last-child Selector\n",
    "- 엘리먼트로 감싸져있는 가장 마지막 엘리먼트가 설정한 셀렉터와 일치하면 선택\n",
    "- `.ds:last-child`로 `div.ds`가 선택되어 ds3~ds7이 선택\n",
    "```\n",
    "<body>\n",
    "    <p class=\"ds\" id=\"ds1\">ds1</p>\n",
    "    <p class=\"sc\" id=\"ds2\">ds2</p>\n",
    "\n",
    "    <div class=\"ds\">\n",
    "        <p class=\"ds ds1\">ds3</p>\n",
    "        <p class=\"ds ds2\">ds4</p>\n",
    "        <p class=\"ds ds3\">ds5</p>\n",
    "        <p class=\"ds ds4\">ds6</p>\n",
    "        <p class=\"ds ds5\">ds7</p>\n",
    "    </div>\n",
    "</body>\n",
    "```"
   ]
  },
  {
   "cell_type": "markdown",
   "metadata": {
    "slideshow": {
     "slide_type": "slide"
    }
   },
   "source": [
    "#### 1.7. nth-child Selector\n",
    "\n",
    "- 엘리먼트로 감싸져있는 n번째 엘리먼트가 설정한 셀렉터와 일치하면 선택\n",
    "- `.ds:nth-child(3), .ds:nth-child(4)`로 설정하면 ds4, ds5가 선택\n",
    "- `nth-child`의 ()안의 숫자는 가장 첫번째가 0이 아니라 1로 시작\n",
    "```\n",
    "<div class=\"wrap\">\n",
    "    <span class=\"ds\">ds2</span>\n",
    "    <p class=\"ds ds1\">ds3</p>\n",
    "    <p class=\"ds ds2\">ds4</p>\n",
    "    <p class=\"ds ds3\">ds5</p>\n",
    "    <p class=\"ds ds4\">ds6</p>\n",
    "    <p class=\"ds ds5\">ds7</p>\n",
    "</div>\n",
    "```\n",
    "- cf. nth-of-type"
   ]
  },
  {
   "cell_type": "markdown",
   "metadata": {
    "slideshow": {
     "slide_type": "slide"
    }
   },
   "source": [
    "#### 1.8. 모든 하위 depth(공백) Selector\n",
    "- 공백문자로 하위 엘리먼트를 셀렉트 했을때, 모든 하위 엘리먼트를 선택\n",
    "- `.contants h1`를 선택하면 inner_1, inner_2가 선택\n",
    "```\n",
    "<div class=\"contants\">\n",
    "    <h1>inner_1</h1>\n",
    "    <div class=\"txt\">\n",
    "        <h1>inner_2</h1>\n",
    "    </div>\n",
    "</div>\n",
    "```"
   ]
  },
  {
   "cell_type": "markdown",
   "metadata": {
    "slideshow": {
     "slide_type": "slide"
    }
   },
   "source": [
    "#### 1.9. 바로 아래 depth(>) Selector\n",
    "- `>`문자로 하위 엘리먼트를 셀렉트 했을때, 바로 아래 엘리먼트를 선택\n",
    "- `.contants > h1`를 선택하면 inner_1이 선택\n",
    "```\n",
    "<div class=\"contants\">\n",
    "    <h1>inner_1</h1>\n",
    "    <div class=\"txt\">\n",
    "        <h1>inner_2</h1>\n",
    "    </div>\n",
    "</div>\n",
    "```"
   ]
  },
  {
   "cell_type": "markdown",
   "metadata": {
    "slideshow": {
     "slide_type": "slide"
    }
   },
   "source": [
    "### 2. CSS의 선택방식\n",
    "- inline(태그에 직접작성), embedded(내장), external file(외부에서 불러오기)"
   ]
  },
  {
   "cell_type": "markdown",
   "metadata": {
    "slideshow": {
     "slide_type": "slide"
    }
   },
   "source": [
    "### 3. 속성(properties)과 값(Values)\n",
    "- 어떤 태그와 요소에 어떤 속성과 값이 있는지 등은 미리 검색을 통하여 알아야 한다.\n",
    "- CSS 블록요소의 기본 Box model에는 margin, border, padding, content속성이 있다.\n",
    "- 개별속성 vs 단축속성\n",
    "    - 개별속성\n",
    "        - ```margin-top: 10px;\n",
    "        margin-right: 20px;\n",
    "        margin-bottom: 10px;\n",
    "        margin-left: 20px;\n",
    "        ```\n",
    "    - 단축속성1:\n",
    "        - `margin: 10px 20px 10px 20px`\n",
    "    - 단축속성2:\n",
    "        - `margin: 10px 20px`\n",
    "    - 단축속성3\n",
    "        - `margin: 20px`"
   ]
  },
  {
   "cell_type": "markdown",
   "metadata": {},
   "source": [
    "### 4. pseudo-classes and pseudo-elements\n",
    "- pseudo-classes\n",
    "    - 선택자(selector)에 추가되어 선택될 요소(element)의 특별한 상태를 지정하는 class\n",
    "    - ex) :hover\n",
    "- pseudo-elements\n",
    "    - 선택자(selector)에 추가되지만 특별한 상태를 기술하는 대신, 문서의 특정 부분을 styling\n",
    "    - ex) ::after, ::before"
   ]
  },
  {
   "cell_type": "markdown",
   "metadata": {},
   "source": [
    "### 5. CSS reset and normalize\n",
    "- 브라우저마다 제공하는 default 유저 에이전트 스타일\n",
    "- 기본 스타일이 유용할 때도 있지만, 해당 값을 원하지 않아서 매번 새롭게 선언해줘야 할 때도 있습니다. 또, 브라우저들이 모두 일관된 스타일을 제공하지 않는 경우도 있어 예측하기에도 쉽지 않습니다. 그래서 모든 브라우저에서 통일된 화면을 볼 수 있도록 기본값을 초기화하는 방식이 생겨났는데요. 이를 CSS Reset이라고 부릅니다.\n",
    "- [Eric Meyer의 CSS reset](https://cdnjs.com/libraries/meyer-reset)\n",
    "- 다만 마지막 업데이트가 2011년에 있었던 만큼 오래된 자료이기도 하고, 유용한 스타일까지도 초기화를 하여 비효율을 초래할 수도 있다는 비판이 있습니다. 그래서 최근에는 필요한 부분만 초기화를 하여 사용하기도 하고, CSS Normalize라는 기법을 사용하기도 합니다.\n",
    "- normalize.css는 브라우저 에이전트 스타일의 오차를 줄이고, 브라우저가 가지고 있는 버그를 최소화하는 스타일을 재지정하는 방식의 오픈소스 프로젝트입니다. CSS Reset과는 다르게 기본값들을 최대한 보존하고 수정을 최소화했습니다. 또 코드를 보시면 주석이 달려 있기 때문에 필요한 크로스 브라우징 상황에서 해당 코드만 가져다가 사용할 수도 있습니다. normalize.css 코드를 파일로 저장해 HTML에 연결하여 사용할 수 있습니다.\n",
    "- [normalize.css](https://github.com/necolas/normalize.css/blob/master/normalize.css)"
   ]
  },
  {
   "cell_type": "markdown",
   "metadata": {
    "slideshow": {
     "slide_type": "slide"
    }
   },
   "source": [
    "## Chrome 개발자 도구"
   ]
  },
  {
   "cell_type": "markdown",
   "metadata": {},
   "source": [
    "## codesandbox.io"
   ]
  },
  {
   "cell_type": "markdown",
   "metadata": {
    "slideshow": {
     "slide_type": "slide"
    }
   },
   "source": [
    "## Javascript(JS)"
   ]
  },
  {
   "cell_type": "markdown",
   "metadata": {
    "slideshow": {
     "slide_type": "slide"
    }
   },
   "source": [
    "### 1. 기본프린트\n",
    "- `document.write()`\n",
    "- `consol.log()`"
   ]
  },
  {
   "cell_type": "markdown",
   "metadata": {
    "slideshow": {
     "slide_type": "slide"
    }
   },
   "source": [
    "### 2. 변수\n",
    "- var\n",
    "- let"
   ]
  },
  {
   "cell_type": "markdown",
   "metadata": {
    "slideshow": {
     "slide_type": "slide"
    }
   },
   "source": [
    "### 3. 연산자"
   ]
  },
  {
   "cell_type": "markdown",
   "metadata": {
    "slideshow": {
     "slide_type": "slide"
    }
   },
   "source": [
    "### 4. 조건문(if, switch)"
   ]
  },
  {
   "cell_type": "markdown",
   "metadata": {
    "slideshow": {
     "slide_type": "slide"
    }
   },
   "source": [
    "### 5. 함수\n",
    "- ```function fn1(a, b){\n",
    "    return 0;\n",
    "}\n",
    "const res = fn1(1, 2);\n",
    "console.log(res);\n",
    "```"
   ]
  },
  {
   "cell_type": "markdown",
   "metadata": {
    "slideshow": {
     "slide_type": "slide"
    }
   },
   "source": [
    "#### 5.1. template literal\n",
    "- &grave;`${변수명}`&grave; \n",
    "- \"hi\"+var+\"hi\"\n",
    "- `hi${var}hi`"
   ]
  },
  {
   "cell_type": "markdown",
   "metadata": {
    "slideshow": {
     "slide_type": "slide"
    }
   },
   "source": [
    "#### 5.2. 화살표 함수(arrow function)\n",
    "- ```const add = (a, b) => { return a + b; }```"
   ]
  },
  {
   "cell_type": "markdown",
   "metadata": {
    "slideshow": {
     "slide_type": "slide"
    }
   },
   "source": [
    "### 6. 객체\n",
    "- ```const obj = {키1:밸1, 키2:밸2, 키3:밸3}\n",
    "console.log(obj.키1)```"
   ]
  },
  {
   "cell_type": "markdown",
   "metadata": {
    "slideshow": {
     "slide_type": "slide"
    }
   },
   "source": [
    "#### 6.1. 비구조화 할당\n",
    "- ```const IronMan = {\n",
    "    name: \"ironman\",\n",
    "    actor: \"RDJ\",\n",
    "    alias: \"IronMan\"\n",
    "}\n",
    "function print(hero){\n",
    "    const { alias, name, actor } = hero;\n",
    "    console.log(alias+name+actor);\n",
    "}\n",
    "print(IronMan);\n",
    "}```"
   ]
  },
  {
   "cell_type": "markdown",
   "metadata": {
    "slideshow": {
     "slide_type": "slide"
    }
   },
   "source": [
    "#### 6.2. 객체 내 함수(익명함수)\n",
    "- ```\n",
    "const IronMan = {\n",
    "    name: \"ironman\",\n",
    "    actor: \"RDJ\",\n",
    "    alias: \"IronMan\",\n",
    "    say: function() {\n",
    "        console.log(\"I'm ironman\");\n",
    "    }\n",
    "}\n",
    "```"
   ]
  },
  {
   "cell_type": "markdown",
   "metadata": {
    "slideshow": {
     "slide_type": "slide"
    }
   },
   "source": [
    "#### 6.3. getter and setter\n",
    "const obj = {\n",
    "_a = 5,\n",
    "get a: function() {\n",
    "    console.log(_a);\n",
    "}\n",
    "obj.a = 5\n",
    "- `get`: 객체 내 변수를 읽어오는 메서드 제공\n",
    "- `set`: 객체 내 변수를 바꾸는 메서드 제공"
   ]
  },
  {
   "cell_type": "markdown",
   "metadata": {
    "slideshow": {
     "slide_type": "slide"
    }
   },
   "source": [
    "### 7. 반복문\n",
    "- for (let i=0;i<10;i++){}\n",
    "- while (){}\n",
    "- for (let val in obj){} # key받아오는 것\n",
    "- for (let val of obj){} # value받아오는 것\n",
    "- 배열.forEach(val => { console.log(val); });"
   ]
  }
 ],
 "metadata": {
  "celltoolbar": "Slideshow",
  "kernelspec": {
   "display_name": "Python 3",
   "language": "python",
   "name": "python3"
  },
  "language_info": {
   "codemirror_mode": {
    "name": "ipython",
    "version": 3
   },
   "file_extension": ".py",
   "mimetype": "text/x-python",
   "name": "python",
   "nbconvert_exporter": "python",
   "pygments_lexer": "ipython3",
   "version": "3.7.4"
  }
 },
 "nbformat": 4,
 "nbformat_minor": 2
}
